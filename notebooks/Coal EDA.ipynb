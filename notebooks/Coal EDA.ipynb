{
 "cells": [
  {
   "cell_type": "markdown",
   "metadata": {},
   "source": [
    "# Import Statements"
   ]
  },
  {
   "cell_type": "code",
   "execution_count": 2,
   "metadata": {},
   "outputs": [],
   "source": [
    "import os\n",
    "import pickle\n",
    "\n",
    "import numpy as np\n",
    "import pandas as pd\n",
    "import geopandas as gpd\n",
    "\n",
    "from shapely.ops import cascaded_union\n",
    "\n",
    "import matplotlib.pyplot as plt\n",
    "import geoplot\n",
    "import seaborn as sns\n",
    "import plotly.graph_objects as go"
   ]
  },
  {
   "cell_type": "markdown",
   "metadata": {},
   "source": [
    "# Load Data"
   ]
  },
  {
   "cell_type": "code",
   "execution_count": 3,
   "metadata": {},
   "outputs": [
    {
     "data": {
      "text/plain": [
       "'C:\\\\Users\\\\arjun\\\\Desktop\\\\davidson_lab\\\\india_RE_transition\\\\notebooks'"
      ]
     },
     "execution_count": 3,
     "metadata": {},
     "output_type": "execute_result"
    }
   ],
   "source": [
    "os.getcwd()"
   ]
  },
  {
   "cell_type": "code",
   "execution_count": 4,
   "metadata": {},
   "outputs": [],
   "source": [
    "os.chdir('../data/tables')"
   ]
  },
  {
   "cell_type": "code",
   "execution_count": 5,
   "metadata": {},
   "outputs": [
    {
     "data": {
      "text/html": [
       "<div>\n",
       "<style scoped>\n",
       "    .dataframe tbody tr th:only-of-type {\n",
       "        vertical-align: middle;\n",
       "    }\n",
       "\n",
       "    .dataframe tbody tr th {\n",
       "        vertical-align: top;\n",
       "    }\n",
       "\n",
       "    .dataframe thead th {\n",
       "        text-align: right;\n",
       "    }\n",
       "</style>\n",
       "<table border=\"1\" class=\"dataframe\">\n",
       "  <thead>\n",
       "    <tr style=\"text-align: right;\">\n",
       "      <th></th>\n",
       "      <th>State/UT Name</th>\n",
       "      <th>District Name</th>\n",
       "      <th>Total Coal mining jobs (Direct + Indirect Jobs)</th>\n",
       "      <th>Total Power plant  jobs (Direct + Indirect Jobs)</th>\n",
       "      <th>Total Coal Jobs (Direct + Indirect)</th>\n",
       "      <th>Total Pensioners</th>\n",
       "      <th>DMF USD (in Million $)</th>\n",
       "      <th>Mining CSR (in lakhs)</th>\n",
       "      <th>CSR Power Plant CSR (in lakhs)</th>\n",
       "      <th>CSR total (in lakhs)</th>\n",
       "      <th>CSR ( in cr)</th>\n",
       "      <th>CSR  USD (in Million $)</th>\n",
       "    </tr>\n",
       "  </thead>\n",
       "  <tbody>\n",
       "    <tr>\n",
       "      <th>0</th>\n",
       "      <td>Jharkhand</td>\n",
       "      <td>Dhanbad</td>\n",
       "      <td>489394.0</td>\n",
       "      <td>4508.0</td>\n",
       "      <td>493901</td>\n",
       "      <td>70301</td>\n",
       "      <td>37</td>\n",
       "      <td>6688.14</td>\n",
       "      <td>0.00</td>\n",
       "      <td>6688.14</td>\n",
       "      <td>66.8814</td>\n",
       "      <td>9.363396</td>\n",
       "    </tr>\n",
       "    <tr>\n",
       "      <th>1</th>\n",
       "      <td>Chhattisgarh</td>\n",
       "      <td>Korba</td>\n",
       "      <td>363591.0</td>\n",
       "      <td>23397.0</td>\n",
       "      <td>386988</td>\n",
       "      <td>14861</td>\n",
       "      <td>62</td>\n",
       "      <td>111.81</td>\n",
       "      <td>954.75</td>\n",
       "      <td>1066.56</td>\n",
       "      <td>10.6656</td>\n",
       "      <td>1.493184</td>\n",
       "    </tr>\n",
       "    <tr>\n",
       "      <th>2</th>\n",
       "      <td>West Bengal</td>\n",
       "      <td>Paschim Bardhaman</td>\n",
       "      <td>273408.0</td>\n",
       "      <td>4848.0</td>\n",
       "      <td>278256</td>\n",
       "      <td>65447</td>\n",
       "      <td>1</td>\n",
       "      <td>554.61</td>\n",
       "      <td>0.00</td>\n",
       "      <td>554.61</td>\n",
       "      <td>5.5461</td>\n",
       "      <td>0.776454</td>\n",
       "    </tr>\n",
       "    <tr>\n",
       "      <th>3</th>\n",
       "      <td>Jharkhand</td>\n",
       "      <td>Chatra</td>\n",
       "      <td>226763.0</td>\n",
       "      <td>0.0</td>\n",
       "      <td>226763</td>\n",
       "      <td>1996</td>\n",
       "      <td>15</td>\n",
       "      <td>671.49</td>\n",
       "      <td>0.00</td>\n",
       "      <td>671.49</td>\n",
       "      <td>6.7149</td>\n",
       "      <td>0.940086</td>\n",
       "    </tr>\n",
       "    <tr>\n",
       "      <th>4</th>\n",
       "      <td>Odisha</td>\n",
       "      <td>Angul</td>\n",
       "      <td>175229.0</td>\n",
       "      <td>18909.0</td>\n",
       "      <td>194139</td>\n",
       "      <td>6613</td>\n",
       "      <td>47</td>\n",
       "      <td>11975.64</td>\n",
       "      <td>1180.00</td>\n",
       "      <td>13155.64</td>\n",
       "      <td>131.5564</td>\n",
       "      <td>18.417896</td>\n",
       "    </tr>\n",
       "  </tbody>\n",
       "</table>\n",
       "</div>"
      ],
      "text/plain": [
       "  State/UT Name      District Name  \\\n",
       "0     Jharkhand            Dhanbad   \n",
       "1  Chhattisgarh              Korba   \n",
       "2   West Bengal  Paschim Bardhaman   \n",
       "3     Jharkhand             Chatra   \n",
       "4        Odisha              Angul   \n",
       "\n",
       "   Total Coal mining jobs (Direct + Indirect Jobs)  \\\n",
       "0                                         489394.0   \n",
       "1                                         363591.0   \n",
       "2                                         273408.0   \n",
       "3                                         226763.0   \n",
       "4                                         175229.0   \n",
       "\n",
       "   Total Power plant  jobs (Direct + Indirect Jobs)  \\\n",
       "0                                            4508.0   \n",
       "1                                           23397.0   \n",
       "2                                            4848.0   \n",
       "3                                               0.0   \n",
       "4                                           18909.0   \n",
       "\n",
       "   Total Coal Jobs (Direct + Indirect)  Total Pensioners   \\\n",
       "0                               493901              70301   \n",
       "1                               386988              14861   \n",
       "2                               278256              65447   \n",
       "3                               226763               1996   \n",
       "4                               194139               6613   \n",
       "\n",
       "   DMF USD (in Million $)  Mining CSR (in lakhs)  \\\n",
       "0                      37                6688.14   \n",
       "1                      62                 111.81   \n",
       "2                       1                 554.61   \n",
       "3                      15                 671.49   \n",
       "4                      47               11975.64   \n",
       "\n",
       "   CSR Power Plant CSR (in lakhs)  CSR total (in lakhs)  CSR ( in cr)  \\\n",
       "0                            0.00               6688.14       66.8814   \n",
       "1                          954.75               1066.56       10.6656   \n",
       "2                            0.00                554.61        5.5461   \n",
       "3                            0.00                671.49        6.7149   \n",
       "4                         1180.00              13155.64      131.5564   \n",
       "\n",
       "   CSR  USD (in Million $)  \n",
       "0                 9.363396  \n",
       "1                 1.493184  \n",
       "2                 0.776454  \n",
       "3                 0.940086  \n",
       "4                18.417896  "
      ]
     },
     "execution_count": 5,
     "metadata": {},
     "output_type": "execute_result"
    }
   ],
   "source": [
    "district_emp = pd.read_csv('district_emp_data_full.csv')\n",
    "district_emp = district_emp.replace(\n",
    "    {'Jharkhand ': 'Jharkhand',\n",
    "     'Maharashtra ': 'Maharashtra',\n",
    "     'Orissa': 'Odisha',\n",
    "     'Telangana ': 'Telangana'\n",
    "    }\n",
    ")\n",
    "district_emp.head()"
   ]
  },
  {
   "cell_type": "code",
   "execution_count": 6,
   "metadata": {
    "scrolled": false
   },
   "outputs": [
    {
     "data": {
      "text/html": [
       "<div>\n",
       "<style scoped>\n",
       "    .dataframe tbody tr th:only-of-type {\n",
       "        vertical-align: middle;\n",
       "    }\n",
       "\n",
       "    .dataframe tbody tr th {\n",
       "        vertical-align: top;\n",
       "    }\n",
       "\n",
       "    .dataframe thead th {\n",
       "        text-align: right;\n",
       "    }\n",
       "</style>\n",
       "<table border=\"1\" class=\"dataframe\">\n",
       "  <thead>\n",
       "    <tr style=\"text-align: right;\">\n",
       "      <th></th>\n",
       "      <th>SL No.</th>\n",
       "      <th>State/UT Name</th>\n",
       "      <th>District Name</th>\n",
       "      <th>Mine Name</th>\n",
       "      <th>Coal/ Lignite Production (MT) (2019-2020)</th>\n",
       "      <th>Coal Mine Owner Name</th>\n",
       "      <th>Coal/Lignite</th>\n",
       "      <th>Govt Owned/Private</th>\n",
       "      <th>Type of Mine (OC/UG/Mixed)</th>\n",
       "      <th>Latitude</th>\n",
       "      <th>Longitude</th>\n",
       "      <th>Source</th>\n",
       "      <th>Accuracy (exact vs approximate)</th>\n",
       "      <th>Unnamed: 13</th>\n",
       "    </tr>\n",
       "  </thead>\n",
       "  <tbody>\n",
       "    <tr>\n",
       "      <th>0</th>\n",
       "      <td>1</td>\n",
       "      <td>West Bengal</td>\n",
       "      <td>Paschim Bardhaman</td>\n",
       "      <td>Ningah Colliery</td>\n",
       "      <td>0.01</td>\n",
       "      <td>ECL</td>\n",
       "      <td>Coal</td>\n",
       "      <td>G</td>\n",
       "      <td>UG</td>\n",
       "      <td>23.6743</td>\n",
       "      <td>87.0333</td>\n",
       "      <td>Google Maps: https://www.google.com/maps/place...</td>\n",
       "      <td>Exact</td>\n",
       "      <td>NaN</td>\n",
       "    </tr>\n",
       "    <tr>\n",
       "      <th>1</th>\n",
       "      <td>2</td>\n",
       "      <td>West Bengal</td>\n",
       "      <td>Paschim Bardhaman</td>\n",
       "      <td>Jhanjhara Project Colly</td>\n",
       "      <td>3.50</td>\n",
       "      <td>ECL</td>\n",
       "      <td>Coal</td>\n",
       "      <td>G</td>\n",
       "      <td>UG</td>\n",
       "      <td>23.6680</td>\n",
       "      <td>87.2963</td>\n",
       "      <td>Google Maps: https://www.google.ca/maps/place/...</td>\n",
       "      <td>Exact</td>\n",
       "      <td>NaN</td>\n",
       "    </tr>\n",
       "    <tr>\n",
       "      <th>2</th>\n",
       "      <td>3</td>\n",
       "      <td>West Bengal</td>\n",
       "      <td>Paschim Bardhaman</td>\n",
       "      <td>MAOHUSUDANPUR 7 PIT &amp;\\nINCLINE</td>\n",
       "      <td>0.04</td>\n",
       "      <td>ECL</td>\n",
       "      <td>Coal</td>\n",
       "      <td>G</td>\n",
       "      <td>UG</td>\n",
       "      <td>23.6338</td>\n",
       "      <td>87.2037</td>\n",
       "      <td>Google Maps: https://www.google.com/maps/place...</td>\n",
       "      <td>Approximate: Madhusudanpur Colliery Agent Office</td>\n",
       "      <td>NaN</td>\n",
       "    </tr>\n",
       "    <tr>\n",
       "      <th>3</th>\n",
       "      <td>4</td>\n",
       "      <td>West Bengal</td>\n",
       "      <td>Paschim Bardhaman</td>\n",
       "      <td>PARASCOLE(EAST)</td>\n",
       "      <td>0.10</td>\n",
       "      <td>ECL</td>\n",
       "      <td>Coal</td>\n",
       "      <td>G</td>\n",
       "      <td>UG</td>\n",
       "      <td>23.6377</td>\n",
       "      <td>87.1951</td>\n",
       "      <td>Google Maps: https://www.google.com/maps/place...</td>\n",
       "      <td>Approximate: center coordinates of eastern Par...</td>\n",
       "      <td>NaN</td>\n",
       "    </tr>\n",
       "    <tr>\n",
       "      <th>4</th>\n",
       "      <td>5</td>\n",
       "      <td>West Bengal</td>\n",
       "      <td>Paschim Bardhaman</td>\n",
       "      <td>PARASCOLE(WEST)</td>\n",
       "      <td>0.07</td>\n",
       "      <td>ECL</td>\n",
       "      <td>Coal</td>\n",
       "      <td>G</td>\n",
       "      <td>UG</td>\n",
       "      <td>23.6405</td>\n",
       "      <td>87.1855</td>\n",
       "      <td>Google Maps: https://www.google.com/maps/place...</td>\n",
       "      <td>Approximate: center coordinates of western Par...</td>\n",
       "      <td>NaN</td>\n",
       "    </tr>\n",
       "  </tbody>\n",
       "</table>\n",
       "</div>"
      ],
      "text/plain": [
       "   SL No. State/UT Name      District Name                       Mine Name  \\\n",
       "0       1   West Bengal  Paschim Bardhaman                Ningah Colliery    \n",
       "1       2   West Bengal  Paschim Bardhaman         Jhanjhara Project Colly   \n",
       "2       3   West Bengal  Paschim Bardhaman  MAOHUSUDANPUR 7 PIT &\\nINCLINE   \n",
       "3       4   West Bengal  Paschim Bardhaman                PARASCOLE(EAST)    \n",
       "4       5   West Bengal  Paschim Bardhaman                PARASCOLE(WEST)    \n",
       "\n",
       "   Coal/ Lignite Production (MT) (2019-2020) Coal Mine Owner Name  \\\n",
       "0                                       0.01                  ECL   \n",
       "1                                       3.50                  ECL   \n",
       "2                                       0.04                  ECL   \n",
       "3                                       0.10                  ECL   \n",
       "4                                       0.07                  ECL   \n",
       "\n",
       "  Coal/Lignite Govt Owned/Private Type of Mine (OC/UG/Mixed)  Latitude   \\\n",
       "0         Coal                  G                         UG    23.6743   \n",
       "1         Coal                  G                         UG    23.6680   \n",
       "2         Coal                  G                         UG    23.6338   \n",
       "3         Coal                  G                         UG    23.6377   \n",
       "4         Coal                  G                         UG    23.6405   \n",
       "\n",
       "   Longitude                                              Source  \\\n",
       "0     87.0333  Google Maps: https://www.google.com/maps/place...   \n",
       "1     87.2963  Google Maps: https://www.google.ca/maps/place/...   \n",
       "2     87.2037  Google Maps: https://www.google.com/maps/place...   \n",
       "3     87.1951  Google Maps: https://www.google.com/maps/place...   \n",
       "4     87.1855  Google Maps: https://www.google.com/maps/place...   \n",
       "\n",
       "                     Accuracy (exact vs approximate)  Unnamed: 13  \n",
       "0                                              Exact          NaN  \n",
       "1                                              Exact          NaN  \n",
       "2   Approximate: Madhusudanpur Colliery Agent Office          NaN  \n",
       "3  Approximate: center coordinates of eastern Par...          NaN  \n",
       "4  Approximate: center coordinates of western Par...          NaN  "
      ]
     },
     "execution_count": 6,
     "metadata": {},
     "output_type": "execute_result"
    }
   ],
   "source": [
    "# https://dataverse.harvard.edu/dataset.xhtml?persistentId=doi:10.7910/DVN/TDEK8O&version=1.0\n",
    "pai_coal_mines = pd.read_csv('pai_coal_mines.csv')\n",
    "pai_coal_mines = pai_coal_mines.replace(\n",
    "    {'Jharkhand ': 'Jharkhand',\n",
    "     'Maharashtra ': 'Maharashtra',\n",
    "     'Orissa': 'Odisha',\n",
    "     'Telangana ': 'Telangana'\n",
    "    }\n",
    ")\n",
    "pai_coal_mines.head()"
   ]
  },
  {
   "cell_type": "code",
   "execution_count": 7,
   "metadata": {},
   "outputs": [
    {
     "data": {
      "text/html": [
       "<div>\n",
       "<style scoped>\n",
       "    .dataframe tbody tr th:only-of-type {\n",
       "        vertical-align: middle;\n",
       "    }\n",
       "\n",
       "    .dataframe tbody tr th {\n",
       "        vertical-align: top;\n",
       "    }\n",
       "\n",
       "    .dataframe thead th {\n",
       "        text-align: right;\n",
       "    }\n",
       "</style>\n",
       "<table border=\"1\" class=\"dataframe\">\n",
       "  <thead>\n",
       "    <tr style=\"text-align: right;\">\n",
       "      <th></th>\n",
       "      <th>Plant</th>\n",
       "      <th>State</th>\n",
       "      <th>Status</th>\n",
       "      <th>Latitude</th>\n",
       "      <th>Longitude</th>\n",
       "      <th>Capacity (MW)</th>\n",
       "      <th>Annual CO2 (million tonnes / annum)</th>\n",
       "      <th>Plant Age</th>\n",
       "    </tr>\n",
       "  </thead>\n",
       "  <tbody>\n",
       "    <tr>\n",
       "      <th>508</th>\n",
       "      <td>Balaji Cement power station</td>\n",
       "      <td>Andhra Pradesh</td>\n",
       "      <td>operating</td>\n",
       "      <td>16.283333</td>\n",
       "      <td>81.216667</td>\n",
       "      <td>35.0</td>\n",
       "      <td>0.2</td>\n",
       "      <td>12.0</td>\n",
       "    </tr>\n",
       "    <tr>\n",
       "      <th>509</th>\n",
       "      <td>Bander power station</td>\n",
       "      <td>Andhra Pradesh</td>\n",
       "      <td>operating</td>\n",
       "      <td>14.351195</td>\n",
       "      <td>80.143086</td>\n",
       "      <td>660.0</td>\n",
       "      <td>2.5</td>\n",
       "      <td>6.0</td>\n",
       "    </tr>\n",
       "    <tr>\n",
       "      <th>511</th>\n",
       "      <td>Bhadradri power station</td>\n",
       "      <td>Telangana</td>\n",
       "      <td>operating</td>\n",
       "      <td>18.027488</td>\n",
       "      <td>80.735645</td>\n",
       "      <td>270.0</td>\n",
       "      <td>1.3</td>\n",
       "      <td>1.0</td>\n",
       "    </tr>\n",
       "    <tr>\n",
       "      <th>515</th>\n",
       "      <td>Dr Narla Tata Rao power station</td>\n",
       "      <td>Andhra Pradesh</td>\n",
       "      <td>operating</td>\n",
       "      <td>16.598490</td>\n",
       "      <td>80.536585</td>\n",
       "      <td>210.0</td>\n",
       "      <td>1.2</td>\n",
       "      <td>42.0</td>\n",
       "    </tr>\n",
       "    <tr>\n",
       "      <th>522</th>\n",
       "      <td>East Godavari Mill power station</td>\n",
       "      <td>Andhra Pradesh</td>\n",
       "      <td>operating</td>\n",
       "      <td>17.300117</td>\n",
       "      <td>82.614386</td>\n",
       "      <td>34.0</td>\n",
       "      <td>0.2</td>\n",
       "      <td>15.0</td>\n",
       "    </tr>\n",
       "  </tbody>\n",
       "</table>\n",
       "</div>"
      ],
      "text/plain": [
       "                                Plant           State     Status   Latitude  \\\n",
       "508       Balaji Cement power station  Andhra Pradesh  operating  16.283333   \n",
       "509              Bander power station  Andhra Pradesh  operating  14.351195   \n",
       "511           Bhadradri power station       Telangana  operating  18.027488   \n",
       "515   Dr Narla Tata Rao power station  Andhra Pradesh  operating  16.598490   \n",
       "522  East Godavari Mill power station  Andhra Pradesh  operating  17.300117   \n",
       "\n",
       "     Longitude  Capacity (MW)  Annual CO2 (million tonnes / annum)  Plant Age  \n",
       "508  81.216667           35.0                                  0.2       12.0  \n",
       "509  80.143086          660.0                                  2.5        6.0  \n",
       "511  80.735645          270.0                                  1.3        1.0  \n",
       "515  80.536585          210.0                                  1.2       42.0  \n",
       "522  82.614386           34.0                                  0.2       15.0  "
      ]
     },
     "execution_count": 7,
     "metadata": {},
     "output_type": "execute_result"
    }
   ],
   "source": [
    "plants = pd.read_csv(\"Global-Coal-Plant-Tracker-Jan-2022.csv\", encoding=\"ISO-8859-1\")\n",
    "plants = plants[plants['Country'] == 'India']\n",
    "plants = plants[plants['Latitude'].isna() == False]\n",
    "plants = plants[plants['Longitude'].isna() == False]\n",
    "plants = plants[plants['Status'].isin(['operating'])] \n",
    "plants = plants.drop_duplicates('ParentID')\n",
    "plants = plants[['Plant', 'Subnational unit (province, state)', 'Status', 'Latitude', 'Longitude', \n",
    "                 'Capacity (MW)', 'Annual CO2 (million tonnes / annum)', 'Year']]\n",
    "plants = plants.rename(columns={'Subnational unit (province, state)': 'State', 'Year': 'Plant Age'})\n",
    "plants['Capacity (MW)'] = plants['Capacity (MW)'].astype(float)\n",
    "plants['Plant Age'] = plants['Plant Age'].apply(lambda x: 2021 - float(x))\n",
    "plants = plants.replace(\n",
    "    {'Madhya Pradesh / Uttar Pradesh': 'Madhya Pradesh',\n",
    "     'Punjab state': 'Punjab',\n",
    "     'Uttar Pradesh / Madhya Pradesh': 'Uttar Pradesh'\n",
    "    }\n",
    ")\n",
    "plants.head()"
   ]
  },
  {
   "cell_type": "code",
   "execution_count": null,
   "metadata": {},
   "outputs": [],
   "source": []
  },
  {
   "cell_type": "code",
   "execution_count": 10,
   "metadata": {},
   "outputs": [],
   "source": [
    "os.chdir('../pickle')"
   ]
  },
  {
   "cell_type": "code",
   "execution_count": 11,
   "metadata": {},
   "outputs": [],
   "source": [
    "# district data\n",
    "file = open(\"districts.pickle\",'rb')\n",
    "districts = pickle.load(file)\n",
    "file.close()"
   ]
  },
  {
   "cell_type": "code",
   "execution_count": 20,
   "metadata": {
    "scrolled": true
   },
   "outputs": [
    {
     "data": {
      "text/plain": [
       "0          Nainital\n",
       "1          Dehradun\n",
       "2            Almora\n",
       "3         Champawat\n",
       "4        Uttarkashi\n",
       "           ...     \n",
       "687      Wanaparthy\n",
       "688       Vikarabad\n",
       "689    Mahabubnagar\n",
       "690          Kargil\n",
       "691    Leh (Ladakh)\n",
       "Name: District Name, Length: 692, dtype: object"
      ]
     },
     "execution_count": 20,
     "metadata": {},
     "output_type": "execute_result"
    }
   ],
   "source": [
    "districts['District Name']"
   ]
  },
  {
   "cell_type": "code",
   "execution_count": 24,
   "metadata": {},
   "outputs": [
    {
     "data": {
      "text/plain": [
       "640"
      ]
     },
     "execution_count": 24,
     "metadata": {},
     "output_type": "execute_result"
    }
   ],
   "source": [
    "692 - 52"
   ]
  },
  {
   "cell_type": "code",
   "execution_count": 27,
   "metadata": {
    "scrolled": true
   },
   "outputs": [
    {
     "data": {
      "text/plain": [
       "array([ 5, 13, 13,  2,  2,  3,  6, 14,  1,  2,  2,  1, 14, 26,  4, 16,  3,\n",
       "        1, 51,  2,  2, 10,  6,  9,  1,  1,  3, 15, 10,  3,  3, 19,  2, 17,\n",
       "        2,  2, 65, 14,  2, 10, 19,  4,  3,  7,  7,  3,  5,  3, 10,  3,  7,\n",
       "       11], dtype=int64)"
      ]
     },
     "execution_count": 27,
     "metadata": {},
     "output_type": "execute_result"
    }
   ],
   "source": [
    "pai_coal_mines.groupby('District Name').count()['SL No.'].values"
   ]
  },
  {
   "cell_type": "markdown",
   "metadata": {},
   "source": [
    "# Missingness"
   ]
  },
  {
   "cell_type": "markdown",
   "metadata": {},
   "source": [
    "States missing from Pai Data"
   ]
  },
  {
   "cell_type": "code",
   "execution_count": null,
   "metadata": {
    "scrolled": true
   },
   "outputs": [],
   "source": [
    "set(plants['State']).union(set(mines['State, Province'])) - set(district_emp['State/UT Name'])"
   ]
  },
  {
   "cell_type": "code",
   "execution_count": null,
   "metadata": {
    "scrolled": true
   },
   "outputs": [],
   "source": [
    "set(mines['State, Province']) - set(pai_coal_mines['State/UT Name'])"
   ]
  },
  {
   "cell_type": "markdown",
   "metadata": {},
   "source": [
    "States missing from GEM data"
   ]
  },
  {
   "cell_type": "code",
   "execution_count": null,
   "metadata": {},
   "outputs": [],
   "source": [
    "set(district_emp['State/UT Name']) - set(plants['State']).union(set(mines['State, Province']))"
   ]
  },
  {
   "cell_type": "code",
   "execution_count": null,
   "metadata": {
    "scrolled": true
   },
   "outputs": [],
   "source": [
    "set(pai_coal_mines['State/UT Name']) - set(mines['State, Province'])"
   ]
  },
  {
   "cell_type": "markdown",
   "metadata": {},
   "source": [
    "# Visualize Inputs"
   ]
  },
  {
   "cell_type": "code",
   "execution_count": null,
   "metadata": {
    "scrolled": true
   },
   "outputs": [],
   "source": [
    "os.getcwd()"
   ]
  },
  {
   "cell_type": "code",
   "execution_count": null,
   "metadata": {},
   "outputs": [],
   "source": [
    "os.chdir('../../data/shapes')\n",
    "transmission = gpd.read_file('transmission.shp')"
   ]
  },
  {
   "cell_type": "code",
   "execution_count": null,
   "metadata": {},
   "outputs": [],
   "source": [
    "os.chdir('../pickle')\n",
    "file = open(\"polygons.pickle\", \"rb\")\n",
    "polygons = pickle.load(file)\n",
    "file.close()\n",
    "file = open(\"states.pickle\", \"rb\")\n",
    "states = pickle.load(file)\n",
    "file.close()"
   ]
  },
  {
   "cell_type": "code",
   "execution_count": null,
   "metadata": {
    "scrolled": false
   },
   "outputs": [],
   "source": [
    "os.chdir('../../outputs/plots')\n",
    "fig = geoplot.polyplot(\n",
    "    gpd.GeoSeries(polygons),\n",
    "    edgecolor='red',\n",
    "    facecolor='red',\n",
    "    figsize=(12, 12), \n",
    ")\n",
    "\n",
    "geoplot.polyplot(\n",
    "    gpd.GeoSeries(states),\n",
    "    edgecolor='gray',\n",
    "    ax=fig,\n",
    "    linewidth=0.75\n",
    ")\n",
    "\n",
    "geoplot.sankey(\n",
    "    gpd.GeoSeries(transmission['geometry']),\n",
    "    ax=fig\n",
    ")\n",
    "\n",
    "\n",
    "fig = fig.get_figure()\n",
    "fig.savefig('alternative_coal_incumbency_transmission')"
   ]
  }
 ],
 "metadata": {
  "kernelspec": {
   "display_name": "Python 3 (ipykernel)",
   "language": "python",
   "name": "python3"
  },
  "language_info": {
   "codemirror_mode": {
    "name": "ipython",
    "version": 3
   },
   "file_extension": ".py",
   "mimetype": "text/x-python",
   "name": "python",
   "nbconvert_exporter": "python",
   "pygments_lexer": "ipython3",
   "version": "3.7.13"
  }
 },
 "nbformat": 4,
 "nbformat_minor": 4
}
