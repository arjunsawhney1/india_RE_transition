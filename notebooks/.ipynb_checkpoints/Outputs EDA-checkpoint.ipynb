{
 "cells": [
  {
   "cell_type": "markdown",
   "metadata": {},
   "source": [
    "# Import Statements"
   ]
  },
  {
   "cell_type": "code",
   "execution_count": null,
   "metadata": {},
   "outputs": [],
   "source": [
    "import os\n",
    "os.chdir('../../geodata')\n",
    "\n",
    "import pandas as pd\n",
    "import numpy as np\n",
    "import pickle\n",
    "\n",
    "from shapely.ops import cascaded_union\n",
    "import geopandas as gpd\n",
    "\n",
    "import seaborn as sns\n",
    "import matplotlib.pyplot as plt\n",
    "import matplotlib.cm as cm\n",
    "import matplotlib.colors as mcolors\n",
    "import plotly.graph_objects as go\n",
    "import geoplot"
   ]
  },
  {
   "cell_type": "markdown",
   "metadata": {},
   "source": [
    "# Load from pickle"
   ]
  },
  {
   "cell_type": "code",
   "execution_count": null,
   "metadata": {},
   "outputs": [],
   "source": [
    "os.chdir('../india_RE_transition/data/pickle')\n",
    "\n",
    "# state shapes\n",
    "file = open(\"states.pickle\",'rb')\n",
    "states = pickle.load(file)\n",
    "file.close()\n",
    "# grid state shapes\n",
    "file = open(\"grid_states.pickle\",'rb')\n",
    "grid_states = pickle.load(file)\n",
    "file.close()\n",
    "# state heatmap data\n",
    "file = open(\"wind_cf_summary_30.pickle\",'rb')\n",
    "wind_cf_summary_30 = pickle.load(file)\n",
    "file.close()\n",
    "file = open(\"wind_lcoe_summary_30.pickle\",'rb')\n",
    "wind_lcoe_summary_30 = pickle.load(file)\n",
    "file.close()\n",
    "file = open(\"solar_cf_summary_30.pickle\",'rb')\n",
    "solar_cf_summary_30 = pickle.load(file)\n",
    "file.close()\n",
    "file = open(\"solar_lcoe_summary_30.pickle\",'rb')\n",
    "solar_lcoe_summary_30 = pickle.load(file)\n",
    "file.close()\n",
    "file = open(\"wind_cf_summary_47.pickle\",'rb')\n",
    "wind_cf_summary_47 = pickle.load(file)\n",
    "file.close()\n",
    "file = open(\"wind_lcoe_summary_47.pickle\",'rb')\n",
    "wind_lcoe_summary_47 = pickle.load(file)\n",
    "file.close()\n",
    "file = open(\"solar_cf_summary_47.pickle\",'rb')\n",
    "solar_cf_summary_47 = pickle.load(file)\n",
    "file.close()\n",
    "file = open(\"solar_lcoe_summary_47.pickle\",'rb')\n",
    "solar_lcoe_summary_47 = pickle.load(file)\n",
    "file.close()\n",
    "# grid heatmap data\n",
    "file = open(\"grid_wind_cf_summary_30.pickle\",'rb')\n",
    "grid_wind_cf_summary_30 = pickle.load(file)\n",
    "file.close()\n",
    "file = open(\"grid_wind_lcoe_summary_30.pickle\",'rb')\n",
    "grid_wind_lcoe_summary_30 = pickle.load(file)\n",
    "file.close()\n",
    "file = open(\"grid_solar_cf_summary_30.pickle\",'rb')\n",
    "grid_solar_cf_summary_30 = pickle.load(file)\n",
    "file.close()\n",
    "file = open(\"grid_solar_lcoe_summary_30.pickle\",'rb')\n",
    "grid_solar_lcoe_summary_30 = pickle.load(file)\n",
    "file.close()\n",
    "file = open(\"grid_wind_cf_summary_47.pickle\",'rb')\n",
    "grid_wind_cf_summary_47 = pickle.load(file)\n",
    "file.close()\n",
    "file = open(\"grid_wind_lcoe_summary_47.pickle\",'rb')\n",
    "grid_wind_lcoe_summary_47 = pickle.load(file)\n",
    "file.close()\n",
    "file = open(\"grid_solar_cf_summary_47.pickle\",'rb')\n",
    "grid_solar_cf_summary_47 = pickle.load(file)\n",
    "file.close()\n",
    "file = open(\"grid_solar_lcoe_summary_47.pickle\",'rb')\n",
    "grid_solar_lcoe_summary_47 = pickle.load(file)\n",
    "file.close()\n",
    "\n",
    "os.chdir('../../outputs/plots')"
   ]
  },
  {
   "cell_type": "code",
   "execution_count": null,
   "metadata": {},
   "outputs": [],
   "source": [
    "cmap = cm.RdBu\n",
    "cmap_reversed = cm.get_cmap('RdBu_r')"
   ]
  },
  {
   "cell_type": "markdown",
   "metadata": {},
   "source": [
    "# State Averages EDA"
   ]
  },
  {
   "cell_type": "code",
   "execution_count": null,
   "metadata": {},
   "outputs": [],
   "source": [
    "missing = states.keys() - set(wind_cf_summary_30.index)\n",
    "\n",
    "for state in missing:\n",
    "    wind_cf_summary_30.loc[state] = 0\n",
    "    wind_cf_summary_47.loc[state] = 0\n",
    "    wind_lcoe_summary_30.loc[state] = 0\n",
    "    wind_lcoe_summary_47.loc[state] = 0\n",
    "    solar_cf_summary_30.loc[state] = 0\n",
    "    solar_cf_summary_47.loc[state] = 0\n",
    "    solar_lcoe_summary_30.loc[state] = 0\n",
    "    solar_lcoe_summary_47.loc[state] = 0\n",
    "    \n",
    "wind_cf_summary_30['diff'] = wind_cf_summary_30['High'] - wind_cf_summary_30['Low']\n",
    "wind_cf_summary_47['diff'] = wind_cf_summary_47['High'] - wind_cf_summary_47['Low']\n",
    "wind_lcoe_summary_30['diff'] = wind_lcoe_summary_30['High'] - wind_lcoe_summary_30['Low']\n",
    "wind_lcoe_summary_47['diff'] = wind_lcoe_summary_47['High'] - wind_lcoe_summary_47['Low']\n",
    "solar_cf_summary_30['diff'] = solar_cf_summary_30['High'] - solar_cf_summary_30['Low']\n",
    "solar_cf_summary_47['diff'] = solar_cf_summary_47['High'] - solar_cf_summary_47['Low']\n",
    "solar_lcoe_summary_30['diff'] = solar_lcoe_summary_30['High'] - solar_lcoe_summary_30['Low']\n",
    "solar_lcoe_summary_47['diff'] = solar_lcoe_summary_47['High'] - solar_lcoe_summary_47['Low']\n",
    "\n",
    "wind_cf_diff = wind_cf_summary_30 - wind_cf_summary_47\n",
    "solar_cf_diff = solar_cf_summary_30 - solar_cf_summary_47\n",
    "wind_lcoe_diff = wind_lcoe_summary_30 - wind_lcoe_summary_47\n",
    "solar_lcoe_diff = solar_cf_summary_30 - solar_cf_summary_47\n",
    "\n",
    "wind_cf_summary_30['geometry'] = pd.Series(states)\n",
    "wind_cf_summary_47['geometry'] = pd.Series(states)\n",
    "wind_lcoe_summary_30['geometry'] = pd.Series(states)\n",
    "wind_lcoe_summary_47['geometry'] = pd.Series(states)\n",
    "solar_cf_summary_30['geometry'] = pd.Series(states)\n",
    "solar_cf_summary_47['geometry'] = pd.Series(states)\n",
    "solar_lcoe_summary_30['geometry'] = pd.Series(states)\n",
    "solar_lcoe_summary_47['geometry'] = pd.Series(states)\n",
    "wind_cf_diff['geometry'] = pd.Series(states)\n",
    "solar_cf_diff['geometry'] = pd.Series(states)\n",
    "wind_lcoe_diff['geometry'] = pd.Series(states)\n",
    "solar_lcoe_diff['geometry'] = pd.Series(states)"
   ]
  },
  {
   "cell_type": "markdown",
   "metadata": {},
   "source": [
    "## Wind 2030 CF "
   ]
  },
  {
   "cell_type": "code",
   "execution_count": null,
   "metadata": {},
   "outputs": [],
   "source": [
    "vcenter = 0\n",
    "vmin, vmax = wind_cf_summary_30['diff'].min(), wind_cf_summary_30['diff'].max()\n",
    "normalize = mcolors.TwoSlopeNorm(vcenter=vcenter, vmin=vmin, vmax=vmax)"
   ]
  },
  {
   "cell_type": "code",
   "execution_count": null,
   "metadata": {
    "scrolled": false
   },
   "outputs": [],
   "source": [
    "fig = geoplot.choropleth(\n",
    "    gpd.GeoSeries(wind_cf_summary_30['geometry']), \n",
    "    hue=wind_cf_summary_30['diff'],\n",
    "    figsize=(12, 12), \n",
    "    legend=True,\n",
    "    edgecolor='gray',\n",
    "    linewidth=0.75,\n",
    "    cmap=cmap,\n",
    "    norm=normalize,\n",
    ")\n",
    "plt.title(\"Difference in 2030 Mean Wind CFs between High and Low Coal Incumbency Scenarios\")\n",
    "\n",
    "# for idx, row in wind_cf_summary_30.iterrows():\n",
    "#     plt.annotate(s=idx)\n",
    "    \n",
    "fig = fig.get_figure()\n",
    "fig.savefig('wind_cf_30_diff')"
   ]
  },
  {
   "cell_type": "markdown",
   "metadata": {},
   "source": [
    "## Wind 2047 CF "
   ]
  },
  {
   "cell_type": "code",
   "execution_count": null,
   "metadata": {},
   "outputs": [],
   "source": [
    "vmin, vmax = wind_cf_summary_47['diff'].min(), wind_cf_summary_47['diff'].max()\n",
    "normalize = mcolors.TwoSlopeNorm(vcenter=vcenter, vmin=vmin, vmax=vmax)"
   ]
  },
  {
   "cell_type": "code",
   "execution_count": null,
   "metadata": {},
   "outputs": [],
   "source": [
    "fig = geoplot.choropleth(\n",
    "    gpd.GeoSeries(wind_cf_summary_47['geometry']), \n",
    "    hue=wind_cf_summary_47['diff'],\n",
    "    figsize=(12, 12), \n",
    "    legend=True,\n",
    "    edgecolor='gray',\n",
    "    linewidth=0.75,\n",
    "    cmap=cmap,\n",
    "    norm=normalize\n",
    ")\n",
    "plt.title(\"Difference in 2047 Mean Wind CFs between High and Low Coal Incumbency Scenarios\")\n",
    "fig = fig.get_figure()\n",
    "fig.savefig('wind_cf_47_diff')"
   ]
  },
  {
   "cell_type": "markdown",
   "metadata": {},
   "source": [
    "## Wind CF Diff"
   ]
  },
  {
   "cell_type": "code",
   "execution_count": null,
   "metadata": {},
   "outputs": [],
   "source": [
    "vmin, vmax = wind_cf_diff['diff'].min(), wind_cf_diff['diff'].max()\n",
    "normalize = mcolors.TwoSlopeNorm(vcenter=vcenter, vmin=vmin, vmax=vmax)"
   ]
  },
  {
   "cell_type": "code",
   "execution_count": null,
   "metadata": {},
   "outputs": [],
   "source": [
    "fig = geoplot.choropleth(\n",
    "    gpd.GeoSeries(wind_cf_diff['geometry']), \n",
    "    hue=wind_cf_diff['diff'],\n",
    "    figsize=(12, 12), \n",
    "    legend=True,\n",
    "    edgecolor='gray',\n",
    "    linewidth=0.75,\n",
    "    cmap=cmap,\n",
    "    norm=normalize\n",
    ")\n",
    "plt.title(\"Difference in Mean Wind CFs between 2047 and 2030 High Coal Incumbency Scenarios\")\n",
    "fig = fig.get_figure()\n",
    "fig.savefig('wind_cf_diff')"
   ]
  },
  {
   "cell_type": "markdown",
   "metadata": {},
   "source": [
    "## Wind 2030 LCOE"
   ]
  },
  {
   "cell_type": "code",
   "execution_count": null,
   "metadata": {},
   "outputs": [],
   "source": [
    "vmin, vmax = wind_lcoe_summary_30['diff'].min(), wind_lcoe_summary_30['diff'].max()\n",
    "normalize = mcolors.TwoSlopeNorm(vcenter=vcenter, vmin=vmin, vmax=vmax)"
   ]
  },
  {
   "cell_type": "code",
   "execution_count": null,
   "metadata": {},
   "outputs": [],
   "source": [
    "fig = geoplot.choropleth(\n",
    "    gpd.GeoSeries(wind_lcoe_summary_30['geometry']), \n",
    "    hue=wind_lcoe_summary_30['diff'],\n",
    "    figsize=(12, 12), \n",
    "    legend=True,\n",
    "    edgecolor='gray',\n",
    "    linewidth=0.75,\n",
    "    cmap=cmap_reversed,\n",
    "    norm=normalize\n",
    ")\n",
    "plt.title(\"Difference in 2030 Mean Wind LCOEs between High and Low Coal Incumbency Scenarios\")\n",
    "fig = fig.get_figure()\n",
    "fig.savefig('wind_lcoe_30_diff')"
   ]
  },
  {
   "cell_type": "markdown",
   "metadata": {},
   "source": [
    "## Wind 2047 LCOE"
   ]
  },
  {
   "cell_type": "code",
   "execution_count": null,
   "metadata": {},
   "outputs": [],
   "source": [
    "vmin, vmax = wind_lcoe_summary_47['diff'].min(), wind_lcoe_summary_47['diff'].max()\n",
    "normalize = mcolors.TwoSlopeNorm(vcenter=vcenter, vmin=vmin, vmax=vmax)"
   ]
  },
  {
   "cell_type": "code",
   "execution_count": null,
   "metadata": {},
   "outputs": [],
   "source": [
    "fig = geoplot.choropleth(\n",
    "    gpd.GeoSeries(wind_lcoe_summary_47['geometry']), \n",
    "    hue=wind_lcoe_summary_47['diff'],\n",
    "    figsize=(12, 12), \n",
    "    legend=True,\n",
    "    edgecolor='gray',\n",
    "    linewidth=0.75,\n",
    "    cmap=cmap_reversed,\n",
    "    norm=normalize\n",
    ")\n",
    "plt.title(\"Difference in 2047 Mean Wind LCOEs between High and Low Coal Incumbency Scenarios\")\n",
    "fig = fig.get_figure()\n",
    "fig.savefig('wind_lcoe_47_diff')"
   ]
  },
  {
   "cell_type": "markdown",
   "metadata": {},
   "source": [
    "## Wind LCOE Diff"
   ]
  },
  {
   "cell_type": "code",
   "execution_count": null,
   "metadata": {},
   "outputs": [],
   "source": [
    "vmin, vmax = wind_lcoe_diff['diff'].min(), wind_lcoe_diff['diff'].max()\n",
    "normalize = mcolors.TwoSlopeNorm(vcenter=vcenter, vmin=vmin, vmax=vmax)"
   ]
  },
  {
   "cell_type": "code",
   "execution_count": null,
   "metadata": {},
   "outputs": [],
   "source": [
    "fig = geoplot.choropleth(\n",
    "    gpd.GeoSeries(wind_lcoe_diff['geometry']), \n",
    "    hue=wind_lcoe_diff['diff'],\n",
    "    figsize=(12, 12), \n",
    "    legend=True,\n",
    "    edgecolor='gray',\n",
    "    linewidth=0.75,\n",
    "    cmap=cmap_reversed,\n",
    "    norm=normalize\n",
    ")\n",
    "plt.title(\"Difference in Mean Wind LCOEs between 2047 and 2030 High Coal Incumbency Scenarios\")\n",
    "fig = fig.get_figure()\n",
    "fig.savefig('wind_lcoe_diff')"
   ]
  },
  {
   "cell_type": "markdown",
   "metadata": {},
   "source": [
    "## Solar 2030 CF "
   ]
  },
  {
   "cell_type": "code",
   "execution_count": null,
   "metadata": {},
   "outputs": [],
   "source": [
    "vmin, vmax = solar_cf_summary_30['diff'].min(), solar_cf_summary_30['diff'].max()\n",
    "normalize = mcolors.TwoSlopeNorm(vcenter=vcenter, vmin=vmin, vmax=vmax)"
   ]
  },
  {
   "cell_type": "code",
   "execution_count": null,
   "metadata": {
    "scrolled": false
   },
   "outputs": [],
   "source": [
    "fig = geoplot.choropleth(\n",
    "    gpd.GeoSeries(solar_cf_summary_30['geometry']), \n",
    "    hue=solar_cf_summary_30['diff'],\n",
    "    figsize=(12, 12), \n",
    "    legend=True,\n",
    "    edgecolor='gray',\n",
    "    linewidth=0.75,\n",
    "    cmap=cmap,\n",
    "    norm=normalize\n",
    ")\n",
    "plt.title(\"Difference in 2030 Mean Solar CFs between High and Low Coal Incumbency Scenarios\")\n",
    "fig = fig.get_figure()\n",
    "fig.savefig('solar_cf_30_diff')"
   ]
  },
  {
   "cell_type": "markdown",
   "metadata": {},
   "source": [
    "## Solar 2047 CF "
   ]
  },
  {
   "cell_type": "code",
   "execution_count": null,
   "metadata": {},
   "outputs": [],
   "source": [
    "vmin, vmax = solar_cf_summary_47['diff'].min(), solar_cf_summary_47['diff'].max()\n",
    "normalize = mcolors.TwoSlopeNorm(vcenter=vcenter, vmin=vmin, vmax=vmax)"
   ]
  },
  {
   "cell_type": "code",
   "execution_count": null,
   "metadata": {},
   "outputs": [],
   "source": [
    "fig = geoplot.choropleth(\n",
    "    gpd.GeoSeries(solar_cf_summary_47['geometry']), \n",
    "    hue=solar_cf_summary_47['diff'],\n",
    "    figsize=(12, 12), \n",
    "    legend=True,\n",
    "    edgecolor='gray',\n",
    "    linewidth=0.75,\n",
    "    cmap=cmap,\n",
    "    norm=normalize\n",
    ")\n",
    "plt.title(\"Difference in 2047 Mean Solar CFs between High and Low Coal Incumbency Scenarios\")\n",
    "fig = fig.get_figure()\n",
    "fig.savefig('solar_cf_47_diff')"
   ]
  },
  {
   "cell_type": "markdown",
   "metadata": {},
   "source": [
    "## Solar CF Diff"
   ]
  },
  {
   "cell_type": "code",
   "execution_count": null,
   "metadata": {},
   "outputs": [],
   "source": [
    "vmin, vmax = solar_cf_diff['diff'].min(), solar_cf_diff['diff'].max()\n",
    "normalize = mcolors.TwoSlopeNorm(vcenter=vcenter, vmin=vmin, vmax=vmax)"
   ]
  },
  {
   "cell_type": "code",
   "execution_count": null,
   "metadata": {},
   "outputs": [],
   "source": [
    "fig = geoplot.choropleth(\n",
    "    gpd.GeoSeries(solar_cf_diff['geometry']), \n",
    "    hue=solar_cf_diff['diff'],\n",
    "    figsize=(12, 12), \n",
    "    legend=True,\n",
    "    edgecolor='gray',\n",
    "    linewidth=0.75,\n",
    "    cmap=cmap,\n",
    "    norm=normalize\n",
    ")\n",
    "plt.title(\"Difference in Mean Solar CFs between 2047 and 2030 High Coal Incumbency Scenarios\")\n",
    "fig = fig.get_figure()\n",
    "fig.savefig('solar_cf_diff')"
   ]
  },
  {
   "cell_type": "markdown",
   "metadata": {},
   "source": [
    "## Solar 2030 LCOE"
   ]
  },
  {
   "cell_type": "code",
   "execution_count": null,
   "metadata": {},
   "outputs": [],
   "source": [
    "vmin, vmax = solar_lcoe_summary_30['diff'].min(), solar_lcoe_summary_30['diff'].max()\n",
    "normalize = mcolors.TwoSlopeNorm(vcenter=vcenter, vmin=vmin, vmax=vmax)"
   ]
  },
  {
   "cell_type": "code",
   "execution_count": null,
   "metadata": {},
   "outputs": [],
   "source": [
    "fig = geoplot.choropleth(\n",
    "    gpd.GeoSeries(solar_lcoe_summary_30['geometry']), \n",
    "    hue=solar_lcoe_summary_30['diff'],\n",
    "    figsize=(12, 12), \n",
    "    legend=True,\n",
    "    edgecolor='gray',\n",
    "    linewidth=0.75,\n",
    "    cmap=cmap_reversed,\n",
    "    norm=normalize\n",
    ")\n",
    "plt.title(\"Difference in 2030 Mean Solar LCOEs between High and Low Coal Incumbency Scenarios\")\n",
    "fig = fig.get_figure()\n",
    "fig.savefig('solar_lcoe_30_diff')"
   ]
  },
  {
   "cell_type": "markdown",
   "metadata": {},
   "source": [
    "## Solar 2047 LCOE"
   ]
  },
  {
   "cell_type": "code",
   "execution_count": null,
   "metadata": {},
   "outputs": [],
   "source": [
    "vmin, vmax = solar_lcoe_summary_47['diff'].min(), solar_lcoe_summary_47['diff'].max()\n",
    "normalize = mcolors.TwoSlopeNorm(vcenter=vcenter, vmin=vmin, vmax=vmax)"
   ]
  },
  {
   "cell_type": "code",
   "execution_count": null,
   "metadata": {},
   "outputs": [],
   "source": [
    "fig = geoplot.choropleth(\n",
    "    gpd.GeoSeries(solar_lcoe_summary_47['geometry']), \n",
    "    hue=solar_lcoe_summary_47['diff'],\n",
    "    figsize=(12, 12), \n",
    "    legend=True,\n",
    "    edgecolor='gray',\n",
    "    linewidth=0.75,\n",
    "    cmap=cmap_reversed,\n",
    "    norm=normalize\n",
    ")\n",
    "plt.title(\"Difference in 2047 Mean Solar LCOEs between High and Low Coal Incumbency Scenarios\")\n",
    "fig = fig.get_figure()\n",
    "fig.savefig('solar_lcoe_47_diff')"
   ]
  },
  {
   "cell_type": "markdown",
   "metadata": {},
   "source": [
    "## Solar LCOE Diff"
   ]
  },
  {
   "cell_type": "code",
   "execution_count": null,
   "metadata": {},
   "outputs": [],
   "source": [
    "vmin, vmax = solar_lcoe_diff['diff'].min(), solar_lcoe_diff['diff'].max()\n",
    "normalize = mcolors.TwoSlopeNorm(vcenter=vcenter, vmin=vmin, vmax=vmax)"
   ]
  },
  {
   "cell_type": "code",
   "execution_count": null,
   "metadata": {},
   "outputs": [],
   "source": [
    "fig = geoplot.choropleth(\n",
    "    gpd.GeoSeries(solar_lcoe_diff['geometry']), \n",
    "    hue=solar_lcoe_diff['diff'],\n",
    "    figsize=(12, 12), \n",
    "    legend=True,\n",
    "    edgecolor='gray',\n",
    "    linewidth=0.75,\n",
    "    cmap=cmap_reversed,\n",
    "    norm=normalize\n",
    ")\n",
    "plt.title(\"Difference in Mean Solar LCOEs between 2047 and 2030 High Coal Incumbency Scenarios\")\n",
    "fig = fig.get_figure()\n",
    "fig.savefig('solar_lcoe_diff')"
   ]
  },
  {
   "cell_type": "markdown",
   "metadata": {},
   "source": [
    "# Grid Averages EDA"
   ]
  },
  {
   "cell_type": "code",
   "execution_count": null,
   "metadata": {},
   "outputs": [],
   "source": [
    "grid_wind_cf_summary_30['diff'] = grid_wind_cf_summary_30['High'] - grid_wind_cf_summary_30['Low']\n",
    "grid_wind_cf_summary_47['diff'] = grid_wind_cf_summary_47['High'] - grid_wind_cf_summary_47['Low']\n",
    "grid_wind_lcoe_summary_30['diff'] = grid_wind_lcoe_summary_30['High'] - grid_wind_lcoe_summary_30['Low']\n",
    "grid_wind_lcoe_summary_47['diff'] = grid_wind_lcoe_summary_47['High'] - grid_wind_lcoe_summary_47['Low']\n",
    "grid_solar_cf_summary_30['diff'] = grid_solar_cf_summary_30['High'] - grid_solar_cf_summary_30['Low']\n",
    "grid_solar_cf_summary_47['diff'] = grid_solar_cf_summary_47['High'] - grid_solar_cf_summary_47['Low']\n",
    "grid_solar_lcoe_summary_30['diff'] = grid_solar_lcoe_summary_30['High'] - grid_solar_lcoe_summary_30['Low']\n",
    "grid_solar_lcoe_summary_47['diff'] = grid_solar_lcoe_summary_47['High'] - grid_solar_lcoe_summary_47['Low']\n",
    "\n",
    "grid_wind_cf_diff = grid_wind_cf_summary_30 - grid_wind_cf_summary_47\n",
    "grid_solar_cf_diff = grid_solar_cf_summary_30 - grid_solar_cf_summary_47\n",
    "grid_wind_lcoe_diff = grid_wind_lcoe_summary_30 - grid_wind_lcoe_summary_47\n",
    "grid_solar_lcoe_diff = grid_solar_cf_summary_30 - grid_solar_cf_summary_47\n",
    "\n",
    "grid_wind_cf_summary_30['geometry'] = pd.Series(grid_states)\n",
    "grid_wind_cf_summary_47['geometry'] = pd.Series(grid_states)\n",
    "grid_wind_lcoe_summary_30['geometry'] = pd.Series(grid_states)\n",
    "grid_wind_lcoe_summary_47['geometry'] = pd.Series(grid_states)\n",
    "grid_solar_cf_summary_30['geometry'] = pd.Series(grid_states)\n",
    "grid_solar_cf_summary_47['geometry'] = pd.Series(grid_states)\n",
    "grid_solar_lcoe_summary_30['geometry'] = pd.Series(grid_states)\n",
    "grid_solar_lcoe_summary_47['geometry'] = pd.Series(grid_states)\n",
    "grid_wind_cf_diff['geometry'] = pd.Series(grid_states)\n",
    "grid_solar_cf_diff['geometry'] = pd.Series(grid_states)\n",
    "grid_wind_lcoe_diff['geometry'] = pd.Series(grid_states)\n",
    "grid_solar_lcoe_diff['geometry'] = pd.Series(grid_states)"
   ]
  },
  {
   "cell_type": "markdown",
   "metadata": {},
   "source": [
    "## Wind 2030 CF "
   ]
  },
  {
   "cell_type": "code",
   "execution_count": null,
   "metadata": {},
   "outputs": [],
   "source": [
    "vmin, vmax = grid_wind_cf_summary_30['diff'].min(), grid_wind_cf_summary_30['diff'].max()\n",
    "normalize = mcolors.TwoSlopeNorm(vcenter=vcenter, vmin=vmin, vmax=vmax)"
   ]
  },
  {
   "cell_type": "code",
   "execution_count": null,
   "metadata": {
    "scrolled": false
   },
   "outputs": [],
   "source": [
    "fig = geoplot.choropleth(\n",
    "    gpd.GeoSeries(grid_wind_cf_summary_30['geometry']), \n",
    "    hue=grid_wind_cf_summary_30['diff'],\n",
    "    figsize=(12, 12), \n",
    "    legend=True,\n",
    "    edgecolor='gray',\n",
    "    linewidth=0.75,\n",
    "    cmap=cmap,\n",
    "    norm=normalize\n",
    ")\n",
    "plt.title(\"Difference in 2030 Mean Wind CFs between High and Low Coal Incumbency Scenarios\")\n",
    "fig = fig.get_figure()\n",
    "fig.savefig('grid_wind_cf_30_diff')"
   ]
  },
  {
   "cell_type": "markdown",
   "metadata": {},
   "source": [
    "## Wind 2047 CF "
   ]
  },
  {
   "cell_type": "code",
   "execution_count": null,
   "metadata": {},
   "outputs": [],
   "source": [
    "vmin, vmax = grid_wind_cf_summary_47['diff'].min(), grid_wind_cf_summary_47['diff'].max()\n",
    "normalize = mcolors.TwoSlopeNorm(vcenter=vcenter, vmin=vmin, vmax=vmax)"
   ]
  },
  {
   "cell_type": "code",
   "execution_count": null,
   "metadata": {},
   "outputs": [],
   "source": [
    "fig = geoplot.choropleth(\n",
    "    gpd.GeoSeries(grid_wind_cf_summary_47['geometry']), \n",
    "    hue=grid_wind_cf_summary_47['diff'],\n",
    "    figsize=(12, 12), \n",
    "    legend=True,\n",
    "    edgecolor='gray',\n",
    "    linewidth=0.75,\n",
    "    cmap=cmap,\n",
    "    norm=normalize\n",
    ")\n",
    "plt.title(\"Difference in 2047 Mean Wind CFs between High and Low Coal Incumbency Scenarios\")\n",
    "fig = fig.get_figure()\n",
    "fig.savefig('grid_wind_cf_47_diff')"
   ]
  },
  {
   "cell_type": "markdown",
   "metadata": {},
   "source": [
    "## Wind CF Diff"
   ]
  },
  {
   "cell_type": "code",
   "execution_count": null,
   "metadata": {},
   "outputs": [],
   "source": [
    "vmin, vmax = grid_wind_cf_diff['diff'].min(), grid_wind_cf_diff['diff'].max()\n",
    "normalize = mcolors.TwoSlopeNorm(vcenter=vcenter, vmin=vmin, vmax=vmax)"
   ]
  },
  {
   "cell_type": "code",
   "execution_count": null,
   "metadata": {},
   "outputs": [],
   "source": [
    "fig = geoplot.choropleth(\n",
    "    gpd.GeoSeries(grid_wind_cf_diff['geometry']), \n",
    "    hue=grid_wind_cf_diff['diff'],\n",
    "    figsize=(12, 12), \n",
    "    legend=True,\n",
    "    edgecolor='gray',\n",
    "    linewidth=0.75,\n",
    "    cmap=cmap,\n",
    "    norm=normalize\n",
    ")\n",
    "plt.title(\"Difference in Mean Wind CFs between 2047 and 2030 High Coal Incumbency Scenarios\")\n",
    "fig = fig.get_figure()\n",
    "fig.savefig('grid_wind_cf_diff')"
   ]
  },
  {
   "cell_type": "markdown",
   "metadata": {},
   "source": [
    "## Wind 2030 LCOE"
   ]
  },
  {
   "cell_type": "code",
   "execution_count": null,
   "metadata": {},
   "outputs": [],
   "source": [
    "vmin, vmax = grid_wind_lcoe_summary_30['diff'].min(), grid_wind_lcoe_summary_30['diff'].max()\n",
    "normalize = mcolors.TwoSlopeNorm(vcenter=vcenter, vmin=vmin, vmax=vmax)"
   ]
  },
  {
   "cell_type": "code",
   "execution_count": null,
   "metadata": {},
   "outputs": [],
   "source": [
    "fig = geoplot.choropleth(\n",
    "    gpd.GeoSeries(grid_wind_lcoe_summary_30['geometry']), \n",
    "    hue=grid_wind_lcoe_summary_30['diff'],\n",
    "    figsize=(12, 12), \n",
    "    legend=True,\n",
    "    edgecolor='gray',\n",
    "    linewidth=0.75,\n",
    "    cmap=cmap_reversed,\n",
    "    norm=normalize\n",
    ")\n",
    "plt.title(\"Difference in 2030 Mean Wind LCOEs between High and Low Coal Incumbency Scenarios\")\n",
    "fig = fig.get_figure()\n",
    "fig.savefig('grid_wind_lcoe_30_diff')"
   ]
  },
  {
   "cell_type": "markdown",
   "metadata": {},
   "source": [
    "## Wind 2047 LCOE"
   ]
  },
  {
   "cell_type": "code",
   "execution_count": null,
   "metadata": {},
   "outputs": [],
   "source": [
    "vmin, vmax = grid_wind_lcoe_summary_47['diff'].min(), grid_wind_lcoe_summary_47['diff'].max()\n",
    "normalize = mcolors.TwoSlopeNorm(vcenter=vcenter, vmin=vmin, vmax=vmax)"
   ]
  },
  {
   "cell_type": "code",
   "execution_count": null,
   "metadata": {},
   "outputs": [],
   "source": [
    "fig = geoplot.choropleth(\n",
    "    gpd.GeoSeries(grid_wind_lcoe_summary_47['geometry']), \n",
    "    hue=grid_wind_lcoe_summary_47['diff'],\n",
    "    figsize=(12, 12), \n",
    "    legend=True,\n",
    "    edgecolor='gray',\n",
    "    linewidth=0.75,\n",
    "    cmap=cmap_reversed,\n",
    "    norm=normalize\n",
    ")\n",
    "plt.title(\"Difference in 2047 Mean Wind LCOEs between High and Low Coal Incumbency Scenarios\")\n",
    "fig = fig.get_figure()\n",
    "fig.savefig('grid_wind_lcoe_47_diff')"
   ]
  },
  {
   "cell_type": "markdown",
   "metadata": {},
   "source": [
    "## Wind LCOE Diff"
   ]
  },
  {
   "cell_type": "code",
   "execution_count": null,
   "metadata": {},
   "outputs": [],
   "source": [
    "vmin, vmax = grid_wind_lcoe_diff['diff'].min(), grid_wind_lcoe_diff['diff'].max()\n",
    "normalize = mcolors.TwoSlopeNorm(vcenter=vcenter, vmin=vmin, vmax=vmax)"
   ]
  },
  {
   "cell_type": "code",
   "execution_count": null,
   "metadata": {},
   "outputs": [],
   "source": [
    "fig = geoplot.choropleth(\n",
    "    gpd.GeoSeries(grid_wind_lcoe_diff['geometry']), \n",
    "    hue=grid_wind_lcoe_diff['diff'],\n",
    "    figsize=(12, 12), \n",
    "    legend=True,\n",
    "    edgecolor='gray',\n",
    "    linewidth=0.75,\n",
    "    cmap=cmap_reversed,\n",
    "    norm=normalize\n",
    ")\n",
    "plt.title(\"Difference in Mean Wind LCOEs between 2047 and 2030 High Coal Incumbency Scenarios\")\n",
    "fig = fig.get_figure()\n",
    "fig.savefig('grid_wind_lcoe_diff')"
   ]
  },
  {
   "cell_type": "markdown",
   "metadata": {},
   "source": [
    "## Solar 2030 CF "
   ]
  },
  {
   "cell_type": "code",
   "execution_count": null,
   "metadata": {},
   "outputs": [],
   "source": [
    "vmin, vmax = grid_solar_cf_summary_30['diff'].min(), grid_solar_cf_summary_30['diff'].max()\n",
    "normalize = mcolors.TwoSlopeNorm(vcenter=vcenter, vmin=vmin, vmax=vmax)"
   ]
  },
  {
   "cell_type": "code",
   "execution_count": null,
   "metadata": {
    "scrolled": false
   },
   "outputs": [],
   "source": [
    "fig = geoplot.choropleth(\n",
    "    gpd.GeoSeries(grid_solar_cf_summary_30['geometry']), \n",
    "    hue=grid_solar_cf_summary_30['diff'],\n",
    "    figsize=(12, 12), \n",
    "    legend=True,\n",
    "    edgecolor='gray',\n",
    "    linewidth=0.75,\n",
    "    cmap=cmap,\n",
    "    norm=normalize\n",
    ")\n",
    "plt.title(\"Difference in 2030 Mean Solar CFs between High and Low Coal Incumbency Scenarios\")\n",
    "fig = fig.get_figure()\n",
    "fig.savefig('grid_solar_cf_30_diff')"
   ]
  },
  {
   "cell_type": "markdown",
   "metadata": {},
   "source": [
    "## Solar 2047 CF "
   ]
  },
  {
   "cell_type": "code",
   "execution_count": null,
   "metadata": {},
   "outputs": [],
   "source": [
    "vmin, vmax = grid_solar_cf_summary_47['diff'].min(), grid_solar_cf_summary_47['diff'].max()\n",
    "normalize = mcolors.TwoSlopeNorm(vcenter=vcenter, vmin=vmin, vmax=vmax)"
   ]
  },
  {
   "cell_type": "code",
   "execution_count": null,
   "metadata": {},
   "outputs": [],
   "source": [
    "fig = geoplot.choropleth(\n",
    "    gpd.GeoSeries(grid_solar_cf_summary_47['geometry']), \n",
    "    hue=grid_solar_cf_summary_47['diff'],\n",
    "    figsize=(12, 12), \n",
    "    legend=True,\n",
    "    edgecolor='gray',\n",
    "    linewidth=0.75,\n",
    "    cmap=cmap,\n",
    "    norm=normalize\n",
    ")\n",
    "plt.title(\"Difference in 2047 Mean Solar CFs between High and Low Coal Incumbency Scenarios\")\n",
    "fig = fig.get_figure()\n",
    "fig.savefig('grid_solar_cf_47_diff')"
   ]
  },
  {
   "cell_type": "markdown",
   "metadata": {},
   "source": [
    "## Solar CF Diff"
   ]
  },
  {
   "cell_type": "code",
   "execution_count": null,
   "metadata": {},
   "outputs": [],
   "source": [
    "vmin, vmax = grid_solar_cf_diff['diff'].min()-0.0001, grid_solar_cf_diff['diff'].max()\n",
    "normalize = mcolors.TwoSlopeNorm(vcenter=vcenter, vmin=vmin, vmax=vmax)"
   ]
  },
  {
   "cell_type": "code",
   "execution_count": null,
   "metadata": {},
   "outputs": [],
   "source": [
    "fig = geoplot.choropleth(\n",
    "    gpd.GeoSeries(grid_solar_cf_diff['geometry']), \n",
    "    hue=grid_solar_cf_diff['diff'],\n",
    "    figsize=(12, 12), \n",
    "    legend=True,\n",
    "    edgecolor='gray',\n",
    "    linewidth=0.75,\n",
    "    cmap=cmap,\n",
    "    norm=normalize\n",
    ")\n",
    "plt.title(\"Difference in Mean Solar CFs between 2047 and 2030 High Coal Incumbency Scenarios\")\n",
    "fig = fig.get_figure()\n",
    "fig.savefig('grid_solar_cf_diff')"
   ]
  },
  {
   "cell_type": "markdown",
   "metadata": {},
   "source": [
    "## Solar 2030 LCOE"
   ]
  },
  {
   "cell_type": "code",
   "execution_count": null,
   "metadata": {},
   "outputs": [],
   "source": [
    "vmin, vmax = grid_solar_lcoe_summary_30['diff'].min(), grid_solar_lcoe_summary_30['diff'].max()\n",
    "normalize = mcolors.TwoSlopeNorm(vcenter=vcenter, vmin=vmin, vmax=vmax)"
   ]
  },
  {
   "cell_type": "code",
   "execution_count": null,
   "metadata": {},
   "outputs": [],
   "source": [
    "fig = geoplot.choropleth(\n",
    "    gpd.GeoSeries(grid_solar_lcoe_summary_30['geometry']), \n",
    "    hue=grid_solar_lcoe_summary_30['diff'],\n",
    "    figsize=(12, 12), \n",
    "    legend=True,\n",
    "    edgecolor='gray',\n",
    "    linewidth=0.75,\n",
    "    cmap=cmap_reversed,\n",
    "    norm=normalize\n",
    ")\n",
    "plt.title(\"Difference in 2030 Mean Solar LCOEs between High and Low Coal Incumbency Scenarios\")\n",
    "fig = fig.get_figure()\n",
    "fig.savefig('grid_solar_lcoe_30_diff')"
   ]
  },
  {
   "cell_type": "markdown",
   "metadata": {},
   "source": [
    "## Solar 2047 LCOE"
   ]
  },
  {
   "cell_type": "code",
   "execution_count": null,
   "metadata": {},
   "outputs": [],
   "source": [
    "vmin, vmax = grid_solar_lcoe_summary_47['diff'].min(), grid_solar_lcoe_summary_47['diff'].max()\n",
    "normalize = mcolors.TwoSlopeNorm(vcenter=vcenter, vmin=vmin, vmax=vmax)"
   ]
  },
  {
   "cell_type": "code",
   "execution_count": null,
   "metadata": {},
   "outputs": [],
   "source": [
    "fig = geoplot.choropleth(\n",
    "    gpd.GeoSeries(grid_solar_lcoe_summary_47['geometry']), \n",
    "    hue=grid_solar_lcoe_summary_47['diff'],\n",
    "    figsize=(12, 12), \n",
    "    legend=True,\n",
    "    edgecolor='gray',\n",
    "    linewidth=0.75,\n",
    "    cmap=cmap_reversed,\n",
    "    norm=normalize\n",
    ")\n",
    "plt.title(\"Difference in 2047 Mean Solar LCOEs between High and Low Coal Incumbency Scenarios\")\n",
    "fig = fig.get_figure()\n",
    "fig.savefig('grid_solar_lcoe_47_diff')"
   ]
  },
  {
   "cell_type": "markdown",
   "metadata": {},
   "source": [
    "## Solar LCOE Diff"
   ]
  },
  {
   "cell_type": "code",
   "execution_count": null,
   "metadata": {},
   "outputs": [],
   "source": [
    "vmin, vmax = grid_solar_lcoe_diff['diff'].min()-0.0001, grid_solar_lcoe_diff['diff'].max()\n",
    "normalize = mcolors.TwoSlopeNorm(vcenter=vcenter, vmin=vmin, vmax=vmax)"
   ]
  },
  {
   "cell_type": "code",
   "execution_count": null,
   "metadata": {},
   "outputs": [],
   "source": [
    "fig = geoplot.choropleth(\n",
    "    gpd.GeoSeries(grid_solar_lcoe_diff['geometry']), \n",
    "    hue=grid_solar_lcoe_diff['diff'],\n",
    "    figsize=(12, 12), \n",
    "    legend=True,\n",
    "    edgecolor='gray',\n",
    "    linewidth=0.75,\n",
    "    cmap=cmap_reversed,\n",
    "    norm=normalize\n",
    ")\n",
    "plt.title(\"Difference in Mean Solar LCOEs between 2047 and 2030 High Coal Incumbency Scenarios\")\n",
    "fig = fig.get_figure()\n",
    "fig.savefig('grid_solar_lcoe_diff')"
   ]
  }
 ],
 "metadata": {
  "kernelspec": {
   "display_name": "Python 3",
   "language": "python",
   "name": "python3"
  },
  "language_info": {
   "codemirror_mode": {
    "name": "ipython",
    "version": 3
   },
   "file_extension": ".py",
   "mimetype": "text/x-python",
   "name": "python",
   "nbconvert_exporter": "python",
   "pygments_lexer": "ipython3",
   "version": "3.7.9"
  }
 },
 "nbformat": 4,
 "nbformat_minor": 4
}
