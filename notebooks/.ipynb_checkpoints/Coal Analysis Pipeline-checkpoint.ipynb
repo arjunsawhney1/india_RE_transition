{
 "cells": [
  {
   "cell_type": "markdown",
   "metadata": {},
   "source": [
    "# Import Statements"
   ]
  },
  {
   "cell_type": "code",
   "execution_count": null,
   "metadata": {},
   "outputs": [],
   "source": [
    "import logging\n",
    "logging.basicConfig(level=logging.INFO)\n",
    "import warnings\n",
    "warnings.filterwarnings('ignore')\n",
    "import os\n",
    "\n",
    "import geodata\n",
    "import xarray as xr\n",
    "import pandas as pd\n",
    "import numpy as np\n",
    "import matplotlib.pyplot as plt\n",
    "\n",
    "#packages that requires users to install externally\n",
    "import pickle\n",
    "import pyproj\n",
    "from pyproj import Proj\n",
    "from functools import partial\n",
    "from shapely.geometry import shape, Point, Polygon, MultiPolygon\n",
    "from shapely.ops import cascaded_union\n",
    "from shapely.ops import transform as transform\n",
    "import statsmodels.api as sm\n",
    "import cartopy.io.shapereader as shpreader\n",
    "\n",
    "import geopandas as gpd\n",
    "import geoplot\n",
    "import seaborn as sns\n",
    "import plotly.graph_objects as go"
   ]
  },
  {
   "cell_type": "markdown",
   "metadata": {},
   "source": [
    "# Load from pickle"
   ]
  },
  {
   "cell_type": "code",
   "execution_count": null,
   "metadata": {},
   "outputs": [],
   "source": [
    "os.chdir('../../data/pickle')\n",
    "\n",
    "# load from pickle before first run\n",
    "file = open(\"districts.pickle\",'rb')\n",
    "districts = pickle.load(file)\n",
    "file.close()\n",
    "\n",
    "# state shapes\n",
    "file = open(\"states.pickle\",'rb')\n",
    "states = pickle.load(file)\n",
    "file.close()\n",
    "\n",
    "# includes LCOE\n",
    "file = open(\"xarray_ds_wind.pickle\",'rb')\n",
    "xarray_ds_wind = pickle.load(file)\n",
    "file.close()\n",
    "file = open(\"xarray_ds_solar.pickle\",'rb')\n",
    "xarray_ds_solar = pickle.load(file)\n",
    "file.close()\n",
    "\n",
    "# renewable energy targets\n",
    "# TERI\n",
    "file = open(\"wind_t_30.pickle\",'rb')\n",
    "wind_t_30 = pickle.load(file)\n",
    "file.close()\n",
    "file = open(\"solar_t_30.pickle\",'rb')\n",
    "solar_t_30 = pickle.load(file)\n",
    "file.close()\n",
    "\n",
    "# NREL\n",
    "file = open(\"wind_t_47.pickle\",'rb')\n",
    "wind_t_47 = pickle.load(file)\n",
    "file.close()\n",
    "file = open(\"solar_t_47.pickle\",'rb')\n",
    "solar_t_47 = pickle.load(file)\n",
    "file.close()"
   ]
  },
  {
   "cell_type": "markdown",
   "metadata": {},
   "source": [
    "# Download India 2018 ERA5 Hourly Weather Data"
   ]
  },
  {
   "cell_type": "code",
   "execution_count": null,
   "metadata": {},
   "outputs": [],
   "source": [
    "DS_hourly = geodata.Dataset(module=\"era5\",\n",
    "                            weather_data_config = \"wind_solar_hourly\",\n",
    "                            bounds=[37, 68, 6, 98],\n",
    "                            years=slice(2018, 2018),\n",
    "                            months=slice(1,12))\n",
    "\n",
    "if DS_hourly.prepared == False:\n",
    "\tDS_hourly.get_data()"
   ]
  },
  {
   "cell_type": "markdown",
   "metadata": {},
   "source": [
    "# Create Cutout"
   ]
  },
  {
   "cell_type": "code",
   "execution_count": null,
   "metadata": {},
   "outputs": [],
   "source": [
    "## CUTOUT\n",
    "cutout = geodata.Cutout(name = \"india-2018-era5-wind-solar-hourly\",\n",
    "                        module = \"era5\",\n",
    "                        weather_data_config = \"wind_solar_hourly\",\n",
    "                        xs = slice(68, 98),\n",
    "                        ys = slice(6, 37),\n",
    "                        years=slice(2018, 2018),\n",
    "                        months=slice(1,12))\n",
    "\n",
    "cutout.prepare()"
   ]
  },
  {
   "cell_type": "markdown",
   "metadata": {},
   "source": [
    "# Import Coal Plant / Mine Data"
   ]
  },
  {
   "cell_type": "markdown",
   "metadata": {},
   "source": [
    "### Importing data from Global Coal Plant Tracker\n",
    "- July 2020: https://bit.ly/2Cz1Q82\n",
    "- July 2021 Update: https://bit.ly/3ec60To"
   ]
  },
  {
   "cell_type": "code",
   "execution_count": null,
   "metadata": {},
   "outputs": [],
   "source": [
    "os.chdir('../tables')"
   ]
  },
  {
   "cell_type": "code",
   "execution_count": null,
   "metadata": {
    "scrolled": true
   },
   "outputs": [],
   "source": [
    "plants = pd.read_csv(\"Global-Coal-Plant-Tracker-Jan-2022.csv\", encoding=\"ISO-8859-1\")\n",
    "plants = plants[plants['Country'] == 'India']\n",
    "plants = plants[plants['Latitude'].isna() == False]\n",
    "plants = plants[plants['Longitude'].isna() == False]\n",
    "plants = plants[plants['Status'].isin(['operating'])] \n",
    "# 'announced', 'cancelled', 'construction', 'permitted', 'pre-permit', 'retired', 'shelved'])]\n",
    "plants = plants.drop_duplicates('ParentID')\n",
    "plants = plants[['Plant', 'Subnational unit (province, state)', 'Status', 'Latitude', 'Longitude', \n",
    "                 'Capacity (MW)', 'Annual CO2 (million tonnes / annum)', 'Year']]\n",
    "plants = plants.rename(columns={'Subnational unit (province, state)': 'State', 'Year': 'Plant Age'})\n",
    "plants['Capacity (MW)'] = plants['Capacity (MW)'].astype(float)\n",
    "plants['Plant Age'] = plants['Plant Age'].apply(lambda x: 2021 - float(x))\n",
    "plants"
   ]
  },
  {
   "cell_type": "markdown",
   "metadata": {},
   "source": [
    "### Importing data from Global Coal Mine Tracker\n",
    "- July 2020: https://drive.google.com/file/d/1j0zVllXW6Ei9L2mDiqOonsH9JlQe5DWQ/view?usp=sharing\n",
    "- July 2021 Update: https://www.dropbox.com/s/yp82wpf3juqe3dk/Global%20Coal%20Mine%20Tracker%20%28June%202021%29.xlsx?dl=0"
   ]
  },
  {
   "cell_type": "code",
   "execution_count": null,
   "metadata": {
    "scrolled": false
   },
   "outputs": [],
   "source": [
    "mines = pd.read_csv(\"pai_coal_mines.csv\", encoding=\"ISO-8859-1\")\n",
    "mines.columns = ['MineID', 'State', 'District', 'Name',\n",
    "                 'Coal/ Lignite Production (MT) (2019-2020)', 'Owner', \n",
    "                 'Coal/Lignite', 'Govt Owned/Private', 'Type', \n",
    "                 'Latitude', 'Longitude', 'Source', 'Accuracy', \n",
    "                 'Unnamed']\n",
    "# mines = mines[mines['Country'] == 'India']\n",
    "# mines = mines[mines['Status'] == 'Operating'] # 'Proposed'\n",
    "mines = mines[mines['Latitude'].isna() == False]\n",
    "mines = mines[mines['Longitude'].isna() == False]\n",
    "# mines = mines.drop_duplicates('Mine ID') \n",
    "# mines = mines[['Mine Name', 'Status', 'Status Detail', 'State, Province', 'Coal Output (Annual, Mt)', 'Mine Type', \n",
    "#                'Latitude', 'Longitude', 'Opening Year']]\n",
    "# mines = mines[mines['Opening Year'] != 'TBD']\n",
    "# mines['Mine Age'] = mines['Opening Year'].apply(lambda x: 2021 - float(x))\n",
    "# mines = mines.drop(columns=['Opening Year'])\n",
    "mines"
   ]
  },
  {
   "cell_type": "markdown",
   "metadata": {},
   "source": [
    "## Convert to circular shapes of certain radius"
   ]
  },
  {
   "cell_type": "code",
   "execution_count": null,
   "metadata": {},
   "outputs": [],
   "source": [
    "proj_wgs84 = Proj('+proj=longlat +datum=WGS84')\n",
    "\n",
    "def geodesic_point_buffer(lat, lon, km):\n",
    "    # Azimuthal equidistant projection\n",
    "    aeqd_proj = '+proj=aeqd +lat_0={lat} +lon_0={lon} +x_0=0 +y_0=0'\n",
    "    project = partial(\n",
    "        pyproj.transform,\n",
    "        Proj(aeqd_proj.format(lat=lat, lon=lon)),\n",
    "        proj_wgs84)\n",
    "    buf = Point(0, 0).buffer(km * 1000)  # distance in metres\n",
    "    return Polygon(transform(project, buf).exterior.coords[:])"
   ]
  },
  {
   "cell_type": "code",
   "execution_count": null,
   "metadata": {},
   "outputs": [],
   "source": [
    "plants['geometry'] = plants.apply(lambda x: geodesic_point_buffer(x['Latitude'], x['Longitude'], 50), axis=1)\n",
    "plant_states = set(plants['State'])\n",
    "plant_shapes = cascaded_union(plants['geometry'])\n",
    "plant_shapes"
   ]
  },
  {
   "cell_type": "code",
   "execution_count": null,
   "metadata": {},
   "outputs": [],
   "source": [
    "mines['geometry'] = mines.apply(lambda x: geodesic_point_buffer(x['Latitude'], x['Longitude'], 50), axis=1)\n",
    "mine_states = set(mines['State']) - set(['Madhya Pradesh / Uttar Pradesh', 'Uttar Pradesh / Madhya Pradesh'])\n",
    "mine_shapes = cascaded_union(mines['geometry'])\n",
    "mine_shapes"
   ]
  },
  {
   "cell_type": "code",
   "execution_count": null,
   "metadata": {},
   "outputs": [],
   "source": [
    "all_states = plant_states.union(mine_states)\n",
    "all_shapes = cascaded_union(plants['geometry'].append(mines['geometry']))\n",
    "all_shapes"
   ]
  },
  {
   "cell_type": "markdown",
   "metadata": {},
   "source": [
    "# Load Geodata MODIS Mask"
   ]
  },
  {
   "cell_type": "code",
   "execution_count": null,
   "metadata": {},
   "outputs": [],
   "source": [
    "os.chdir('../masks')"
   ]
  },
  {
   "cell_type": "code",
   "execution_count": null,
   "metadata": {},
   "outputs": [],
   "source": [
    "india_wind_plants = geodata.Mask(\"India Wind Plants\", layer_path = {\n",
    "    'modis': 'MODIS_INDIA_WIND.tif'\n",
    "})\n",
    "india_wind_mines = geodata.Mask(\"India Wind Mines\", layer_path = {\n",
    "    'modis': 'MODIS_INDIA_WIND.tif'\n",
    "})\n",
    "india_wind_all = geodata.Mask(\"India Wind All\", layer_path = {\n",
    "    'modis': 'MODIS_INDIA_WIND.tif'\n",
    "})\n",
    "\n",
    "india_solar_plants = geodata.Mask(\"India Solar Plants\", layer_path = {\n",
    "    'modis': 'MODIS_INDIA_SOLAR.tif'\n",
    "})\n",
    "india_solar_mines = geodata.Mask(\"India Solar Mines\", layer_path = {\n",
    "    'modis': 'MODIS_INDIA_SOLAR.tif'\n",
    "})\n",
    "india_solar_all = geodata.Mask(\"India Solar All\", layer_path = {\n",
    "    'modis': 'MODIS_INDIA_SOLAR.tif'\n",
    "})"
   ]
  },
  {
   "cell_type": "code",
   "execution_count": null,
   "metadata": {},
   "outputs": [],
   "source": [
    "# india_wind_plants.layers['modis'] = geodata.mask.binarize_raster(india_wind_plants.layers['modis'], values = [6,7,8,9,10,12,14,16])\n",
    "# india_wind_mines.layers['modis'] = geodata.mask.binarize_raster(india_wind_mines.layers['modis'], values = [6,7,8,9,10,12,14,16])\n",
    "# india_wind_all.layers['modis'] = geodata.mask.binarize_raster(india_wind_all.layers['modis'], values = [6,7,8,9,10,12,14,16])\n",
    "\n",
    "# india_solar_plants.layers['modis'] = geodata.mask.binarize_raster(india_solar_plants.layers['modis'], values = [6,7,8,9,10,16])\n",
    "# india_solar_mines.layers['modis'] = geodata.mask.binarize_raster(india_solar_mines.layers['modis'], values = [6,7,8,9,10,16])\n",
    "# india_solar_all.layers['modis'] = geodata.mask.binarize_raster(india_solar_all.layers['modis'], values = [6,7,8,9,10,16])"
   ]
  },
  {
   "cell_type": "code",
   "execution_count": null,
   "metadata": {},
   "outputs": [],
   "source": [
    "geodata.mask.show_all(india_solar_plants.layers)"
   ]
  },
  {
   "cell_type": "code",
   "execution_count": null,
   "metadata": {
    "scrolled": false
   },
   "outputs": [],
   "source": [
    "geodata.mask.show_all(india_wind_plants.layers)"
   ]
  },
  {
   "cell_type": "markdown",
   "metadata": {},
   "source": [
    "# Extract Shapes as Mask Layers"
   ]
  },
  {
   "cell_type": "code",
   "execution_count": null,
   "metadata": {},
   "outputs": [],
   "source": [
    "plant_shapes = {'coal': plant_shapes}\n",
    "mine_shapes = {'coal': mine_shapes}\n",
    "all_shapes = {'coal': all_shapes}"
   ]
  },
  {
   "cell_type": "code",
   "execution_count": null,
   "metadata": {},
   "outputs": [],
   "source": [
    "india_wind_plants.extract_shapes(plant_shapes, layer = 'modis')\n",
    "india_wind_mines.extract_shapes(mine_shapes, layer = 'modis')\n",
    "india_wind_all.extract_shapes(all_shapes, layer = 'modis')\n",
    "\n",
    "india_solar_plants.extract_shapes(plant_shapes, layer = 'modis')\n",
    "india_solar_mines.extract_shapes(mine_shapes, layer = 'modis')\n",
    "india_solar_all.extract_shapes(all_shapes, layer = 'modis')"
   ]
  },
  {
   "cell_type": "code",
   "execution_count": null,
   "metadata": {},
   "outputs": [],
   "source": [
    "india_wind_plants.add_shape_layer({\n",
    "    'coal': plant_shapes['coal']\n",
    "}, reference_layer='modis')\n",
    "\n",
    "india_wind_mines.add_shape_layer({\n",
    "    'coal': mine_shapes['coal']\n",
    "}, reference_layer='modis')\n",
    "\n",
    "india_wind_all.add_shape_layer({\n",
    "    'coal': all_shapes['coal']\n",
    "}, reference_layer='modis')\n",
    "\n",
    "\n",
    "india_solar_plants.add_shape_layer({\n",
    "    'coal': plant_shapes['coal']\n",
    "}, reference_layer='modis')\n",
    "\n",
    "india_solar_mines.add_shape_layer({\n",
    "    'coal': mine_shapes['coal']\n",
    "}, reference_layer='modis')\n",
    "\n",
    "india_solar_all.add_shape_layer({\n",
    "    'coal': all_shapes['coal']\n",
    "}, reference_layer='modis')"
   ]
  },
  {
   "cell_type": "markdown",
   "metadata": {},
   "source": [
    "# Merge Districts + MODIS"
   ]
  },
  {
   "cell_type": "code",
   "execution_count": null,
   "metadata": {
    "scrolled": true
   },
   "outputs": [],
   "source": [
    "india_wind_plants.merge_layer(attribute_save = True, layers = ['coal', 'modis'], method='and')\n",
    "india_wind_mines.merge_layer(attribute_save = True, layers = ['coal', 'modis'], method='and')\n",
    "india_wind_all.merge_layer(attribute_save = True, layers = ['coal', 'modis'], method='and')\n",
    "\n",
    "india_solar_plants.merge_layer(attribute_save = True, layers = ['coal', 'modis'], method='and')\n",
    "india_solar_mines.merge_layer(attribute_save = True, layers = ['coal', 'modis'], method='and')\n",
    "india_solar_all.merge_layer(attribute_save = True, layers = ['coal', 'modis'], method='and')"
   ]
  },
  {
   "cell_type": "markdown",
   "metadata": {},
   "source": [
    "## States "
   ]
  },
  {
   "cell_type": "code",
   "execution_count": null,
   "metadata": {},
   "outputs": [],
   "source": [
    "india_wind_plants.extract_shapes({x: states[x] for x in plant_states if x in states.keys()})\n",
    "india_wind_mines.extract_shapes({x: states[x] for x in mine_states if x in states.keys()})\n",
    "india_wind_all.extract_shapes({x: states[x] for x in all_states if x in states.keys()})\n",
    "\n",
    "india_solar_plants.extract_shapes({x: states[x] for x in plant_states if x in states.keys()})\n",
    "india_solar_mines.extract_shapes({x: states[x] for x in mine_states if x in states.keys()})\n",
    "india_solar_all.extract_shapes({x: states[x] for x in all_states if x in states.keys()})"
   ]
  },
  {
   "cell_type": "code",
   "execution_count": null,
   "metadata": {
    "scrolled": true
   },
   "outputs": [],
   "source": [
    "geodata.mask.show_all(india_wind_all.shape_mask)"
   ]
  },
  {
   "cell_type": "code",
   "execution_count": null,
   "metadata": {
    "scrolled": true
   },
   "outputs": [],
   "source": [
    "geodata.mask.show_all(india_solar_all.shape_mask)"
   ]
  },
  {
   "cell_type": "markdown",
   "metadata": {},
   "source": [
    "# Combine Mask with Cutout"
   ]
  },
  {
   "cell_type": "code",
   "execution_count": null,
   "metadata": {},
   "outputs": [],
   "source": [
    "india_wind_plants.save_mask()\n",
    "india_wind_mines.save_mask()\n",
    "india_wind_all.save_mask()\n",
    "\n",
    "india_solar_plants.save_mask()\n",
    "india_solar_mines.save_mask()\n",
    "india_solar_all.save_mask()"
   ]
  },
  {
   "cell_type": "code",
   "execution_count": null,
   "metadata": {
    "scrolled": true
   },
   "outputs": [],
   "source": [
    "cutout.add_mask(\"India Wind Plants\", merged_mask=False, shape_mask=True)\n",
    "cutout.add_grid_area()\n",
    "combine_wind_plants = cutout.mask(dataset = xarray_ds_wind)\n",
    "\n",
    "cutout.add_mask(\"India Wind Mines\", merged_mask=False, shape_mask=True)\n",
    "cutout.add_grid_area()\n",
    "combine_wind_mines = cutout.mask(dataset = xarray_ds_wind)\n",
    "\n",
    "cutout.add_mask(\"India Wind All\", merged_mask=False, shape_mask=True)\n",
    "cutout.add_grid_area()\n",
    "combine_wind_all = cutout.mask(dataset = xarray_ds_wind)\n",
    "\n",
    "\n",
    "cutout.add_mask(\"India Solar Plants\", merged_mask=False, shape_mask=True)\n",
    "cutout.add_grid_area()\n",
    "combine_solar_plants = cutout.mask(dataset = xarray_ds_solar)\n",
    "\n",
    "cutout.add_mask(\"India Solar Mines\", merged_mask=False, shape_mask=True)\n",
    "cutout.add_grid_area()\n",
    "combine_solar_mines = cutout.mask(dataset = xarray_ds_solar)\n",
    "\n",
    "cutout.add_mask(\"India Solar All\", merged_mask=False, shape_mask=True)\n",
    "cutout.add_grid_area()\n",
    "combine_solar_all = cutout.mask(dataset = xarray_ds_solar)"
   ]
  },
  {
   "cell_type": "markdown",
   "metadata": {},
   "source": [
    "# Plot CF Supply Curves"
   ]
  },
  {
   "cell_type": "code",
   "execution_count": null,
   "metadata": {},
   "outputs": [],
   "source": [
    "def make_figures(df, col, lcoe):\n",
    "    df = df[df[col] > 0]\n",
    "    if col == 'wind':\n",
    "        df['cap'] = df['area'] * df['mask'] * 3.9 / 1000\n",
    "    else:\n",
    "        df['cap'] = df['area'] * df['mask'] * 27.7 / 1000\n",
    "    if lcoe:\n",
    "        df = df.sort_values(by = 'LCOE ($/MWh)', ascending = True)\n",
    "    else:\n",
    "        df = df.sort_values(by = col, ascending = False)\n",
    "    df = df[df['cap'] > 0]\n",
    "    df['cumsum'] = df['cap'].cumsum()\n",
    "    return df.reset_index(drop=True)\n",
    "\n",
    "def batch_figures(xr_provs, col, coal, t_30, t_47, lcoe=False):\n",
    "    dfs = {xr_prov:[] for xr_prov in xr_provs}\n",
    "    for xr_prov in xr_provs:\n",
    "        if xr_prov != 'coal':\n",
    "            df = xr_provs[xr_prov].to_dataframe().reset_index(drop=False)\n",
    "            df = make_figures(df, col, lcoe)\n",
    "            dfs[xr_prov] = df\n",
    "    fig = go.Figure()\n",
    "    if lcoe:\n",
    "        for xr_prov in xr_provs:\n",
    "            if xr_prov != 'coal':\n",
    "                fig.add_trace(\n",
    "                    go.Scatter(\n",
    "                        x=dfs[xr_prov]['cumsum'],\n",
    "                        y=dfs[xr_prov]['LCOE ($/MWh)'],\n",
    "                        mode='lines', \n",
    "                        name=xr_prov,\n",
    "                        showlegend=True\n",
    "                    )\n",
    "                )\n",
    "        fig.update_layout(\n",
    "            title=\"{} LCOE Supply Curves near Coal {} in India\".format(col.capitalize(), coal),\n",
    "            xaxis_title=\"Cumulative Capacity (GW)\",\n",
    "            yaxis_title=\"LCOE ($/MWh)\",\n",
    "            legend_title=\"Provinces\",\n",
    "        )\n",
    "    else:\n",
    "        for xr_prov in xr_provs:\n",
    "            if xr_prov != 'coal':\n",
    "                fig.add_trace(\n",
    "                    go.Scatter(\n",
    "                        x=dfs[xr_prov]['cumsum'],\n",
    "                        y=dfs[xr_prov][col],\n",
    "                        mode='lines', \n",
    "                        name=xr_prov,\n",
    "                        showlegend=True\n",
    "                    )\n",
    "                )      \n",
    "        fig.update_layout(\n",
    "            title=\"{} Capacity Supply Curves near Coal {} in India\".format(col.capitalize(), coal),\n",
    "            xaxis_title=\"Cumulative Capacity (GW)\",\n",
    "            yaxis_title=\"Capacity Factor (%)\",\n",
    "            legend_title=\"Provinces\",\n",
    "        )\n",
    "    fig.add_vline(\n",
    "        x=sum(t_30.values()),\n",
    "        annotation_text=\"Target 2030: {} GW\".format(round(sum(t_30.values()), 2)),\n",
    "        annotation_position='bottom right',\n",
    "        line_dash=\"dash\"\n",
    "    )\n",
    "    fig.add_vline(\n",
    "        x=sum(t_47.values()),\n",
    "        annotation_text=\"Target 2047: {} GW\".format(round(sum(t_47.values()), 2)),\n",
    "        annotation_position='bottom right',\n",
    "        line_dash=\"dash\"\n",
    "    )\n",
    "        \n",
    "    fig.show()\n",
    "\n",
    "    return dfs"
   ]
  },
  {
   "cell_type": "markdown",
   "metadata": {},
   "source": [
    "## Capacity Supply Curves"
   ]
  },
  {
   "cell_type": "markdown",
   "metadata": {},
   "source": [
    "### Solar"
   ]
  },
  {
   "cell_type": "code",
   "execution_count": null,
   "metadata": {},
   "outputs": [],
   "source": [
    "plant_solar_dfs = batch_figures(combine_solar_plants, 'solar', 'Plants', solar_t_30, solar_t_47)"
   ]
  },
  {
   "cell_type": "code",
   "execution_count": null,
   "metadata": {},
   "outputs": [],
   "source": [
    "mine_solar_dfs = batch_figures(combine_solar_mines, 'solar', 'Mines', solar_t_30, solar_t_47)"
   ]
  },
  {
   "cell_type": "code",
   "execution_count": null,
   "metadata": {},
   "outputs": [],
   "source": [
    "all_solar_dfs = batch_figures(combine_solar_all, 'solar', 'Plants+Mines', solar_t_30, solar_t_47)"
   ]
  },
  {
   "cell_type": "markdown",
   "metadata": {},
   "source": [
    "### Wind"
   ]
  },
  {
   "cell_type": "code",
   "execution_count": null,
   "metadata": {
    "scrolled": false
   },
   "outputs": [],
   "source": [
    "plant_wind_dfs = batch_figures(combine_wind_plants, 'wind', 'Plants', wind_t_30, wind_t_47)"
   ]
  },
  {
   "cell_type": "code",
   "execution_count": null,
   "metadata": {
    "scrolled": false
   },
   "outputs": [],
   "source": [
    "mine_wind_dfs = batch_figures(combine_wind_mines, 'wind', 'Mines', wind_t_30, wind_t_47)"
   ]
  },
  {
   "cell_type": "code",
   "execution_count": null,
   "metadata": {},
   "outputs": [],
   "source": [
    "all_wind_dfs = batch_figures(combine_wind_all, 'wind', 'Plants+Mines', wind_t_30, wind_t_47)"
   ]
  },
  {
   "cell_type": "markdown",
   "metadata": {},
   "source": [
    "## LCOE Supply Curves"
   ]
  },
  {
   "cell_type": "markdown",
   "metadata": {},
   "source": [
    "### Solar"
   ]
  },
  {
   "cell_type": "code",
   "execution_count": null,
   "metadata": {},
   "outputs": [],
   "source": [
    "plant_solar_dfs_lcoe = batch_figures(combine_solar_plants, 'solar', 'Plants', solar_t_30, solar_t_47, True)"
   ]
  },
  {
   "cell_type": "code",
   "execution_count": null,
   "metadata": {},
   "outputs": [],
   "source": [
    "mine_solar_dfs_lcoe = batch_figures(combine_solar_mines, 'solar', 'Mines', solar_t_30, solar_t_47, True)"
   ]
  },
  {
   "cell_type": "code",
   "execution_count": null,
   "metadata": {},
   "outputs": [],
   "source": [
    "all_solar_dfs_lcoe = batch_figures(combine_solar_all, 'solar', 'Plants+Mines', solar_t_30, solar_t_47, True)"
   ]
  },
  {
   "cell_type": "markdown",
   "metadata": {},
   "source": [
    "### Wind"
   ]
  },
  {
   "cell_type": "code",
   "execution_count": null,
   "metadata": {
    "scrolled": false
   },
   "outputs": [],
   "source": [
    "plant_wind_dfs_lcoe = batch_figures(combine_wind_plants, 'wind', 'Plants', wind_t_30, wind_t_47, True)"
   ]
  },
  {
   "cell_type": "code",
   "execution_count": null,
   "metadata": {
    "scrolled": false
   },
   "outputs": [],
   "source": [
    "mine_wind_dfs_lcoe = batch_figures(combine_wind_mines, 'wind', 'Mines', wind_t_30, wind_t_47, True)"
   ]
  },
  {
   "cell_type": "code",
   "execution_count": null,
   "metadata": {},
   "outputs": [],
   "source": [
    "all_wind_dfs_lcoe = batch_figures(combine_wind_all, 'wind', 'Plants+Mines', wind_t_30, wind_t_47, True)"
   ]
  },
  {
   "cell_type": "markdown",
   "metadata": {},
   "source": [
    "# Plot Figures by State"
   ]
  },
  {
   "cell_type": "code",
   "execution_count": null,
   "metadata": {},
   "outputs": [],
   "source": [
    "def plot_fig_state(restricted_dfs, col, state, level, t_30, t_47, lcoe=False):\n",
    "    fig = go.Figure()\n",
    "    df = restricted_dfs[state]\n",
    "    df_30 = df[df['cumsum'] <= t_30[state]]\n",
    "    df_47 = df[df['cumsum'] <= t_47[state]]\n",
    "    avg_30 = np.nan\n",
    "    avg_47 = np.nan\n",
    "    if lcoe: \n",
    "        if sum(df_30['cap']) > 0 and sum(df_47['cap']) > 0:\n",
    "            avg_30 = round(sum(df_30['cap'] * df_30['LCOE ($/MWh)']) / sum(df_30['cap']), 2)        \n",
    "            avg_47 = round(sum(df_47['cap'] * df_47['LCOE ($/MWh)']) / sum(df_47['cap']), 2)\n",
    "            fig.add_trace(\n",
    "                go.Scatter(\n",
    "                    x=restricted_dfs[state]['cumsum'],\n",
    "                    y=restricted_dfs[state]['LCOE ($/MWh)'],\n",
    "                    name='Restricted Case')\n",
    "            )\n",
    "            fig.add_hline(\n",
    "                y=avg_30,\n",
    "                annotation_text=\"Mean LCOE 2030: {} $/MWh\".format(avg_30),\n",
    "                annotation_position='bottom left',\n",
    "                line_dash=\"dash\"\n",
    "            )\n",
    "            fig.add_hline(\n",
    "                y=avg_47,\n",
    "                annotation_text=\"Mean LCOE 2047: {} $/MWh\".format(avg_47),\n",
    "                annotation_position='top left',\n",
    "                line_dash=\"dash\"\n",
    "            )\n",
    "            fig.update_layout(\n",
    "                title=\"{} LCOE Supply Curves in Provinces with Coal {} in {}\".format(col.capitalize(), level, state),\n",
    "                xaxis_title=\"Cumulative Capacity (GW)\",\n",
    "                yaxis_title=\"LCOE ($/MWh)\",\n",
    "                legend_title=\"Province\",\n",
    "            )\n",
    "            if col == 'wind':\n",
    "                fig.update_yaxes(\n",
    "                    range=(40, 80)\n",
    "                )\n",
    "    else:\n",
    "        if sum(df_30['cap']) > 0 and sum(df_47['cap']) > 0:\n",
    "            avg_30 = round(sum(df_30['cap'] * df_30[col]) / sum(df_30['cap']), 4)        \n",
    "            avg_47 = round(sum(df_47['cap'] * df_47[col]) / sum(df_47['cap']), 4)\n",
    "\n",
    "            fig.add_trace(\n",
    "                go.Scatter(\n",
    "                    x=restricted_dfs[state]['cumsum'],\n",
    "                    y=restricted_dfs[state][col], \n",
    "                    name='Restricted Case')\n",
    "            )\n",
    "            fig.add_hline(\n",
    "                y=avg_30,\n",
    "                annotation_text=\"Mean CF 2030: {}\".format(avg_30),\n",
    "                annotation_position='top left',\n",
    "                line_dash=\"dash\"\n",
    "            )\n",
    "            fig.add_hline(\n",
    "                y=avg_47,\n",
    "                annotation_text=\"Mean CF 2047: {}\".format(avg_47),\n",
    "                annotation_position='bottom left',\n",
    "                line_dash=\"dash\"\n",
    "            )\n",
    "            fig.update_layout(\n",
    "                title=\"{} Capacity Supply Curves in Provinces with Coal {} in {}\".format(col.capitalize(), level, state),            \n",
    "                xaxis_title=\"Cumulative Capacity (GW)\",\n",
    "                yaxis_title=\"Capacity Factor (%)\",\n",
    "                legend_title=\"Province\",\n",
    "            )\n",
    "    fig.add_vline(\n",
    "        x=t_30[state],\n",
    "        annotation_text=\"Target 2030: {} GW\".format(round(t_30[state], 2)),\n",
    "        annotation_position='bottom right',\n",
    "        line_dash=\"dash\"\n",
    "    )\n",
    "    fig.add_vline(\n",
    "        x=t_47[state],\n",
    "        annotation_text=\"Target 2047: {} GW\".format(round(t_47[state], 2)),\n",
    "        annotation_position='bottom right',\n",
    "        line_dash=\"dash\"\n",
    "    )\n",
    "    if len(restricted_dfs[state]['cumsum']) > 0:\n",
    "        fig.update_xaxes(\n",
    "            range=(restricted_dfs[state]['cumsum'][0], 55)\n",
    "        )\n",
    "    fig.show()\n",
    "    return round(avg_30, 2), round(avg_47, 2)"
   ]
  },
  {
   "cell_type": "markdown",
   "metadata": {},
   "source": [
    "## Capacity Supply Curves"
   ]
  },
  {
   "cell_type": "markdown",
   "metadata": {},
   "source": [
    "### Solar"
   ]
  },
  {
   "cell_type": "code",
   "execution_count": null,
   "metadata": {
    "scrolled": false
   },
   "outputs": [],
   "source": [
    "plot_fig_state(plant_solar_dfs, 'solar', 'Gujarat', 'Plants', solar_t_30, solar_t_47)"
   ]
  },
  {
   "cell_type": "code",
   "execution_count": null,
   "metadata": {},
   "outputs": [],
   "source": [
    "plot_fig_state(mine_solar_dfs, 'solar', 'Gujarat', 'Mines', solar_t_30, solar_t_47)"
   ]
  },
  {
   "cell_type": "code",
   "execution_count": null,
   "metadata": {},
   "outputs": [],
   "source": [
    "plot_fig_state(all_solar_dfs, 'solar', 'Gujarat', 'Plants+Mines', solar_t_30, solar_t_47)"
   ]
  },
  {
   "cell_type": "markdown",
   "metadata": {},
   "source": [
    "### Wind"
   ]
  },
  {
   "cell_type": "code",
   "execution_count": null,
   "metadata": {},
   "outputs": [],
   "source": [
    "plot_fig_state(plant_wind_dfs, 'wind', 'Gujarat', 'Plants', wind_t_30, wind_t_47)"
   ]
  },
  {
   "cell_type": "code",
   "execution_count": null,
   "metadata": {},
   "outputs": [],
   "source": [
    "plot_fig_state(mine_wind_dfs, 'wind', 'Gujarat', 'Mines', wind_t_30, wind_t_47)"
   ]
  },
  {
   "cell_type": "code",
   "execution_count": null,
   "metadata": {
    "scrolled": false
   },
   "outputs": [],
   "source": [
    "plot_fig_state(all_wind_dfs, 'wind', 'Gujarat', 'Plants+Mines', wind_t_30, wind_t_47)"
   ]
  },
  {
   "cell_type": "markdown",
   "metadata": {},
   "source": [
    "## LCOE Supply Curves"
   ]
  },
  {
   "cell_type": "markdown",
   "metadata": {},
   "source": [
    "### Solar"
   ]
  },
  {
   "cell_type": "code",
   "execution_count": null,
   "metadata": {
    "scrolled": false
   },
   "outputs": [],
   "source": [
    "plot_fig_state(plant_solar_dfs_lcoe, 'solar', 'Gujarat', 'Plants', solar_t_30, solar_t_47, True)"
   ]
  },
  {
   "cell_type": "code",
   "execution_count": null,
   "metadata": {},
   "outputs": [],
   "source": [
    "plot_fig_state(mine_solar_dfs_lcoe, 'solar', 'Gujarat', 'Mines', solar_t_30, solar_t_47, True)"
   ]
  },
  {
   "cell_type": "code",
   "execution_count": null,
   "metadata": {},
   "outputs": [],
   "source": [
    "plot_fig_state(all_solar_dfs_lcoe, 'solar', 'Gujarat', 'Plants+Mines', solar_t_30, solar_t_47, True)"
   ]
  },
  {
   "cell_type": "markdown",
   "metadata": {},
   "source": [
    "### Wind"
   ]
  },
  {
   "cell_type": "code",
   "execution_count": null,
   "metadata": {},
   "outputs": [],
   "source": [
    "plot_fig_state(plant_wind_dfs_lcoe, 'wind', 'Gujarat', 'Plants', wind_t_30, wind_t_47, True)"
   ]
  },
  {
   "cell_type": "code",
   "execution_count": null,
   "metadata": {},
   "outputs": [],
   "source": [
    "plot_fig_state(mine_wind_dfs_lcoe, 'wind', 'Gujarat', 'Mines', wind_t_30, wind_t_47, True)"
   ]
  },
  {
   "cell_type": "code",
   "execution_count": null,
   "metadata": {
    "scrolled": false
   },
   "outputs": [],
   "source": [
    "plot_fig_state(all_wind_dfs_lcoe, 'wind', 'Gujarat', 'Plants+Mines', wind_t_30, wind_t_47, True)"
   ]
  },
  {
   "cell_type": "markdown",
   "metadata": {},
   "source": [
    "# Get State Averages"
   ]
  },
  {
   "cell_type": "code",
   "execution_count": null,
   "metadata": {},
   "outputs": [],
   "source": [
    "plants"
   ]
  },
  {
   "cell_type": "code",
   "execution_count": null,
   "metadata": {},
   "outputs": [],
   "source": [
    "states = set(np.unique(mines['State, Province'])).intersection(set(np.unique(plants['State'])))"
   ]
  },
  {
   "cell_type": "code",
   "execution_count": null,
   "metadata": {},
   "outputs": [],
   "source": [
    "averages_2030 = {state: [] for state in states if solar_t_30[state] > 0 or wind_t_30[state] > 0}\n",
    "averages_2047 = {state: [] for state in states if solar_t_47[state] > 0 or wind_t_47[state] > 0}\n",
    "\n",
    "for state in states:\n",
    "    wind_all_avg_CF = plot_fig_state(all_wind_dfs, 'wind', state, 'Plants+Mines', wind_t_30, wind_t_47)\n",
    "    wind_all_avg_LCOE = plot_fig_state(all_wind_dfs_lcoe, 'wind', state, 'Plants+Mines', wind_t_30, wind_t_47, True)\n",
    "    solar_all_avg_CF = plot_fig_state(all_solar_dfs, 'solar', state, 'Plants+Mines', solar_t_30, solar_t_47)\n",
    "    solar_all_avg_LCOE = plot_fig_state(all_solar_dfs_lcoe, 'solar', state, 'Plants+Mines', solar_t_30, solar_t_47, True)\n",
    "\n",
    "    averages_2030[state] = [wind_all_avg_CF[0], wind_all_avg_LCOE[0], solar_all_avg_CF[0], solar_all_avg_LCOE[0]]\n",
    "    averages_2047[state] = [wind_all_avg_CF[1], wind_all_avg_LCOE[1], solar_all_avg_CF[1], solar_all_avg_LCOE[1]]"
   ]
  },
  {
   "cell_type": "code",
   "execution_count": null,
   "metadata": {},
   "outputs": [],
   "source": [
    "# make pivot tables\n",
    "pivot_2030 = pd.DataFrame(averages_2030).T\n",
    "pivot_2030.columns = ['wind_all_avg_CF', 'wind_all_avg_LCOE', 'solar_all_avg_CF', 'solar_all_avg_LCOE']\n",
    "\n",
    "pivot_2047 = pd.DataFrame(averages_2047).T\n",
    "pivot_2047.columns = ['wind_all_avg_CF', 'wind_all_avg_LCOE', 'solar_all_avg_CF', 'solar_all_avg_LCOE']"
   ]
  },
  {
   "cell_type": "code",
   "execution_count": null,
   "metadata": {},
   "outputs": [],
   "source": [
    "# # break down into smaller dataframes\n",
    "cf_summary_30 = pivot_2030[['wind_all_avg_CF', 'solar_all_avg_CF']]\n",
    "cf_summary_30.columns = ['Wind', 'Solar']\n",
    "lcoe_summary_30 = pivot_2030[['wind_all_avg_LCOE', 'solar_all_avg_LCOE']]\n",
    "lcoe_summary_30.columns = ['Wind', 'Solar']\n",
    "\n",
    "cf_summary_47 = pivot_2047[['wind_all_avg_CF', 'solar_all_avg_CF']]\n",
    "cf_summary_47.columns = ['Wind', 'Solar']\n",
    "lcoe_summary_47 = pivot_2047[['wind_all_avg_LCOE', 'solar_all_avg_LCOE']]\n",
    "lcoe_summary_47.columns = ['Wind', 'Solar']"
   ]
  },
  {
   "cell_type": "code",
   "execution_count": null,
   "metadata": {},
   "outputs": [],
   "source": [
    "# plot heatmap\n",
    "fig, ax = plt.subplots(figsize=(10,10))         \n",
    "ax = sns.heatmap(cf_summary_30, annot=True, fmt=\".4\", cmap=\"YlGnBu\")\n",
    "plt.title(\"Average State CFs for Wind and Solar in 2030\")"
   ]
  },
  {
   "cell_type": "code",
   "execution_count": null,
   "metadata": {},
   "outputs": [],
   "source": [
    "# plot heatmap\n",
    "fig, ax = plt.subplots(figsize=(10,10))         \n",
    "ax = sns.heatmap(lcoe_summary_30, annot=True, fmt=\".4\", cmap=\"YlGnBu\")\n",
    "plt.title(\"Average State LCOE ($/MWh) for Wind and Solar in 2030\")"
   ]
  },
  {
   "cell_type": "code",
   "execution_count": null,
   "metadata": {},
   "outputs": [],
   "source": [
    "# plot heatmap\n",
    "fig, ax = plt.subplots(figsize=(10,10))         \n",
    "ax = sns.heatmap(cf_summary_47, annot=True, fmt=\".4\", cmap=\"YlGnBu\")\n",
    "plt.title(\"Average State CFs for Wind and Solar in 2047\")"
   ]
  },
  {
   "cell_type": "code",
   "execution_count": null,
   "metadata": {},
   "outputs": [],
   "source": [
    "# plot heatmap\n",
    "fig, ax = plt.subplots(figsize=(10,10))         \n",
    "ax = sns.heatmap(lcoe_summary_47, annot=True, fmt=\".4\", cmap=\"YlGnBu\")\n",
    "plt.title(\"Average State LCOE ($/MWh) for Wind and Solar in 2047\")"
   ]
  }
 ],
 "metadata": {
  "kernelspec": {
   "display_name": "Python 3",
   "language": "python",
   "name": "python3"
  },
  "language_info": {
   "codemirror_mode": {
    "name": "ipython",
    "version": 3
   },
   "file_extension": ".py",
   "mimetype": "text/x-python",
   "name": "python",
   "nbconvert_exporter": "python",
   "pygments_lexer": "ipython3",
   "version": "3.7.9"
  }
 },
 "nbformat": 4,
 "nbformat_minor": 4
}
