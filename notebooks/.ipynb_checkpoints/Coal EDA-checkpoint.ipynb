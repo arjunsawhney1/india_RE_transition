{
 "cells": [
  {
   "cell_type": "markdown",
   "metadata": {},
   "source": [
    "# Import Statements"
   ]
  },
  {
   "cell_type": "code",
   "execution_count": null,
   "metadata": {},
   "outputs": [],
   "source": [
    "import os\n",
    "import pickle\n",
    "\n",
    "import numpy as np\n",
    "import pandas as pd\n",
    "import geopandas as gpd\n",
    "\n",
    "from shapely.ops import cascaded_union\n",
    "\n",
    "import matplotlib.pyplot as plt\n",
    "import geoplot\n",
    "import seaborn as sns\n",
    "import plotly.graph_objects as go"
   ]
  },
  {
   "cell_type": "markdown",
   "metadata": {},
   "source": [
    "# Load Data"
   ]
  },
  {
   "cell_type": "code",
   "execution_count": null,
   "metadata": {},
   "outputs": [],
   "source": [
    "district_emp = pd.read_csv('district_emp_data_full.csv')\n",
    "district_emp = district_emp.replace(\n",
    "    {'Jharkhand ': 'Jharkhand',\n",
    "     'Maharashtra ': 'Maharashtra',\n",
    "     'Orissa': 'Odisha',\n",
    "     'Telangana ': 'Telangana'\n",
    "    }\n",
    ")\n",
    "district_emp.head()"
   ]
  },
  {
   "cell_type": "code",
   "execution_count": null,
   "metadata": {},
   "outputs": [],
   "source": [
    "# https://dataverse.harvard.edu/dataset.xhtml?persistentId=doi:10.7910/DVN/TDEK8O&version=1.0\n",
    "pai_coal_mines = pd.read_csv('pai_coal_mines.csv')\n",
    "pai_coal_mines = pai_coal_mines.replace(\n",
    "    {'Jharkhand ': 'Jharkhand',\n",
    "     'Maharashtra ': 'Maharashtra',\n",
    "     'Orissa': 'Odisha',\n",
    "     'Telangana ': 'Telangana'\n",
    "    }\n",
    ")\n",
    "pai_coal_mines.head()"
   ]
  },
  {
   "cell_type": "code",
   "execution_count": null,
   "metadata": {},
   "outputs": [],
   "source": [
    "plants = pd.read_csv(\"Global-Coal-Plant-Tracker-Jan-2022.csv\", encoding=\"ISO-8859-1\")\n",
    "plants = plants[plants['Country'] == 'India']\n",
    "plants = plants[plants['Latitude'].isna() == False]\n",
    "plants = plants[plants['Longitude'].isna() == False]\n",
    "plants = plants[plants['Status'].isin(['operating'])] \n",
    "plants = plants.drop_duplicates('ParentID')\n",
    "plants = plants[['Plant', 'Subnational unit (province, state)', 'Status', 'Latitude', 'Longitude', \n",
    "                 'Capacity (MW)', 'Annual CO2 (million tonnes / annum)', 'Year']]\n",
    "plants = plants.rename(columns={'Subnational unit (province, state)': 'State', 'Year': 'Plant Age'})\n",
    "plants['Capacity (MW)'] = plants['Capacity (MW)'].astype(float)\n",
    "plants['Plant Age'] = plants['Plant Age'].apply(lambda x: 2021 - float(x))\n",
    "plants = plants.replace(\n",
    "    {'Madhya Pradesh / Uttar Pradesh': 'Madhya Pradesh',\n",
    "     'Punjab state': 'Punjab',\n",
    "     'Uttar Pradesh / Madhya Pradesh': 'Uttar Pradesh'\n",
    "    }\n",
    ")\n",
    "plants.head()"
   ]
  },
  {
   "cell_type": "code",
   "execution_count": null,
   "metadata": {},
   "outputs": [],
   "source": [
    "mines = pd.read_csv(\"June 2021 Global Coal Mine Tracker.csv\", encoding=\"ISO-8859-1\")\n",
    "mines = mines[mines['Country'] == 'India']\n",
    "mines = mines[mines['Status'] == 'Operating'] # 'Proposed'\n",
    "mines = mines[mines['Latitude'].isna() == False]\n",
    "mines = mines[mines['Longitude'].isna() == False]\n",
    "mines = mines.drop_duplicates('Mine ID') \n",
    "mines = mines[['Mine Name', 'Status', 'Status Detail', 'State, Province', 'Coal Output (Annual, Mt)', 'Mine Type', \n",
    "               'Latitude', 'Longitude', 'Opening Year']]\n",
    "mines = mines[mines['Opening Year'] != 'TBD']\n",
    "mines['Mine Age'] = mines['Opening Year'].apply(lambda x: 2021 - float(x))\n",
    "mines = mines.drop(columns=['Opening Year'])\n",
    "mines = mines.replace(\n",
    "    {'Madhya Pradesh / Uttar Pradesh': 'Madhya Pradesh',\n",
    "     'Punjab state': 'Punjab',\n",
    "     'Uttar Pradesh / Madhya Pradesh': 'Uttar Pradesh'\n",
    "    }\n",
    ")\n",
    "mines.head()"
   ]
  },
  {
   "cell_type": "markdown",
   "metadata": {},
   "source": [
    "# Missingness"
   ]
  },
  {
   "cell_type": "markdown",
   "metadata": {},
   "source": [
    "States missing from Pai Data"
   ]
  },
  {
   "cell_type": "code",
   "execution_count": null,
   "metadata": {
    "scrolled": true
   },
   "outputs": [],
   "source": [
    "set(plants['State']).union(set(mines['State, Province'])) - set(district_emp['State/UT Name'])"
   ]
  },
  {
   "cell_type": "code",
   "execution_count": null,
   "metadata": {
    "scrolled": true
   },
   "outputs": [],
   "source": [
    "set(mines['State, Province']) - set(pai_coal_mines['State/UT Name'])"
   ]
  },
  {
   "cell_type": "markdown",
   "metadata": {},
   "source": [
    "States missing from GEM data"
   ]
  },
  {
   "cell_type": "code",
   "execution_count": null,
   "metadata": {},
   "outputs": [],
   "source": [
    "set(district_emp['State/UT Name']) - set(plants['State']).union(set(mines['State, Province']))"
   ]
  },
  {
   "cell_type": "code",
   "execution_count": null,
   "metadata": {
    "scrolled": true
   },
   "outputs": [],
   "source": [
    "set(pai_coal_mines['State/UT Name']) - set(mines['State, Province'])"
   ]
  },
  {
   "cell_type": "markdown",
   "metadata": {},
   "source": [
    "# Visualize Inputs"
   ]
  },
  {
   "cell_type": "code",
   "execution_count": null,
   "metadata": {
    "scrolled": true
   },
   "outputs": [],
   "source": [
    "os.getcwd()"
   ]
  },
  {
   "cell_type": "code",
   "execution_count": null,
   "metadata": {},
   "outputs": [],
   "source": [
    "os.chdir('../../data/shapes')\n",
    "transmission = gpd.read_file('transmission.shp')"
   ]
  },
  {
   "cell_type": "code",
   "execution_count": null,
   "metadata": {},
   "outputs": [],
   "source": [
    "os.chdir('../pickle')\n",
    "file = open(\"polygons.pickle\", \"rb\")\n",
    "polygons = pickle.load(file)\n",
    "file.close()\n",
    "file = open(\"states.pickle\", \"rb\")\n",
    "states = pickle.load(file)\n",
    "file.close()"
   ]
  },
  {
   "cell_type": "code",
   "execution_count": null,
   "metadata": {
    "scrolled": false
   },
   "outputs": [],
   "source": [
    "os.chdir('../../outputs/plots')\n",
    "fig = geoplot.polyplot(\n",
    "    gpd.GeoSeries(polygons),\n",
    "    edgecolor='red',\n",
    "    facecolor='red',\n",
    "    figsize=(12, 12), \n",
    ")\n",
    "\n",
    "geoplot.polyplot(\n",
    "    gpd.GeoSeries(states),\n",
    "    edgecolor='gray',\n",
    "    ax=fig,\n",
    "    linewidth=0.75\n",
    ")\n",
    "\n",
    "geoplot.sankey(\n",
    "    gpd.GeoSeries(transmission['geometry']),\n",
    "    ax=fig\n",
    ")\n",
    "\n",
    "\n",
    "fig = fig.get_figure()\n",
    "fig.savefig('alternative_coal_incumbency_transmission')"
   ]
  }
 ],
 "metadata": {
  "kernelspec": {
   "display_name": "Python 3",
   "language": "python",
   "name": "python3"
  },
  "language_info": {
   "codemirror_mode": {
    "name": "ipython",
    "version": 3
   },
   "file_extension": ".py",
   "mimetype": "text/x-python",
   "name": "python",
   "nbconvert_exporter": "python",
   "pygments_lexer": "ipython3",
   "version": "3.7.9"
  }
 },
 "nbformat": 4,
 "nbformat_minor": 4
}
