{
 "cells": [
  {
   "cell_type": "markdown",
   "id": "ccaaec6c",
   "metadata": {},
   "source": [
    "# Import Statements"
   ]
  },
  {
   "cell_type": "code",
   "execution_count": null,
   "id": "e21c54b8",
   "metadata": {},
   "outputs": [],
   "source": [
    "import os\n",
    "import logging\n",
    "logging.basicConfig(level=logging.INFO)\n",
    "import warnings\n",
    "warnings.filterwarnings('ignore')\n",
    "\n",
    "import geodata\n",
    "import xarray as xr\n",
    "import pandas as pd\n",
    "import geopandas as gpd\n",
    "import numpy as np\n",
    "import pickle\n",
    "\n",
    "import geoplot\n",
    "import seaborn as sns\n",
    "import matplotlib\n",
    "import matplotlib.pyplot as plt\n",
    "import matplotlib.cm as cm\n",
    "import matplotlib.colorbar as mcbar\n",
    "import matplotlib.colors as mcolors\n",
    "from matplotlib.colors import ListedColormap"
   ]
  },
  {
   "cell_type": "markdown",
   "id": "cf259ab3",
   "metadata": {},
   "source": [
    "# Load coarsened datasets"
   ]
  },
  {
   "cell_type": "code",
   "execution_count": null,
   "id": "9aa23227",
   "metadata": {},
   "outputs": [],
   "source": [
    "os.chdir('../data/pickle')\n",
    "\n",
    "# includes LCOE\n",
    "file = open(\"xarray_ds_wind.pickle\",'rb')\n",
    "xarray_ds_wind = pickle.load(file)\n",
    "file.close()\n",
    "file = open(\"xarray_ds_solar.pickle\",'rb')\n",
    "xarray_ds_solar = pickle.load(file)\n",
    "file.close()\n",
    "# state shapes\n",
    "file = open(\"states.pickle\",'rb')\n",
    "states = pickle.load(file)\n",
    "file.close()"
   ]
  },
  {
   "cell_type": "markdown",
   "id": "460e4474",
   "metadata": {},
   "source": [
    "# Convert to Mask Resolution"
   ]
  },
  {
   "cell_type": "code",
   "execution_count": null,
   "id": "a268ed0c",
   "metadata": {},
   "outputs": [],
   "source": [
    "def reindex(ds, target):\n",
    "    \n",
    "    return ds.reindex_like(target, method = 'nearest')\n",
    "\n",
    "def ds_reformat_index(ds):\n",
    "\t\"\"\"format the dataArray generated from the convert function\"\"\"\n",
    "\tif 'lat' in ds.dims and 'lon' in ds.dims:\n",
    "\t\treturn ds.sortby(['lat', 'lon'])\n",
    "\telif 'lat' in ds.coords and 'lon' in ds.coords:\n",
    "\t\treturn ds.reset_coords(['lon', 'lat'], drop = True).rename({'x': 'lon', 'y': 'lat'}).sortby(['lat', 'lon'])\n",
    "\telse:\n",
    "\t\treturn ds.rename({'x': 'lon', 'y': 'lat'}).sortby(['lat', 'lon'])\n",
    "    \n",
    "os.chdir('../masks')\n",
    "mask = ds_reformat_index(xr.open_rasterio(\"MODIS_INDIA_SOLAR.tif\"))"
   ]
  },
  {
   "cell_type": "code",
   "execution_count": null,
   "id": "25891bb9",
   "metadata": {},
   "outputs": [],
   "source": [
    "xarray_ds_wind = reindex(xarray_ds_wind, mask)\n",
    "xarray_ds_wind['wind'].plot()"
   ]
  },
  {
   "cell_type": "code",
   "execution_count": null,
   "id": "2ead4782",
   "metadata": {},
   "outputs": [],
   "source": [
    "xarray_ds_solar = reindex(xarray_ds_solar, mask)\n",
    "xarray_ds_solar['solar'].plot()"
   ]
  },
  {
   "cell_type": "markdown",
   "id": "588c8e12",
   "metadata": {},
   "source": [
    "# Add mask DataArray Variable"
   ]
  },
  {
   "cell_type": "code",
   "execution_count": null,
   "id": "b2518a2e",
   "metadata": {},
   "outputs": [],
   "source": [
    "solar_mask_path = os.path.join(geodata.config.mask_dir,\n",
    "                               'India Solar All', #these are the right mask right?\n",
    "                               'merged_mask', \n",
    "                               'merged_mask.tif')\n",
    "wind_mask_path = os.path.join(geodata.config.mask_dir,\n",
    "                               'India Wind All', \n",
    "                              'merged_mask', \n",
    "                              'merged_mask.tif')"
   ]
  },
  {
   "cell_type": "code",
   "execution_count": null,
   "id": "be2be119",
   "metadata": {},
   "outputs": [],
   "source": [
    "solar_mask = ds_reformat_index(xr.open_rasterio(solar_mask_path))\n",
    "wind_mask = ds_reformat_index(xr.open_rasterio(wind_mask_path))"
   ]
  },
  {
   "cell_type": "code",
   "execution_count": null,
   "id": "5e76be13",
   "metadata": {},
   "outputs": [],
   "source": [
    "solar_mask.plot()"
   ]
  },
  {
   "cell_type": "code",
   "execution_count": null,
   "id": "b93832b1",
   "metadata": {},
   "outputs": [],
   "source": [
    "xarray_ds_solar['mask'] = xr.DataArray(solar_mask.values, coords={\n",
    "                            'time': xarray_ds_solar['time'].values,\n",
    "                            'lat': xarray_ds_solar['lat'].values, \n",
    "                            'lon': xarray_ds_solar['lon'].values, \n",
    "                        },\n",
    "             dims=['time', 'lat', 'lon'])"
   ]
  },
  {
   "cell_type": "code",
   "execution_count": null,
   "id": "5298b09e",
   "metadata": {},
   "outputs": [],
   "source": [
    "xarray_ds_wind['mask'] = xr.DataArray(wind_mask.values, coords={\n",
    "                            'time': xarray_ds_wind['time'].values,\n",
    "                            'lat': xarray_ds_wind['lat'].values, \n",
    "                            'lon': xarray_ds_wind['lon'].values, \n",
    "                        },\n",
    "             dims=['time', 'lat', 'lon'])"
   ]
  },
  {
   "cell_type": "markdown",
   "id": "4eede963",
   "metadata": {},
   "source": [
    "# Export High Resolution Figures"
   ]
  },
  {
   "cell_type": "code",
   "execution_count": null,
   "id": "b4668296",
   "metadata": {},
   "outputs": [],
   "source": [
    "# os.chdir('../pickle')\n",
    "# # export to pickle\n",
    "# filehandler = open(\"xarray_ds_solar_mask_resolution.pickle\",\"wb\")\n",
    "# pickle.dump(xarray_ds_solar, filehandler)\n",
    "# filehandler.close()\n",
    "# filehandler = open(\"xarray_ds_wind_mask_resolution.pickle\",\"wb\")\n",
    "# pickle.dump(xarray_ds_wind, filehandler)\n",
    "# filehandler.close()"
   ]
  },
  {
   "cell_type": "markdown",
   "id": "c9f21595",
   "metadata": {},
   "source": [
    "# CF/LCOE Plots: All India"
   ]
  },
  {
   "cell_type": "code",
   "execution_count": null,
   "id": "d066842d",
   "metadata": {},
   "outputs": [],
   "source": [
    "# os.chdir('../pickle')\n",
    "\n",
    "# # includes LCOE\n",
    "# file = open(\"xarray_ds_solar_mask_resolution.pickle\",'rb')\n",
    "# xarray_ds_solar = pickle.load(file)\n",
    "# file.close()\n",
    "# file = open(\"xarray_ds_wind_mask_resolution.pickle\",'rb')\n",
    "# xarray_ds_wind = pickle.load(file)\n",
    "# file.close()"
   ]
  },
  {
   "cell_type": "code",
   "execution_count": null,
   "id": "4b6e98e9",
   "metadata": {},
   "outputs": [],
   "source": [
    "os.chdir('../../outputs/plots')"
   ]
  },
  {
   "cell_type": "code",
   "execution_count": null,
   "id": "217d218d",
   "metadata": {
    "scrolled": false
   },
   "outputs": [],
   "source": [
    "out = xarray_ds_solar['solar'] * xarray_ds_solar['mask']\n",
    "\n",
    "col_dict = {\n",
    "    0: 'white',\n",
    "    1: \"#1343f4\",\n",
    "    2: \"#00c3f9\",\n",
    "    3: \"#c1f298\",\n",
    "    4: \"#f2b740\",\n",
    "    5: \"#ea3326\",\n",
    "}\n",
    "\n",
    "cm = ListedColormap([col_dict[x] for x in col_dict.keys()])\n",
    "cm1 = ListedColormap([col_dict[x] for x in range(1,6)])\n",
    "\n",
    "labels = np.array(['0.11 - 0.16', '0.16 - 0.17', '0.17 - 0.18', '0.18 - 0.21', '0.21 - 0.29'])\n",
    "norm_bins = [0.11, 0.16, 0.17, 0.18, 0.21, 0.3]\n",
    "norm = matplotlib.colors.BoundaryNorm(norm_bins, len(labels))\n",
    "\n",
    "fig = plt.figure(figsize = (14, 10))\n",
    "ax = fig.add_subplot()\n",
    "\n",
    "a = out.plot(\n",
    "    ax=ax,\n",
    "    cmap=cm,\n",
    "    norm=norm,\n",
    "    zorder=-1\n",
    ")\n",
    "\n",
    "b = geoplot.polyplot(\n",
    "    gpd.GeoSeries(states),\n",
    "    ax=ax\n",
    ")\n",
    "\n",
    "cax, cbar_kwds = mcbar.make_axes(ax, location = 'right', fraction=0.15, shrink=0.4, aspect=20)\n",
    "cb = matplotlib.colorbar.ColorbarBase(cax, \n",
    "                                      cmap=cm1,\n",
    "                                      norm=norm,\n",
    "                                      ticks=norm_bins[1:],\n",
    "                                      spacing='uniform'\n",
    ")\n",
    "cb.set_ticklabels(labels)\n",
    "cb.set_label(\"Capacity Factor for Solar PV [Annual Average]\", labelpad=-100)\n",
    "\n",
    "ax.get_figure().savefig(\"solar_cf_suitability_mask.png\")"
   ]
  },
  {
   "cell_type": "code",
   "execution_count": null,
   "id": "6d087983",
   "metadata": {},
   "outputs": [],
   "source": [
    "out = xarray_ds_solar['LCOE ($/MWh) mid'] * xarray_ds_solar['mask']\n",
    "\n",
    "labels = np.array(['40 - 55', '55 - 60', '60 - 65', '65 - 70', '70+'])\n",
    "norm_bins = [40, 55, 60, 65, 70, 120]\n",
    "norm = matplotlib.colors.BoundaryNorm(norm_bins, len(labels))\n",
    "\n",
    "fig = plt.figure(figsize = (14, 10))\n",
    "ax = fig.add_subplot()\n",
    "\n",
    "a = out.plot(\n",
    "    ax=ax,\n",
    "    cmap=cm,\n",
    "    norm=norm,\n",
    "    zorder=-1\n",
    ")\n",
    "\n",
    "b = geoplot.polyplot(\n",
    "    gpd.GeoSeries(states),\n",
    "    ax=ax\n",
    ")\n",
    "\n",
    "cax, cbar_kwds = mcbar.make_axes(ax, location = 'right', fraction=0.15, shrink=0.4, aspect=20)\n",
    "cb = matplotlib.colorbar.ColorbarBase(cax, \n",
    "                                      cmap=cm1,\n",
    "                                      norm=norm,\n",
    "                                      ticks=norm_bins[1:],\n",
    "                                      spacing='uniform'\n",
    ")\n",
    "cb.set_ticklabels(labels)\n",
    "cb.set_label(\"LCOE ($/MWh)  for Solar PV [Annual Average]\", labelpad=-100)\n",
    "\n",
    "ax.get_figure().savefig(\"solar_lcoe_suitability_mask.png\")"
   ]
  },
  {
   "cell_type": "code",
   "execution_count": null,
   "id": "23aa2048",
   "metadata": {
    "scrolled": false
   },
   "outputs": [],
   "source": [
    "out = xarray_ds_wind['wind'] * xarray_ds_wind['mask']\n",
    "\n",
    "labels = np.array(['0.04 - 0.07', '0.07 - 0.1', '0.1 - 0.2', '0.2 - 0.3', '0.3-0.5'])\n",
    "norm_bins = [0.04, 0.07, 0.1, 0.2, 0.3, 0.6]\n",
    "norm = matplotlib.colors.BoundaryNorm(norm_bins, len(labels))\n",
    "\n",
    "fig = plt.figure(figsize = (14, 10))\n",
    "ax = fig.add_subplot()\n",
    "\n",
    "a = out.plot(\n",
    "    ax=ax,\n",
    "    cmap=cm,\n",
    "    norm=norm,\n",
    "    zorder=-1\n",
    ")\n",
    "\n",
    "b = geoplot.polyplot(\n",
    "    gpd.GeoSeries(states),\n",
    "    ax=ax\n",
    ")\n",
    "\n",
    "cax, cbar_kwds = mcbar.make_axes(ax, location = 'right', fraction=0.15, shrink=0.4, aspect=20)\n",
    "cb = matplotlib.colorbar.ColorbarBase(cax, \n",
    "                                      cmap=cm1,\n",
    "                                      norm=norm,\n",
    "                                      ticks=norm_bins[1:],\n",
    "                                      spacing='uniform'\n",
    ")\n",
    "cb.set_ticklabels(labels)\n",
    "cb.set_label(\"Capacity Factor for Wind [Annual Average]\", labelpad=-100)\n",
    "\n",
    "ax.get_figure().savefig(\"wind_cf_suitability_mask.png\")"
   ]
  },
  {
   "cell_type": "code",
   "execution_count": null,
   "id": "92b8b427",
   "metadata": {
    "scrolled": false
   },
   "outputs": [],
   "source": [
    "out = xarray_ds_wind['LCOE ($/MWh) mid'] * xarray_ds_wind['mask']\n",
    "\n",
    "labels = np.array(['30 - 60', '60 - 90', '90 - 120', '120 - 150', '150+'])\n",
    "norm_bins = [27, 60, 90, 120, 150, 180]\n",
    "norm = matplotlib.colors.BoundaryNorm(norm_bins, len(labels))\n",
    "\n",
    "fig = plt.figure(figsize = (14, 10))\n",
    "ax = fig.add_subplot()\n",
    "\n",
    "a = out.plot(\n",
    "    ax=ax,\n",
    "    cmap=cm,\n",
    "    norm=norm,\n",
    "    zorder=-1\n",
    ")\n",
    "\n",
    "b = geoplot.polyplot(\n",
    "    gpd.GeoSeries(states),\n",
    "    ax=ax\n",
    ")\n",
    "\n",
    "cax, cbar_kwds = mcbar.make_axes(ax, location = 'right', fraction=0.15, shrink=0.4, aspect=20)\n",
    "cb = matplotlib.colorbar.ColorbarBase(cax, \n",
    "                                      cmap=cm1,\n",
    "                                      norm=norm,\n",
    "                                      ticks=norm_bins[1:],\n",
    "                                      spacing='uniform'\n",
    ")\n",
    "cb.set_ticklabels(labels)\n",
    "cb.set_label(\"LCOE ($/MWh)  for Wind [Annual Average]\", labelpad=-100)\n",
    "\n",
    "ax.get_figure().savefig(\"wind_lcoe_suitability_mask.png\")"
   ]
  }
 ],
 "metadata": {
  "kernelspec": {
   "display_name": "Python 3 (ipykernel)",
   "language": "python",
   "name": "python3"
  },
  "language_info": {
   "codemirror_mode": {
    "name": "ipython",
    "version": 3
   },
   "file_extension": ".py",
   "mimetype": "text/x-python",
   "name": "python",
   "nbconvert_exporter": "python",
   "pygments_lexer": "ipython3",
   "version": "3.7.13"
  }
 },
 "nbformat": 4,
 "nbformat_minor": 5
}
