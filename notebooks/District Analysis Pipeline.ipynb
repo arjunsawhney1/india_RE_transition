{
 "cells": [
  {
   "cell_type": "markdown",
   "metadata": {},
   "source": [
    "# Import Statements"
   ]
  },
  {
   "cell_type": "code",
   "execution_count": 1,
   "metadata": {},
   "outputs": [],
   "source": [
    "import os\n",
    "import logging\n",
    "logging.basicConfig(level=logging.INFO)\n",
    "import warnings\n",
    "warnings.filterwarnings('ignore')\n",
    "\n",
    "import geodata\n",
    "import xarray as xr\n",
    "import pandas as pd\n",
    "import numpy as np\n",
    "import pickle\n",
    "\n",
    "from shapely.geometry import shape\n",
    "from shapely.geometry import Point\n",
    "from shapely.geometry import Polygon\n",
    "from shapely.ops import cascaded_union\n",
    "import statsmodels.api as sm\n",
    "import cartopy.io.shapereader as shpreader\n",
    "import geopandas as gpd\n",
    "import seaborn as sns\n",
    "import matplotlib.pyplot as plt\n",
    "import plotly.graph_objects as go"
   ]
  },
  {
   "cell_type": "markdown",
   "metadata": {},
   "source": [
    "# Load from pickle"
   ]
  },
  {
   "cell_type": "code",
   "execution_count": 2,
   "metadata": {},
   "outputs": [],
   "source": [
    "os.chdir('data/pickle')\n",
    "\n",
    "# district data\n",
    "file = open(\"districts.pickle\",'rb')\n",
    "districts = pickle.load(file)\n",
    "file.close()\n",
    "# state shapes\n",
    "file = open(\"states.pickle\",'rb')\n",
    "states = pickle.load(file)\n",
    "file.close()\n",
    "# ranked district data\n",
    "file = open(\"JPCD_sum.pickle\",'rb')\n",
    "JPCD_sum = pickle.load(file)\n",
    "file.close()\n",
    "# includes LCOE\n",
    "file = open(\"xarray_ds_wind.pickle\",'rb')\n",
    "xarray_ds_wind = pickle.load(file)\n",
    "file.close()\n",
    "file = open(\"xarray_ds_solar.pickle\",'rb')\n",
    "xarray_ds_solar = pickle.load(file)\n",
    "file.close()\n",
    "# renewable energy targets\n",
    "# TERI\n",
    "file = open(\"wind_t_30.pickle\",'rb')\n",
    "wind_t_30 = pickle.load(file)\n",
    "file.close()\n",
    "file = open(\"solar_t_30.pickle\",'rb')\n",
    "solar_t_30 = pickle.load(file)\n",
    "file.close()\n",
    "# NREL\n",
    "file = open(\"wind_t_47.pickle\",'rb')\n",
    "wind_t_47 = pickle.load(file)\n",
    "file.close()\n",
    "file = open(\"solar_t_47.pickle\",'rb')\n",
    "solar_t_47 = pickle.load(file)\n",
    "file.close()\n",
    "# coal incumbency states and districts\n",
    "file = open(\"high.pickle\",'rb')\n",
    "high = pickle.load(file)\n",
    "file.close()\n",
    "file = open(\"high_districts.pickle\",'rb')\n",
    "high_districts = pickle.load(file)\n",
    "file.close()\n",
    "file = open(\"high_states.pickle\",'rb')\n",
    "high_states = pickle.load(file)\n",
    "file.close()\n",
    "file = open(\"mid.pickle\",'rb')\n",
    "mid = pickle.load(file)\n",
    "file.close()\n",
    "file = open(\"mid_districts.pickle\",'rb')\n",
    "mid_districts = pickle.load(file)\n",
    "file.close()\n",
    "file = open(\"mid_states.pickle\",'rb')\n",
    "mid_states = pickle.load(file)\n",
    "file.close()\n",
    "file = open(\"low.pickle\",'rb')\n",
    "low = pickle.load(file)\n",
    "file.close()\n",
    "file = open(\"low_districts.pickle\",'rb')\n",
    "low_districts = pickle.load(file)\n",
    "file.close()\n",
    "file = open(\"low_states.pickle\",'rb')\n",
    "low_states = pickle.load(file)\n",
    "file.close()\n",
    "#combined with cutout\n",
    "file = open(\"combine_wind_high.pickle\",'rb')\n",
    "combine_wind_high = pickle.load(file)\n",
    "file.close()\n",
    "file = open(\"combine_wind_mid.pickle\",'rb')\n",
    "combine_wind_mid = pickle.load(file)\n",
    "file.close()\n",
    "file = open(\"combine_wind_low.pickle\",'rb')\n",
    "combine_wind_low = pickle.load(file)\n",
    "file.close()\n",
    "file = open(\"combine_solar_high.pickle\",'rb')\n",
    "combine_solar_high = pickle.load(file)\n",
    "file.close()\n",
    "file = open(\"combine_solar_mid.pickle\",'rb')\n",
    "combine_solar_mid = pickle.load(file)\n",
    "file.close()\n",
    "file = open(\"combine_solar_low.pickle\",'rb')\n",
    "combine_solar_low = pickle.load(file)\n",
    "file.close()\n",
    "# heatmap data\n",
    "file = open(\"wind_cf_summary_30.pickle\",'rb')\n",
    "wind_cf_summary_30 = pickle.load(file)\n",
    "file.close()\n",
    "file = open(\"wind_lcoe_summary_30.pickle\",'rb')\n",
    "wind_lcoe_summary_30 = pickle.load(file)\n",
    "file.close()\n",
    "file = open(\"solar_cf_summary_30.pickle\",'rb')\n",
    "solar_cf_summary_30 = pickle.load(file)\n",
    "file.close()\n",
    "file = open(\"solar_lcoe_summary_30.pickle\",'rb')\n",
    "solar_lcoe_summary_30 = pickle.load(file)\n",
    "file.close()\n",
    "file = open(\"wind_cf_summary_47.pickle\",'rb')\n",
    "wind_cf_summary_47 = pickle.load(file)\n",
    "file.close()\n",
    "file = open(\"wind_lcoe_summary_47.pickle\",'rb')\n",
    "wind_lcoe_summary_47 = pickle.load(file)\n",
    "file.close()\n",
    "file = open(\"solar_cf_summary_47.pickle\",'rb')\n",
    "solar_cf_summary_47 = pickle.load(file)\n",
    "file.close()\n",
    "file = open(\"solar_lcoe_summary_47.pickle\",'rb')\n",
    "solar_lcoe_summary_47 = pickle.load(file)\n",
    "file.close()\n",
    "\n",
    "os.chdir('../..')"
   ]
  },
  {
   "cell_type": "markdown",
   "metadata": {},
   "source": [
    "# Download India 2018 ERA5 Hourly Weather Data"
   ]
  },
  {
   "cell_type": "code",
   "execution_count": 3,
   "metadata": {},
   "outputs": [
    {
     "name": "stderr",
     "output_type": "stream",
     "text": [
      "INFO:geodata.dataset:Directory C:/Users/arjun/desktop/davidson_lab/data/era5 found, checking for completeness.\n",
      "INFO:geodata.dataset:Directory complete.\n"
     ]
    }
   ],
   "source": [
    "DS_hourly = geodata.Dataset(module=\"era5\",\n",
    "                            weather_data_config = \"wind_solar_hourly\",\n",
    "                            bounds=[37, 68, 6, 98],\n",
    "                            years=slice(2018, 2018),\n",
    "                            months=slice(1,12))\n",
    "\n",
    "if DS_hourly.prepared == False:\n",
    "\tDS_hourly.get_data()"
   ]
  },
  {
   "cell_type": "markdown",
   "metadata": {},
   "source": [
    "# Create Cutout"
   ]
  },
  {
   "cell_type": "code",
   "execution_count": 4,
   "metadata": {},
   "outputs": [
    {
     "name": "stderr",
     "output_type": "stream",
     "text": [
      "INFO:geodata.cutout:All cutout (india-2018-era5-wind-solar-hourly, C:/Users/arjun/desktop/davidson_lab/data/cutouts) files available.\n",
      "INFO:geodata.cutout:Cutout subset prepared: <Cutout india-2018-era5-wind-solar-hourly x=68.00-98.00 y=37.00-6.00 time=2018/1-2018/12 prepared>\n",
      "INFO:geodata.preparation:The cutout is already prepared. If you want to recalculate it, supply an `overwrite=True` argument.\n"
     ]
    },
    {
     "data": {
      "text/plain": [
       "True"
      ]
     },
     "execution_count": 4,
     "metadata": {},
     "output_type": "execute_result"
    }
   ],
   "source": [
    "## CUTOUT\n",
    "cutout = geodata.Cutout(name = \"india-2018-era5-wind-solar-hourly\",\n",
    "                        module = \"era5\",\n",
    "                        weather_data_config = \"wind_solar_hourly\",\n",
    "                        xs = slice(68, 98),\n",
    "                        ys = slice(6, 37),\n",
    "                        years=slice(2018, 2018),\n",
    "                        months=slice(1,12))\n",
    "\n",
    "cutout.prepare()"
   ]
  },
  {
   "cell_type": "markdown",
   "metadata": {},
   "source": [
    "# Get Wind & Solar Profiles"
   ]
  },
  {
   "cell_type": "code",
   "execution_count": null,
   "metadata": {},
   "outputs": [],
   "source": [
    "ds_wind = geodata.convert.wind(cutout, \n",
    "                               turbine='Siemens_SWT_107_3600kW')\n",
    "\n",
    "ds_solar = geodata.convert.pv(cutout,\n",
    "                              panel = \"KANENA\",\n",
    "                              orientation = \"latitude_optimal\")"
   ]
  },
  {
   "cell_type": "markdown",
   "metadata": {},
   "source": [
    "# Plot cutout for sanity check"
   ]
  },
  {
   "cell_type": "code",
   "execution_count": null,
   "metadata": {},
   "outputs": [],
   "source": [
    "ds_wind = ds_wind.reset_coords(['lon', 'lat'], drop = True).rename({'x': 'lon', 'y': 'lat'})\n",
    "ds_solar = ds_solar.reset_coords(['lon', 'lat'], drop = True).rename({'x': 'lon', 'y': 'lat'})\n",
    "\n",
    "ds_wind.sortby(['lon', 'lat'])\n",
    "ds_solar.sortby(['lon', 'lat'])\n",
    "\n",
    "xarray_ds_wind = ds_wind.to_dataset(name = 'wind')\n",
    "xarray_ds_solar = ds_solar.to_dataset(name = 'solar')\n",
    "\n",
    "xarray_ds_wind = xarray_ds_wind.coarsen(time = 8760, boundary = 'exact').mean()\n",
    "xarray_ds_solar = xarray_ds_solar.coarsen(time = 8760, boundary = 'exact').mean()"
   ]
  },
  {
   "cell_type": "markdown",
   "metadata": {},
   "source": [
    "## Rank Districts by \"Coal Incumbency\""
   ]
  },
  {
   "cell_type": "markdown",
   "metadata": {},
   "source": [
    "### Calculate cdfs"
   ]
  },
  {
   "cell_type": "code",
   "execution_count": null,
   "metadata": {},
   "outputs": [],
   "source": [
    "jobs_cdf = sm.distributions.ECDF(districts['Coal Job %'].dropna())\n",
    "pensions_cdf = sm.distributions.ECDF(districts['Coal Pensioners %'].dropna())\n",
    "dmf_cdf = sm.distributions.ECDF(districts[districts['DMF USD'] > 0]['DMF USD'].dropna())\n",
    "csr_cdf = sm.distributions.ECDF(districts[districts['CSR USD'] > 0]['CSR USD'].dropna())"
   ]
  },
  {
   "cell_type": "code",
   "execution_count": null,
   "metadata": {
    "scrolled": false
   },
   "outputs": [],
   "source": [
    "# plt.step(jobs_cdf.x, jobs_cdf.y)\n",
    "# plt.show()"
   ]
  },
  {
   "cell_type": "code",
   "execution_count": null,
   "metadata": {},
   "outputs": [],
   "source": [
    "# plt.step(pensions_cdf.x, pensions_cdf.y)\n",
    "# plt.show()"
   ]
  },
  {
   "cell_type": "code",
   "execution_count": null,
   "metadata": {},
   "outputs": [],
   "source": [
    "# plt.step(dmf_cdf.x, dmf_cdf.y)\n",
    "# plt.show()"
   ]
  },
  {
   "cell_type": "code",
   "execution_count": null,
   "metadata": {},
   "outputs": [],
   "source": [
    "# plt.step(csr_cdf.x, csr_cdf.y)\n",
    "# plt.show()"
   ]
  },
  {
   "cell_type": "code",
   "execution_count": null,
   "metadata": {
    "scrolled": true
   },
   "outputs": [],
   "source": [
    "def return_edges(cdf):\n",
    "    bin_edges = []\n",
    "    bin_edges.append(cdf.x[0])\n",
    "\n",
    "    for lst in np.array_split(cdf.x, 3):\n",
    "        bin_edges.append(lst[len(lst) - 1])\n",
    "        \n",
    "    return bin_edges\n",
    "\n",
    "def return_groups(val, bin_edges):\n",
    "    if val == 0:\n",
    "        return 0\n",
    "    elif val >= bin_edges[2] and val <= bin_edges[3]:\n",
    "        return 3\n",
    "    elif val >= bin_edges[1] and val <= bin_edges[2]:\n",
    "        return 2\n",
    "    elif val >= bin_edges[0] and val <= bin_edges[1]:\n",
    "        return 1\n",
    "    else:\n",
    "        return None"
   ]
  },
  {
   "cell_type": "code",
   "execution_count": null,
   "metadata": {
    "scrolled": false
   },
   "outputs": [],
   "source": [
    "# Bins\n",
    "jobs_edges = return_edges(jobs_cdf)\n",
    "pensions_edges = return_edges(pensions_cdf)\n",
    "dmf_edges = return_edges(csr_cdf)\n",
    "csr_edges = return_edges(dmf_cdf)\n",
    "\n",
    "# Assign labels to equal percentile groups \n",
    "job_groups = districts['Coal Job %'].apply(lambda x: return_groups(x, jobs_edges))\n",
    "pension_groups = districts['Coal Pensioners %'].apply(lambda x: return_groups(x, pensions_edges))\n",
    "csr_groups = districts['CSR USD'].apply(lambda x: return_groups(x, csr_edges))\n",
    "dmf_groups = districts['DMF USD'].apply(lambda x: return_groups(x, dmf_edges))\n",
    "\n",
    "# Create new columns \n",
    "JPCD_sum = districts.assign(\n",
    "    J = job_groups, \n",
    "    P = pension_groups, \n",
    "    C = csr_groups,\n",
    "    D = dmf_groups\n",
    ")\n",
    "JPCD_sum = JPCD_sum[['State Name', 'District Name', 'Geometry', 'J', 'P', 'C', 'D']]\n",
    "\n",
    "# Prepare for weighted sum \n",
    "JPCD_sum['J'] = JPCD_sum['J'].apply(lambda x: x*1)\n",
    "JPCD_sum['P'] = JPCD_sum['P'].apply(lambda x: x*1/2)\n",
    "JPCD_sum['C'] = JPCD_sum['C'].apply(lambda x: x*1/3)\n",
    "JPCD_sum['D'] = JPCD_sum['D'].apply(lambda x: x*1/4)\n",
    "\n",
    "# Create Rank Score by summing\n",
    "JPCD_sum['Score'] = JPCD_sum[['J', 'P', 'D', 'C']].sum(axis = 1)\n",
    "scores_cdf = sm.distributions.ECDF(JPCD_sum[JPCD_sum['Score'] > 0]['Score'])\n",
    "scores_edges = return_edges(scores_cdf)\n",
    "JPCD_sum['Rank'] = JPCD_sum['Score'].apply(lambda x: return_groups(x, scores_edges))\n",
    "JPCD_sum"
   ]
  },
  {
   "cell_type": "code",
   "execution_count": null,
   "metadata": {},
   "outputs": [],
   "source": [
    "# export to pickle\n",
    "os.chdir('data/pickle')\n",
    "filehandler = open(\"JPCD_sum.pickle\",\"wb\")\n",
    "pickle.dump(JPCD_sum, filehandler)\n",
    "filehandler.close()"
   ]
  },
  {
   "cell_type": "markdown",
   "metadata": {},
   "source": [
    "### High Coal Incumbency Districts"
   ]
  },
  {
   "cell_type": "code",
   "execution_count": null,
   "metadata": {},
   "outputs": [],
   "source": [
    "high = JPCD_sum[JPCD_sum['Rank'] == 3]\n",
    "high_states = np.unique(high['State Name'])\n",
    "high_districts = cascaded_union(high['Geometry'])"
   ]
  },
  {
   "cell_type": "code",
   "execution_count": null,
   "metadata": {},
   "outputs": [],
   "source": [
    "# export to pickle\n",
    "filehandler = open(\"high.pickle\",\"wb\")\n",
    "pickle.dump(high, filehandler)\n",
    "filehandler.close()\n",
    "filehandler = open(\"high_districts.pickle\",\"wb\")\n",
    "pickle.dump(high_districts, filehandler)\n",
    "filehandler.close()\n",
    "filehandler = open(\"high_states.pickle\",\"wb\")\n",
    "pickle.dump(high_states, filehandler)\n",
    "filehandler.close()"
   ]
  },
  {
   "cell_type": "markdown",
   "metadata": {},
   "source": [
    "### Mid Coal Incumbency Districts"
   ]
  },
  {
   "cell_type": "code",
   "execution_count": null,
   "metadata": {},
   "outputs": [],
   "source": [
    "mid = JPCD_sum[JPCD_sum['Rank'].isin([2,1])]\n",
    "mid_states = np.unique(mid['State Name'])\n",
    "mid_districts = cascaded_union(mid['Geometry'])"
   ]
  },
  {
   "cell_type": "code",
   "execution_count": null,
   "metadata": {},
   "outputs": [],
   "source": [
    "# export to pickle\n",
    "filehandler = open(\"mid.pickle\",\"wb\")\n",
    "pickle.dump(mid, filehandler)\n",
    "filehandler.close()\n",
    "filehandler = open(\"mid_districts.pickle\",\"wb\")\n",
    "pickle.dump(mid_districts, filehandler)\n",
    "filehandler.close()\n",
    "filehandler = open(\"mid_states.pickle\",\"wb\")\n",
    "pickle.dump(mid_states, filehandler)\n",
    "filehandler.close()"
   ]
  },
  {
   "cell_type": "markdown",
   "metadata": {},
   "source": [
    "### Low Coal Incumbency Districts"
   ]
  },
  {
   "cell_type": "code",
   "execution_count": null,
   "metadata": {},
   "outputs": [],
   "source": [
    "low = JPCD_sum[JPCD_sum['Rank'] == 0]\n",
    "low_states = np.unique(low['State Name'])\n",
    "low_districts = cascaded_union(low['Geometry'])"
   ]
  },
  {
   "cell_type": "code",
   "execution_count": null,
   "metadata": {},
   "outputs": [],
   "source": [
    "# export to pickle\n",
    "filehandler = open(\"low.pickle\",\"wb\")\n",
    "pickle.dump(low, filehandler)\n",
    "filehandler.close()\n",
    "filehandler = open(\"low_districts.pickle\",\"wb\")\n",
    "pickle.dump(low_districts, filehandler)\n",
    "filehandler.close()\n",
    "filehandler = open(\"low_states.pickle\",\"wb\")\n",
    "pickle.dump(low_states, filehandler)\n",
    "filehandler.close()"
   ]
  },
  {
   "cell_type": "markdown",
   "metadata": {},
   "source": [
    "# Transmission / Substation Data"
   ]
  },
  {
   "cell_type": "code",
   "execution_count": null,
   "metadata": {},
   "outputs": [],
   "source": [
    "# transmission = gpd.read_file('cae13821b4b7807f792aa0c03e0fd75903dae11dbd363484b1376ab9.shp')\n",
    "# transmission = transmission.drop(columns=['name']).reset_index()\n",
    "# transmission = gpd.GeoDataFrame(transmission, geometry='geometry')\n",
    "# transmission.to_file(\"transmission.shp\", driver='ESRI Shapefile')"
   ]
  },
  {
   "cell_type": "code",
   "execution_count": null,
   "metadata": {},
   "outputs": [],
   "source": [
    "# substations = transmission.geometry.apply(lambda x: Point(x.bounds[:2], x.bounds[2:])).explode().reset_index()\n",
    "# substations = substations.drop(columns=['level_1'])\n",
    "# substations.columns = ['index', 'geometry']\n",
    "# substations = gpd.GeoDataFrame(substations, geometry='geometry')\n",
    "# substations.to_file(\"substations.shp\", driver='ESRI Shapefile')"
   ]
  },
  {
   "cell_type": "code",
   "execution_count": null,
   "metadata": {},
   "outputs": [],
   "source": [
    "# grid_cells = pd.DataFrame(cutout.grid_cells()).reset_index()\n",
    "# grid_cells.columns = ['index', 'geometry']\n",
    "# grid_cells = gpd.GeoDataFrame(grid_cells, geometry='geometry')\n",
    "# grid_cells.to_file(\"grid_cells.shp\", driver='ESRI Shapefile')"
   ]
  },
  {
   "cell_type": "markdown",
   "metadata": {},
   "source": [
    "### Calculate Distances using QGIS\n",
    "- https://www.qgistutorials.com/en/docs/3/nearest_neighbor_analysis.html"
   ]
  },
  {
   "cell_type": "code",
   "execution_count": null,
   "metadata": {
    "scrolled": false
   },
   "outputs": [],
   "source": [
    "# transmission = pd.read_csv('trans_distances.csv')\n",
    "# transmission = pd.DataFrame(cutout.grid_coordinates()).join(transmission).drop(columns=['index', 'HubName'])\n",
    "# transmission.columns = ['lon', 'lat', 'Closest Transmission Line Distance (km)']\n",
    "# transmission = transmission.set_index(['lon', 'lat'])\n",
    "# transmission"
   ]
  },
  {
   "cell_type": "code",
   "execution_count": null,
   "metadata": {},
   "outputs": [],
   "source": [
    "os.chdir('../tables')\n",
    "substation = pd.read_csv('substation_distance.csv')\n",
    "substation = pd.DataFrame(cutout.grid_coordinates()).join(substation).drop(columns=['index', 'HubName'])\n",
    "substation.columns = ['lon', 'lat', 'Closest Substation Distance (km)']\n",
    "substation = substation.set_index(['lon', 'lat'])\n",
    "substation"
   ]
  },
  {
   "cell_type": "markdown",
   "metadata": {},
   "source": [
    "# LCOE Calculation"
   ]
  },
  {
   "cell_type": "code",
   "execution_count": null,
   "metadata": {},
   "outputs": [],
   "source": [
    "df_ds_wind = xarray_ds_wind.to_dataframe().reset_index().set_index(['lon', 'lat'])\n",
    "# df_ds_wind['transmission_distance'] = transmission['Closest Transmission Line Distance (km)']\n",
    "df_ds_wind['substation_distance'] = substation['Closest Substation Distance (km)']\n",
    "df_ds_wind = df_ds_wind[df_ds_wind['wind'] > 0.05]\n",
    "df_ds_wind['LCOE ($/MWh)'] = (0.104 * (1250 + df_ds_wind['substation_distance'] * 0.45) + 15) * 1000 / (df_ds_wind['wind'] * 8760)\n",
    "xarray_ds_wind = df_ds_wind.reset_index().set_index(['time', 'lat', 'lon']).to_xarray()\n",
    "\n",
    "df_ds_solar = xarray_ds_solar.to_dataframe().reset_index().set_index(['lon', 'lat'])\n",
    "# df_ds_solar['transmission_distance'] = transmission['Closest Transmission Line Distance (km)']\n",
    "df_ds_solar['substation_distance'] = substation['Closest Substation Distance (km)']\n",
    "df_ds_solar['LCOE ($/MWh)'] = (0.096 * (850 + df_ds_solar['substation_distance'] * 0.45) + 10) * 1000 / (df_ds_solar['solar'] * 8760)\n",
    "xarray_ds_solar = df_ds_solar.reset_index().set_index(['time', 'lat', 'lon']).to_xarray()"
   ]
  },
  {
   "cell_type": "code",
   "execution_count": null,
   "metadata": {},
   "outputs": [],
   "source": [
    "xarray_ds_wind['wind'].plot()"
   ]
  },
  {
   "cell_type": "code",
   "execution_count": null,
   "metadata": {
    "scrolled": true
   },
   "outputs": [],
   "source": [
    "xarray_ds_wind['LCOE ($/MWh)'].plot()"
   ]
  },
  {
   "cell_type": "code",
   "execution_count": null,
   "metadata": {},
   "outputs": [],
   "source": [
    "xarray_ds_solar['solar'].plot()"
   ]
  },
  {
   "cell_type": "code",
   "execution_count": null,
   "metadata": {},
   "outputs": [],
   "source": [
    "xarray_ds_solar['LCOE ($/MWh)'].plot()"
   ]
  },
  {
   "cell_type": "code",
   "execution_count": null,
   "metadata": {},
   "outputs": [],
   "source": [
    "os.chdir('../pickle')\n",
    "# export to pickle\n",
    "filehandler = open(\"xarray_ds_wind.pickle\",\"wb\")\n",
    "pickle.dump(xarray_ds_wind, filehandler)\n",
    "filehandler.close()\n",
    "filehandler = open(\"xarray_ds_solar.pickle\",\"wb\")\n",
    "pickle.dump(xarray_ds_solar, filehandler)\n",
    "filehandler.close()"
   ]
  },
  {
   "cell_type": "markdown",
   "metadata": {},
   "source": [
    "# Load Geodata MODIS Mask"
   ]
  },
  {
   "cell_type": "code",
   "execution_count": null,
   "metadata": {},
   "outputs": [],
   "source": [
    "os.chdir('../masks')\n",
    "india_wind_high = geodata.Mask(\"India Wind High\", layer_path = {\n",
    "    'suitability': 'MODIS_INDIA_WIND.tif'\n",
    "})\n",
    "india_wind_mid = geodata.Mask(\"India Wind Mid\", layer_path = {\n",
    "    'suitability': 'MODIS_INDIA_WIND.tif'\n",
    "})\n",
    "india_wind_low = geodata.Mask(\"India Wind Low\", layer_path = {\n",
    "    'suitability': 'MODIS_INDIA_WIND.tif'\n",
    "})\n",
    "\n",
    "india_solar_high = geodata.Mask(\"India Solar High\", layer_path = {\n",
    "    'suitability': 'MODIS_INDIA_SOLAR.tif'\n",
    "})\n",
    "india_solar_mid = geodata.Mask(\"India Solar Mid\", layer_path = {\n",
    "    'suitability': 'MODIS_INDIA_SOLAR.tif'\n",
    "})\n",
    "india_solar_low = geodata.Mask(\"India Solar Low\", layer_path = {\n",
    "    'suitability': 'MODIS_INDIA_SOLAR.tif'\n",
    "})"
   ]
  },
  {
   "cell_type": "code",
   "execution_count": null,
   "metadata": {},
   "outputs": [],
   "source": [
    "# india_wind_high.layers['suitability'] = geodata.mask.binarize_raster(india_wind_high.layers['suitability'], values = [6,7,8,9,10,12,14,16])\n",
    "# india_wind_mid.layers['suitability'] = geodata.mask.binarize_raster(india_wind_mid.layers['suitability'], values = [6,7,8,9,10,12,14,16])\n",
    "# india_wind_low.layers['suitability'] = geodata.mask.binarize_raster(india_wind_low.layers['suitability'], values = [6,7,8,9,10,12,14,16])\n",
    "# india_wind_all.layers['suitability'] = geodata.mask.binarize_raster(india_wind_all.layers['suitability'], values = [6,7,8,9,10,12,14,16])\n",
    "\n",
    "# india_solar_high.layers['suitability'] = geodata.mask.binarize_raster(india_solar_high.layers['suitability'], values = [6,7,8,9,10,16])\n",
    "# india_solar_mid.layers['suitability'] = geodata.mask.binarize_raster(india_solar_mid.layers['suitability'], values = [6,7,8,9,10,16])\n",
    "# india_solar_low.layers['suitability'] = geodata.mask.binarize_raster(india_solar_low.layers['suitability'], values = [6,7,8,9,10,16])\n",
    "# india_solar_all.layers['suitability'] = geodata.mask.binarize_raster(india_solar_all.layers['suitability'], values = [6,7,8,9,10,16])"
   ]
  },
  {
   "cell_type": "code",
   "execution_count": null,
   "metadata": {},
   "outputs": [],
   "source": [
    "geodata.mask.show_all(india_solar_high.layers)"
   ]
  },
  {
   "cell_type": "code",
   "execution_count": null,
   "metadata": {},
   "outputs": [],
   "source": [
    "geodata.mask.show_all(india_wind_high.layers)"
   ]
  },
  {
   "cell_type": "markdown",
   "metadata": {},
   "source": [
    "# Extract District Shapes as Mask Layers"
   ]
  },
  {
   "cell_type": "markdown",
   "metadata": {},
   "source": [
    "## Districts by coal incumbency"
   ]
  },
  {
   "cell_type": "code",
   "execution_count": null,
   "metadata": {},
   "outputs": [],
   "source": [
    "high_districts = {'districts': high_districts}\n",
    "mid_districts = {'districts': mid_districts}\n",
    "low_districts = {'districts': low_districts}"
   ]
  },
  {
   "cell_type": "code",
   "execution_count": null,
   "metadata": {},
   "outputs": [],
   "source": [
    "india_wind_high.extract_shapes(high_districts, layer = 'suitability')\n",
    "india_wind_mid.extract_shapes(mid_districts, layer = 'suitability')\n",
    "india_wind_low.extract_shapes(low_districts, layer = 'suitability')\n",
    "\n",
    "india_solar_high.extract_shapes(high_districts, layer = 'suitability')\n",
    "india_solar_mid.extract_shapes(mid_districts, layer = 'suitability')\n",
    "india_solar_low.extract_shapes(low_districts, layer = 'suitability')"
   ]
  },
  {
   "cell_type": "code",
   "execution_count": null,
   "metadata": {},
   "outputs": [],
   "source": [
    "india_wind_high.add_shape_layer({\n",
    "    'districts': high_districts['districts']\n",
    "}, reference_layer='suitability')\n",
    "\n",
    "india_wind_mid.add_shape_layer({\n",
    "    'districts': mid_districts['districts'],\n",
    "}, reference_layer='suitability')\n",
    "\n",
    "india_wind_low.add_shape_layer({\n",
    "    'districts': low_districts['districts'],\n",
    "}, reference_layer='suitability')\n",
    "\n",
    "\n",
    "india_solar_high.add_shape_layer({\n",
    "    'districts': high_districts['districts'],\n",
    "}, reference_layer='suitability')\n",
    "\n",
    "india_solar_mid.add_shape_layer({\n",
    "    'districts': mid_districts['districts'],\n",
    "}, reference_layer='suitability')\n",
    "\n",
    "india_solar_low.add_shape_layer({\n",
    "    'districts': low_districts['districts'],\n",
    "}, reference_layer='suitability')"
   ]
  },
  {
   "cell_type": "markdown",
   "metadata": {},
   "source": [
    "# Merge Districts + MODIS"
   ]
  },
  {
   "cell_type": "code",
   "execution_count": null,
   "metadata": {
    "scrolled": true
   },
   "outputs": [],
   "source": [
    "india_wind_high.merge_layer(attribute_save = True, layers = ['suitability', 'districts'], method='and')\n",
    "india_wind_mid.merge_layer(attribute_save = True, layers = ['suitability', 'districts'], method='and')\n",
    "india_wind_low.merge_layer(attribute_save = True, layers = ['suitability', 'districts'], method='and')\n",
    "\n",
    "india_solar_high.merge_layer(attribute_save = True, layers = ['suitability', 'districts'], method='and')\n",
    "india_solar_mid.merge_layer(attribute_save = True, layers = ['suitability', 'districts'], method='and')\n",
    "india_solar_low.merge_layer(attribute_save = True, layers = ['suitability', 'districts'], method='and')"
   ]
  },
  {
   "cell_type": "markdown",
   "metadata": {},
   "source": [
    "## States "
   ]
  },
  {
   "cell_type": "code",
   "execution_count": null,
   "metadata": {},
   "outputs": [],
   "source": [
    "def shpreader_path(theme):\n",
    "    '''\n",
    "    Given a theme such as 'admin_1_states_provinces' or 'admin_0_countries', download the dbf/shp/shx data from \n",
    "    https://www.naturalearthdata.com/downloads/10m-cultural-vectors/;\n",
    "    \n",
    "    If the files have been successfully downloaded, return the path to these files that get_shapes() read;\n",
    "    '''\n",
    "    return shpreader.natural_earth(resolution='10m', category='cultural',\n",
    "                                name = theme)"
   ]
  },
  {
   "cell_type": "code",
   "execution_count": null,
   "metadata": {
    "scrolled": true
   },
   "outputs": [],
   "source": [
    "country_path = shpreader_path('admin_0_countries')\n",
    "prov_path = shpreader_path('admin_1_states_provinces')\n",
    "\n",
    "states = geodata.mask.get_shape(prov_path, key = 'name_en', return_dict = True, condition_key = 'admin', \n",
    "                                condition_value = 'India')\n",
    "\n",
    "os.chdir('../shapes')\n",
    "# Include Telangana\n",
    "india = gpd.read_file('gadm36_IND_1.shp')\n",
    "india = india[india['NAME_1'] == 'Telangana']\n",
    "states['Telangana'] = india['geometry'][31]"
   ]
  },
  {
   "cell_type": "code",
   "execution_count": null,
   "metadata": {
    "scrolled": true
   },
   "outputs": [],
   "source": [
    "# export to pickle\n",
    "os.chdir('../pickle')\n",
    "filehandler = open(\"states.pickle\",\"wb\")\n",
    "pickle.dump(states, filehandler)\n",
    "filehandler.close()"
   ]
  },
  {
   "cell_type": "markdown",
   "metadata": {},
   "source": [
    "## Grid Regions"
   ]
  },
  {
   "cell_type": "code",
   "execution_count": null,
   "metadata": {},
   "outputs": [],
   "source": [
    "grid_states = {\n",
    "    \"Northern\": [\"Chandigarh\", \"Delhi\", \"Haryana\", \"Himachal Pradesh\", \"Jammu &  Kashmir\", \n",
    "                 \"Punjab\", \"Rajasthan\", \"Uttar Pradesh\", \"Uttarakhand\"],\n",
    "    \"Eastern\": [\"Bihar\", \"Jharkhand\", \"Orissa\", \"West Bengal\", \"Sikkim\", \"Andaman & Nicobar\"],\n",
    "    \"Western\": [\"Chhattisgarh\", \"Gujarat\", \"Daman & Diu\", \"Dadar & Nagar Haveli\",\n",
    "                \"Madhya Pradesh\", \"Maharashtra\", \"Goa\"],\n",
    "    \"North-Eastern\": [\"Arunachal Pradesh\", \"Assam\", \"Manipur\", \"Meghalaya\", \"Mizoram\", \"Nagaland\", \"Tripura\"],\n",
    "    \"Southern\": [\"Andhra Pradesh\", \"Karnataka\", \"Kerala\", \"Tamil Nadu\", \"Pondicherry\", \"Lakshadweep\"]\n",
    "}"
   ]
  },
  {
   "cell_type": "code",
   "execution_count": null,
   "metadata": {},
   "outputs": [],
   "source": [
    "northern_grid = JPCD_sum[JPCD_sum['State Name'].isin(grid['Northern'])]\n",
    "northern_grid_districts = cascaded_union(northern_grid['Geometry'])\n",
    "\n",
    "eastern_grid = JPCD_sum[JPCD_sum['State Name'].isin(grid['Eastern'])]\n",
    "eastern_grid_districts = cascaded_union(eastern_grid['Geometry'])\n",
    "\n",
    "western_grid = JPCD_sum[JPCD_sum['State Name'].isin(grid['Western'])]\n",
    "western_grid_districts = cascaded_union(western_grid['Geometry'])\n",
    "\n",
    "northeastern_grid = JPCD_sum[JPCD_sum['State Name'].isin(grid['North-Eastern'])]\n",
    "northern_grid_districts = cascaded_union(northeastern_grid['Geometry'])\n",
    "\n",
    "southern_grid = JPCD_sum[JPCD_sum['State Name'].isin(grid['Southern'])]\n",
    "southern_grid_districts = cascaded_union(southern_grid['Geometry'])"
   ]
  },
  {
   "cell_type": "code",
   "execution_count": null,
   "metadata": {},
   "outputs": [],
   "source": [
    "india_wind_high.extract_shapes({x: states[x] for x in high_states if x in states.keys()})\n",
    "india_wind_mid.extract_shapes({x: states[x] for x in mid_states if x in states.keys()})\n",
    "india_wind_low.extract_shapes({x: states[x] for x in low_states if x in states.keys()})\n",
    "\n",
    "india_solar_high.extract_shapes({x: states[x] for x in high_states if x in states.keys()})\n",
    "india_solar_mid.extract_shapes({x: states[x] for x in mid_states if x in states.keys()})\n",
    "india_solar_low.extract_shapes({x: states[x] for x in low_states if x in states.keys()})"
   ]
  },
  {
   "cell_type": "markdown",
   "metadata": {},
   "source": [
    "# Combine Mask with Cutout & Coarsen"
   ]
  },
  {
   "cell_type": "code",
   "execution_count": null,
   "metadata": {},
   "outputs": [],
   "source": [
    "india_wind_high.save_mask()\n",
    "india_wind_mid.save_mask()\n",
    "india_wind_low.save_mask()\n",
    "\n",
    "india_solar_high.save_mask()\n",
    "india_solar_mid.save_mask()\n",
    "india_solar_low.save_mask()"
   ]
  },
  {
   "cell_type": "code",
   "execution_count": null,
   "metadata": {},
   "outputs": [],
   "source": [
    "cutout.add_mask(\"India Wind High\", merged_mask=False, shape_mask=True)\n",
    "cutout.add_grid_area()\n",
    "combine_wind_high = cutout.mask(dataset = xarray_ds_wind)\n",
    "\n",
    "cutout.add_mask(\"India Wind Mid\", merged_mask=False, shape_mask=True)\n",
    "cutout.add_grid_area()\n",
    "combine_wind_mid = cutout.mask(dataset = xarray_ds_wind)\n",
    "\n",
    "cutout.add_mask(\"India Wind Low\", merged_mask=False, shape_mask=True)\n",
    "cutout.add_grid_area()\n",
    "combine_wind_low = cutout.mask(dataset = xarray_ds_wind)\n",
    "\n",
    "\n",
    "cutout.add_mask(\"India Solar High\", merged_mask=False, shape_mask=True)\n",
    "cutout.add_grid_area()\n",
    "combine_solar_high = cutout.mask(dataset = xarray_ds_solar)\n",
    "\n",
    "cutout.add_mask(\"India Solar Mid\", merged_mask=False, shape_mask=True)\n",
    "cutout.add_grid_area()\n",
    "combine_solar_mid = cutout.mask(dataset = xarray_ds_solar)\n",
    "\n",
    "cutout.add_mask(\"India Solar Low\", merged_mask=False, shape_mask=True)\n",
    "cutout.add_grid_area()\n",
    "combine_solar_low = cutout.mask(dataset = xarray_ds_solar)"
   ]
  },
  {
   "cell_type": "code",
   "execution_count": null,
   "metadata": {},
   "outputs": [],
   "source": [
    "# export to pickle\n",
    "filehandler = open(\"combine_wind_high.pickle\",\"wb\")\n",
    "pickle.dump(combine_wind_high, filehandler)\n",
    "filehandler.close()\n",
    "filehandler = open(\"combine_wind_mid.pickle\",\"wb\")\n",
    "pickle.dump(combine_wind_mid, filehandler)\n",
    "filehandler.close()\n",
    "filehandler = open(\"combine_wind_low.pickle\",\"wb\")\n",
    "pickle.dump(combine_wind_low, filehandler)\n",
    "filehandler.close()\n",
    "\n",
    "filehandler = open(\"combine_solar_high.pickle\",\"wb\")\n",
    "pickle.dump(combine_solar_high, filehandler)\n",
    "filehandler.close()\n",
    "filehandler = open(\"combine_solar_mid.pickle\",\"wb\")\n",
    "pickle.dump(combine_solar_mid, filehandler)\n",
    "filehandler.close()\n",
    "filehandler = open(\"combine_solar_low.pickle\",\"wb\")\n",
    "pickle.dump(combine_solar_low, filehandler)\n",
    "filehandler.close()"
   ]
  },
  {
   "cell_type": "markdown",
   "metadata": {},
   "source": [
    "# Renewable Targets"
   ]
  },
  {
   "cell_type": "markdown",
   "metadata": {},
   "source": [
    "## 2030 Targets\n",
    "TERI"
   ]
  },
  {
   "cell_type": "markdown",
   "metadata": {},
   "source": [
    "### Total Wind"
   ]
  },
  {
   "cell_type": "code",
   "execution_count": null,
   "metadata": {
    "scrolled": false
   },
   "outputs": [],
   "source": [
    "sum(wind_t_30.values())"
   ]
  },
  {
   "cell_type": "markdown",
   "metadata": {},
   "source": [
    "###  Total Solar"
   ]
  },
  {
   "cell_type": "code",
   "execution_count": null,
   "metadata": {},
   "outputs": [],
   "source": [
    "sum(solar_t_30.values())"
   ]
  },
  {
   "cell_type": "markdown",
   "metadata": {},
   "source": [
    "###  Total Wind + Solar"
   ]
  },
  {
   "cell_type": "code",
   "execution_count": null,
   "metadata": {
    "scrolled": false
   },
   "outputs": [],
   "source": [
    "sum(solar_t_30.values()) + sum(wind_t_30.values())"
   ]
  },
  {
   "cell_type": "markdown",
   "metadata": {},
   "source": [
    "## 2047 Targets: \n",
    "NREL~Least-Cost Pathways for India’s Electric Power Sector-2020.pdf\n",
    "- 575 GW - solar\n",
    "- 445 GW -  wind"
   ]
  },
  {
   "cell_type": "code",
   "execution_count": null,
   "metadata": {},
   "outputs": [],
   "source": [
    "# wind_t_47 = {key: value * (445 / sum(wind_t_30.values())) for key, value in wind_t_30.items()}\n",
    "# solar_t_47 = {key: value * (575 / sum(solar_t_30.values())) for key, value in solar_t_30.items()}"
   ]
  },
  {
   "cell_type": "markdown",
   "metadata": {},
   "source": [
    "### Total Wind"
   ]
  },
  {
   "cell_type": "code",
   "execution_count": null,
   "metadata": {
    "scrolled": true
   },
   "outputs": [],
   "source": [
    "sum(wind_t_47.values())"
   ]
  },
  {
   "cell_type": "markdown",
   "metadata": {},
   "source": [
    "###  Total Solar"
   ]
  },
  {
   "cell_type": "code",
   "execution_count": null,
   "metadata": {},
   "outputs": [],
   "source": [
    "sum(solar_t_47.values())"
   ]
  },
  {
   "cell_type": "markdown",
   "metadata": {},
   "source": [
    "###  Total Wind + Solar"
   ]
  },
  {
   "cell_type": "code",
   "execution_count": null,
   "metadata": {
    "scrolled": true
   },
   "outputs": [],
   "source": [
    "sum(wind_t_47.values()) + sum(solar_t_47.values())"
   ]
  },
  {
   "cell_type": "code",
   "execution_count": null,
   "metadata": {},
   "outputs": [],
   "source": [
    "# export to pickle\n",
    "filehandler = open(\"wind_t_30.pickle\",\"wb\")\n",
    "pickle.dump(wind_t_30, filehandler)\n",
    "filehandler.close()\n",
    "filehandler = open(\"solar_t_30.pickle\",\"wb\")\n",
    "pickle.dump(solar_t_30, filehandler)\n",
    "filehandler.close()\n",
    "filehandler = open(\"wind_t_47.pickle\",\"wb\")\n",
    "pickle.dump(wind_t_47, filehandler)\n",
    "filehandler.close()\n",
    "filehandler = open(\"solar_t_47.pickle\",\"wb\")\n",
    "pickle.dump(solar_t_47, filehandler)\n",
    "filehandler.close()"
   ]
  },
  {
   "cell_type": "markdown",
   "metadata": {},
   "source": [
    "# Plot CF Supply Curves"
   ]
  },
  {
   "cell_type": "code",
   "execution_count": null,
   "metadata": {},
   "outputs": [],
   "source": [
    "def make_figures(df, col, lcoe):\n",
    "    df = df[df[col] > 0]\n",
    "    if col == 'wind':\n",
    "        df['cap'] = df['area'] * df['mask'] * 3.9 / 1000\n",
    "    else:\n",
    "        df['cap'] = df['area'] * df['mask'] * 27.7 / 1000\n",
    "    if lcoe:\n",
    "        df = df.sort_values(by = 'LCOE ($/MWh)', ascending = True)\n",
    "    else:\n",
    "        df = df.sort_values(by = col, ascending = False)\n",
    "    df = df[df['cap'] > 0]\n",
    "    df['cumsum'] = df['cap'].cumsum()\n",
    "    return df.reset_index(drop=True)\n",
    "\n",
    "def batch_figures(xr_provs, col, level, t_30, t_47, lcoe=False):\n",
    "    dfs = {xr_prov:[] for xr_prov in xr_provs}\n",
    "    for xr_prov in xr_provs:\n",
    "        if xr_prov != 'districts':\n",
    "            df = xr_provs[xr_prov].to_dataframe().reset_index(drop=False)\n",
    "            df = make_figures(df, col, lcoe)\n",
    "            dfs[xr_prov] = df\n",
    "    fig = go.Figure()\n",
    "    if lcoe:\n",
    "        for xr_prov in xr_provs:\n",
    "            if xr_prov != 'districts':\n",
    "                fig.add_trace(\n",
    "                    go.Scatter(\n",
    "                        x=dfs[xr_prov]['cumsum'],\n",
    "                        y=dfs[xr_prov]['LCOE ($/MWh)'],\n",
    "                        mode='lines', \n",
    "                        name=xr_prov,\n",
    "                        showlegend=True\n",
    "                    )\n",
    "                )\n",
    "        fig.update_layout(\n",
    "            title=\"{} LCOE Supply Curves in Provinces with {} Coal Incumbency in India\".format(col.capitalize(), level),\n",
    "            xaxis_title=\"Cumulative Capacity (GW)\",\n",
    "            yaxis_title=\"LCOE ($/MWh)\",\n",
    "            legend_title=\"Provinces\",\n",
    "        )\n",
    "    else:\n",
    "        for xr_prov in xr_provs:\n",
    "            if xr_prov != 'districts':\n",
    "                fig.add_trace(\n",
    "                    go.Scatter(\n",
    "                        x=dfs[xr_prov]['cumsum'],\n",
    "                        y=dfs[xr_prov][col],\n",
    "                        mode='lines', \n",
    "                        name=xr_prov,\n",
    "                        showlegend=True\n",
    "                    )\n",
    "                )      \n",
    "        fig.update_layout(\n",
    "            title=\"{} Capacity Supply Curves in Provinces with {} Coal Incumbency in India\".format(col.capitalize(), level),\n",
    "            xaxis_title=\"Cumulative Capacity (GW)\",\n",
    "            yaxis_title=\"Capacity Factor (%)\",\n",
    "            legend_title=\"Provinces\",\n",
    "        )\n",
    "    fig.add_vline(\n",
    "        x=sum(t_30.values()),\n",
    "        annotation_text=\"Target 2030: {} GW\".format(round(sum(t_30.values()), 2)),\n",
    "        annotation_position='bottom right',\n",
    "        line_dash=\"dash\"\n",
    "    )\n",
    "    fig.add_vline(\n",
    "        x=sum(t_47.values()),\n",
    "        annotation_text=\"Target 2047: {} GW\".format(round(sum(t_47.values()), 2)),\n",
    "        annotation_position='bottom right',\n",
    "        line_dash=\"dash\"\n",
    "    )\n",
    "        \n",
    "    fig.show()\n",
    "\n",
    "    return dfs"
   ]
  },
  {
   "cell_type": "markdown",
   "metadata": {},
   "source": [
    "### Solar"
   ]
  },
  {
   "cell_type": "code",
   "execution_count": null,
   "metadata": {
    "scrolled": false
   },
   "outputs": [],
   "source": [
    "high_solar_dfs = batch_figures(combine_solar_high, 'solar', 'High', solar_t_30, solar_t_47)"
   ]
  },
  {
   "cell_type": "code",
   "execution_count": null,
   "metadata": {},
   "outputs": [],
   "source": [
    "mid_solar_dfs = batch_figures(combine_solar_mid, 'solar', 'Medium', solar_t_30, solar_t_47)"
   ]
  },
  {
   "cell_type": "code",
   "execution_count": null,
   "metadata": {},
   "outputs": [],
   "source": [
    "low_solar_dfs = batch_figures(combine_solar_low, 'solar', 'Low', solar_t_30, solar_t_47)"
   ]
  },
  {
   "cell_type": "markdown",
   "metadata": {},
   "source": [
    "### Wind"
   ]
  },
  {
   "cell_type": "code",
   "execution_count": null,
   "metadata": {
    "scrolled": false
   },
   "outputs": [],
   "source": [
    "high_wind_dfs = batch_figures(combine_wind_high, 'wind', 'High', wind_t_30, wind_t_47)"
   ]
  },
  {
   "cell_type": "code",
   "execution_count": null,
   "metadata": {
    "scrolled": false
   },
   "outputs": [],
   "source": [
    "mid_wind_dfs = batch_figures(combine_wind_mid, 'wind', 'Medium', wind_t_30, wind_t_47)"
   ]
  },
  {
   "cell_type": "code",
   "execution_count": null,
   "metadata": {},
   "outputs": [],
   "source": [
    "low_wind_dfs = batch_figures(combine_wind_low, 'wind', 'Low', wind_t_30, wind_t_47)"
   ]
  },
  {
   "cell_type": "markdown",
   "metadata": {},
   "source": [
    "# Plot LCOE Supply Curves"
   ]
  },
  {
   "cell_type": "markdown",
   "metadata": {},
   "source": [
    "### Solar"
   ]
  },
  {
   "cell_type": "code",
   "execution_count": null,
   "metadata": {},
   "outputs": [],
   "source": [
    "high_solar_dfs_lcoe = batch_figures(combine_solar_high, 'solar', 'High', solar_t_30, solar_t_47, True)"
   ]
  },
  {
   "cell_type": "code",
   "execution_count": null,
   "metadata": {},
   "outputs": [],
   "source": [
    "mid_solar_dfs_lcoe = batch_figures(combine_solar_mid, 'solar', 'Medium', solar_t_30, solar_t_47, True)"
   ]
  },
  {
   "cell_type": "code",
   "execution_count": null,
   "metadata": {},
   "outputs": [],
   "source": [
    "low_solar_dfs_lcoe = batch_figures(combine_solar_low, 'solar', 'Low', solar_t_30, solar_t_47, True)"
   ]
  },
  {
   "cell_type": "markdown",
   "metadata": {},
   "source": [
    "### Wind"
   ]
  },
  {
   "cell_type": "code",
   "execution_count": null,
   "metadata": {
    "scrolled": false
   },
   "outputs": [],
   "source": [
    "high_wind_dfs_lcoe = batch_figures(combine_wind_high, 'wind', 'High', wind_t_30, wind_t_47, True)"
   ]
  },
  {
   "cell_type": "code",
   "execution_count": null,
   "metadata": {
    "scrolled": false
   },
   "outputs": [],
   "source": [
    "mid_wind_dfs_lcoe = batch_figures(combine_wind_mid, 'wind', 'Medium', wind_t_30, wind_t_47, True)"
   ]
  },
  {
   "cell_type": "code",
   "execution_count": null,
   "metadata": {
    "scrolled": false
   },
   "outputs": [],
   "source": [
    "low_wind_dfs_lcoe = batch_figures(combine_wind_low, 'wind', 'Low', wind_t_30, wind_t_47, True)"
   ]
  },
  {
   "cell_type": "markdown",
   "metadata": {},
   "source": [
    "# Plot Figures by State"
   ]
  },
  {
   "cell_type": "code",
   "execution_count": null,
   "metadata": {},
   "outputs": [],
   "source": [
    "def plot_fig_state(restricted_dfs, col, state, level, t_30, t_47, lcoe=False):\n",
    "    fig = go.Figure()\n",
    "    df = restricted_dfs[state]\n",
    "    avg_30 = np.nan\n",
    "    avg_47 = np.nan\n",
    "    if len(df) > 0:\n",
    "        if df['cumsum'].values[0] > t_30[state]:\n",
    "            df_30 = df.head(1)\n",
    "        if df['cumsum'].values[0] > t_47[state]:\n",
    "            df_47 = df.head(1)\n",
    "        if (df['cumsum'].values[0] > t_30[state]) and (df['cumsum'].values[0] < t_47[state]):\n",
    "            df_47 = df[df['cumsum'] <= t_47[state]]\n",
    "        if (df['cumsum'].values[0] < t_30[state]) and (df['cumsum'].values[0] < t_47[state]):\n",
    "            df_30 = df[df['cumsum'] <= t_30[state]]\n",
    "            df_47 = df[df['cumsum'] <= t_47[state]]\n",
    "    else:\n",
    "        return avg_30, avg_47\n",
    "    if sum(df_30['cap']) > 0 and sum(df_47['cap']) > 0:\n",
    "        if lcoe: \n",
    "            avg_30 = round(sum(df_30['cap'] * df_30['LCOE ($/MWh)']) / sum(df_30['cap']), 2)        \n",
    "            avg_47 = round(sum(df_47['cap'] * df_47['LCOE ($/MWh)']) / sum(df_47['cap']), 2)\n",
    "            fig.add_trace(\n",
    "                go.Scatter(\n",
    "                    x=restricted_dfs[state]['cumsum'],\n",
    "                    y=restricted_dfs[state]['LCOE ($/MWh)'],\n",
    "                    name='Restricted Case'\n",
    "                )\n",
    "            )\n",
    "            fig.add_hline(\n",
    "                y=avg_30,\n",
    "                annotation_text=\"Mean LCOE 2030: {} $/MWh\".format(avg_30),\n",
    "                annotation_position='bottom left',\n",
    "                line_dash=\"dash\"\n",
    "            )\n",
    "            fig.add_hline(\n",
    "                y=avg_47,\n",
    "                annotation_text=\"Mean LCOE 2047: {} $/MWh\".format(avg_47),\n",
    "                annotation_position='top left',\n",
    "                line_dash=\"dash\"\n",
    "            )\n",
    "            fig.update_layout(\n",
    "                title=\"{} LCOE Supply Curves in Provinces with {} Coal Incumbency in {}\".format(col.capitalize(), level, state),\n",
    "                xaxis_title=\"Cumulative Capacity (GW)\",\n",
    "                yaxis_title=\"LCOE ($/MWh)\",\n",
    "                legend_title=\"Province\",\n",
    "            )\n",
    "            if col == 'wind':\n",
    "                fig.update_yaxes(\n",
    "                    range=(40, 80)\n",
    "                )\n",
    "        else:\n",
    "            avg_30 = round(sum(df_30['cap'] * df_30[col]) / sum(df_30['cap']), 2)        \n",
    "            avg_47 = round(sum(df_47['cap'] * df_47[col]) / sum(df_47['cap']), 2)\n",
    "            fig.add_trace(\n",
    "                go.Scatter(\n",
    "                    x=restricted_dfs[state]['cumsum'],\n",
    "                    y=restricted_dfs[state][col], \n",
    "                    name='Restricted Case'\n",
    "                )\n",
    "            )\n",
    "            fig.add_hline(\n",
    "                y=avg_30,\n",
    "                annotation_text=\"Mean CF 2030: {}\".format(avg_30),\n",
    "                annotation_position='top left',\n",
    "                line_dash=\"dash\"\n",
    "            )\n",
    "            fig.add_hline(\n",
    "                y=avg_47,\n",
    "                annotation_text=\"Mean CF 2047: {}\".format(avg_47),\n",
    "                annotation_position='bottom left',\n",
    "                line_dash=\"dash\"\n",
    "            )\n",
    "            fig.update_layout(\n",
    "                title=\"{} Capacity Supply Curves in Provinces with {} Coal Incumbency in {}\".format(col.capitalize(), level, state),            \n",
    "                xaxis_title=\"Cumulative Capacity (GW)\",\n",
    "                yaxis_title=\"Capacity Factor (%)\",\n",
    "                legend_title=\"Province\",\n",
    "            )\n",
    "\n",
    "        if t_30[state] > 0 and t_47[state] > 0:\n",
    "            fig.add_vline(\n",
    "                x=t_30[state],\n",
    "                annotation_text=\"Target 2030: {} GW\".format(round(t_30[state], 2)),\n",
    "                annotation_position='bottom right',\n",
    "                line_dash=\"dash\"\n",
    "            )\n",
    "            fig.add_vline(\n",
    "                x=t_47[state],\n",
    "                annotation_text=\"Target 2047: {} GW\".format(round(t_47[state], 2)),\n",
    "                annotation_position='bottom right',\n",
    "                line_dash=\"dash\"\n",
    "            )\n",
    "            if len(restricted_dfs[state]['cumsum']) > 0:\n",
    "                fig.update_xaxes(\n",
    "                    range=(restricted_dfs[state]['cumsum'][0], 55)\n",
    "                )\n",
    "\n",
    "            fig.show()\n",
    "    \n",
    "    return avg_30, avg_47"
   ]
  },
  {
   "cell_type": "markdown",
   "metadata": {},
   "source": [
    "# Get State Averages"
   ]
  },
  {
   "cell_type": "code",
   "execution_count": null,
   "metadata": {
    "scrolled": true
   },
   "outputs": [],
   "source": [
    "averages_wind_2030 = {state: [] for state in states if wind_t_30[state] > 0}\n",
    "averages_solar_2030 = {state: [] for state in states if solar_t_30[state] > 0}\n",
    "\n",
    "averages_wind_2047 = {state: [] for state in states if wind_t_47[state] > 0}\n",
    "averages_solar_2047 = {state: [] for state in states if solar_t_47[state] > 0}\n",
    "\n",
    "for state in states:\n",
    "    if state in high_states:\n",
    "        wind_high_avg_CF = plot_fig_state(high_wind_dfs, 'wind', state, 'High', wind_t_30, wind_t_47)\n",
    "        wind_high_avg_LCOE = plot_fig_state(high_wind_dfs_lcoe, 'wind', state, 'High', wind_t_30, wind_t_47, True)\n",
    "        solar_high_avg_CF = plot_fig_state(high_solar_dfs, 'solar', state, 'High', solar_t_30, solar_t_47)\n",
    "        solar_high_avg_LCOE = plot_fig_state(high_solar_dfs_lcoe, 'solar', state, 'High', solar_t_30, solar_t_47, True)\n",
    "    if state in mid_states:\n",
    "        wind_mid_avg_CF = plot_fig_state(mid_wind_dfs, 'wind', state, 'Mid', wind_t_30, wind_t_47)\n",
    "        wind_mid_avg_LCOE = plot_fig_state(mid_wind_dfs_lcoe, 'wind', state, 'Mid', wind_t_30, wind_t_47, True)\n",
    "        solar_mid_avg_CF = plot_fig_state(mid_solar_dfs, 'solar', state, 'Mid', solar_t_30, solar_t_47)\n",
    "        solar_mid_avg_LCOE = plot_fig_state(mid_solar_dfs_lcoe, 'solar', state, 'Mid', solar_t_30, solar_t_47, True)\n",
    "    if state in low_states:\n",
    "        wind_low_avg_CF = plot_fig_state(low_wind_dfs, 'wind', state, 'Low', wind_t_30, wind_t_47)\n",
    "        wind_low_avg_LCOE = plot_fig_state(low_wind_dfs_lcoe, 'wind', state, 'Low', wind_t_30, wind_t_47, True)\n",
    "        solar_low_avg_CF = plot_fig_state(low_solar_dfs, 'solar', state, 'Low', solar_t_30, solar_t_47)\n",
    "        solar_low_avg_LCOE = plot_fig_state(low_solar_dfs_lcoe, 'solar', state, 'Low', solar_t_30, solar_t_47, True)        \n",
    "    \n",
    "    if wind_t_30[state] > 0: \n",
    "        averages_wind_2030[state] = [wind_high_avg_CF[0], wind_mid_avg_CF[0], wind_low_avg_CF[0], \n",
    "                                     wind_high_avg_LCOE[0], wind_mid_avg_LCOE[0], wind_low_avg_LCOE[0]]\n",
    "    if wind_t_47[state] > 0: \n",
    "        averages_wind_2047[state] = [wind_high_avg_CF[1], wind_mid_avg_CF[1], wind_low_avg_CF[1], \n",
    "                                     wind_high_avg_LCOE[1], wind_mid_avg_LCOE[1], wind_low_avg_LCOE[1]]\n",
    "    if solar_t_30[state] > 0: \n",
    "        averages_solar_2030[state] = [solar_high_avg_CF[0], solar_mid_avg_CF[0], solar_low_avg_CF[0], \n",
    "                                      solar_high_avg_LCOE[0], solar_mid_avg_LCOE[0], solar_low_avg_LCOE[0]]\n",
    "    if solar_t_47[state] > 0: \n",
    "        averages_solar_2047[state] = [solar_high_avg_CF[1], solar_mid_avg_CF[1], solar_low_avg_CF[1], \n",
    "                                      solar_high_avg_LCOE[1], solar_mid_avg_LCOE[1], solar_low_avg_LCOE[1]]"
   ]
  },
  {
   "cell_type": "code",
   "execution_count": null,
   "metadata": {},
   "outputs": [],
   "source": [
    "# make pivot tables\n",
    "pivot_wind_2030 = pd.DataFrame(averages_wind_2030).T\n",
    "pivot_wind_2030.columns = ['wind_high_avg_CF', 'wind_mid_avg_CF', 'wind_low_avg_CF',\n",
    "                       'wind_high_avg_LCOE', 'wind_mid_avg_LCOE', 'wind_low_avg_LCOE']\n",
    "\n",
    "\n",
    "pivot_wind_2047 = pd.DataFrame(averages_wind_2047).T\n",
    "pivot_wind_2047.columns = ['wind_high_avg_CF', 'wind_mid_avg_CF', 'wind_low_avg_CF',\n",
    "                       'wind_high_avg_LCOE', 'wind_mid_avg_LCOE', 'wind_low_avg_LCOE',]\n",
    "\n",
    "pivot_solar_2030 = pd.DataFrame(averages_solar_2047).T\n",
    "pivot_solar_2030.columns = ['solar_high_avg_CF', 'solar_mid_avg_CF', 'solar_low_avg_CF',\n",
    "                       'solar_high_avg_LCOE', 'solar_mid_avg_LCOE', 'solar_low_avg_LCOE']\n",
    "\n",
    "\n",
    "pivot_solar_2047 = pd.DataFrame(averages_solar_2047).T\n",
    "pivot_solar_2047.columns = ['solar_high_avg_CF', 'solar_mid_avg_CF', 'solar_low_avg_CF', \n",
    "                       'solar_high_avg_LCOE', 'solar_mid_avg_LCOE', 'solar_low_avg_LCOE']"
   ]
  },
  {
   "cell_type": "code",
   "execution_count": null,
   "metadata": {
    "scrolled": true
   },
   "outputs": [],
   "source": [
    "# break down into smaller dataframes\n",
    "wind_cf_summary_30 = pivot_wind_2030[['wind_high_avg_CF', 'wind_mid_avg_CF', 'wind_low_avg_CF']]\n",
    "wind_cf_summary_30.columns = ['High', 'Medium', 'Low']\n",
    "\n",
    "wind_lcoe_summary_30 = pivot_wind_2030[['wind_high_avg_LCOE', 'wind_mid_avg_LCOE', 'wind_low_avg_LCOE']]\n",
    "wind_lcoe_summary_30.columns = ['High', 'Medium', 'Low']\n",
    "\n",
    "solar_cf_summary_30 = pivot_solar_2030[['solar_high_avg_CF', 'solar_mid_avg_CF', 'solar_low_avg_CF']]\n",
    "solar_cf_summary_30.columns = ['High', 'Medium', 'Low']\n",
    "\n",
    "solar_lcoe_summary_30 = pivot_solar_2030[['solar_high_avg_LCOE', 'solar_mid_avg_LCOE', 'solar_low_avg_LCOE']]\n",
    "solar_lcoe_summary_30.columns = ['High', 'Medium', 'Low']\n",
    "\n",
    "\n",
    "wind_cf_summary_47 = pivot_wind_2047[['wind_high_avg_CF', 'wind_mid_avg_CF', 'wind_low_avg_CF']]\n",
    "wind_cf_summary_47.columns = ['High', 'Medium', 'Low']\n",
    "\n",
    "wind_lcoe_summary_47 = pivot_wind_2047[['wind_high_avg_LCOE', 'wind_mid_avg_LCOE', 'wind_low_avg_LCOE']]\n",
    "wind_lcoe_summary_47.columns = ['High', 'Medium', 'Low']\n",
    "\n",
    "solar_cf_summary_47 = pivot_solar_2047[['solar_high_avg_CF', 'solar_mid_avg_CF', 'solar_low_avg_CF']]\n",
    "solar_cf_summary_47.columns = ['High', 'Medium', 'Low']\n",
    "\n",
    "solar_lcoe_summary_47 = pivot_solar_2047[['solar_high_avg_LCOE', 'solar_mid_avg_LCOE', 'solar_low_avg_LCOE']]\n",
    "solar_lcoe_summary_47.columns = ['High', 'Medium', 'Low']"
   ]
  },
  {
   "cell_type": "code",
   "execution_count": null,
   "metadata": {},
   "outputs": [],
   "source": [
    "# export to pickle\n",
    "filehandler = open(\"wind_cf_summary_30.pickle\",\"wb\")\n",
    "pickle.dump(wind_cf_summary_30, filehandler)\n",
    "filehandler.close()\n",
    "filehandler = open(\"wind_lcoe_summary_30.pickle\",\"wb\")\n",
    "pickle.dump(wind_lcoe_summary_30, filehandler)\n",
    "filehandler.close()\n",
    "filehandler = open(\"solar_cf_summary_30.pickle\",\"wb\")\n",
    "pickle.dump(solar_cf_summary_30, filehandler)\n",
    "filehandler.close()\n",
    "filehandler = open(\"solar_lcoe_summary_30.pickle\",\"wb\")\n",
    "pickle.dump(solar_lcoe_summary_30, filehandler)\n",
    "filehandler.close()\n",
    "\n",
    "filehandler = open(\"wind_cf_summary_47.pickle\",\"wb\")\n",
    "pickle.dump(wind_cf_summary_47, filehandler)\n",
    "filehandler.close()\n",
    "filehandler = open(\"wind_lcoe_summary_47.pickle\",\"wb\")\n",
    "pickle.dump(wind_lcoe_summary_47, filehandler)\n",
    "filehandler.close()\n",
    "filehandler = open(\"solar_cf_summary_47.pickle\",\"wb\")\n",
    "pickle.dump(solar_cf_summary_47, filehandler)\n",
    "filehandler.close()\n",
    "filehandler = open(\"solar_lcoe_summary_47.pickle\",\"wb\")\n",
    "pickle.dump(solar_lcoe_summary_47, filehandler)\n",
    "filehandler.close()"
   ]
  },
  {
   "cell_type": "code",
   "execution_count": null,
   "metadata": {},
   "outputs": [],
   "source": [
    "# packing factors for sensitivities, -- look at ranges assumed by other papers\n",
    "# be mindful of turbines for packing factors -- potential "
   ]
  },
  {
   "cell_type": "markdown",
   "metadata": {},
   "source": [
    "## Plot 2030 State Averages"
   ]
  },
  {
   "cell_type": "code",
   "execution_count": null,
   "metadata": {},
   "outputs": [],
   "source": [
    "# could pool capacity targets by region -- tells us which regions to prioritize"
   ]
  },
  {
   "cell_type": "code",
   "execution_count": null,
   "metadata": {},
   "outputs": [],
   "source": [
    "# gigawatts per state by solar and wind vs. state targets"
   ]
  },
  {
   "cell_type": "code",
   "execution_count": null,
   "metadata": {},
   "outputs": [],
   "source": [
    "# aggregate LCOE difference between high and low for all states of india "
   ]
  },
  {
   "cell_type": "code",
   "execution_count": null,
   "metadata": {
    "scrolled": false
   },
   "outputs": [],
   "source": [
    "# plot heatmap\n",
    "fig, ax = plt.subplots(figsize=(10,10))         \n",
    "ax = sns.heatmap(wind_cf_summary_30, annot=True, fmt=\".4\", cmap=\"YlGnBu\")\n",
    "plt.title(\"Average State Wind CFs by Coal Incumbency Scenario in 2030\")"
   ]
  },
  {
   "cell_type": "code",
   "execution_count": null,
   "metadata": {},
   "outputs": [],
   "source": [
    "# plot heatmap\n",
    "fig, ax = plt.subplots(figsize=(10,10))         \n",
    "ax = sns.heatmap(wind_lcoe_summary_30, annot=True, fmt=\".4\", cmap=\"YlGnBu\")\n",
    "plt.title(\"Average State Wind LCOE ($/MWh) by Coal Incumbency Scenario in 2030\")"
   ]
  },
  {
   "cell_type": "code",
   "execution_count": null,
   "metadata": {},
   "outputs": [],
   "source": [
    "# wind 2030 insights\n",
    "\n",
    "# - Significantly cheaper to build in high CI scenario in the North: Gujarat, West Bengal, Uttarakhand, Rajasthan\n",
    "# - Significantly cheaper to build in the low CI scenario in the South: Andhra, Karnataka, Kerala, Tamil Nadu\n",
    "\n",
    "# limited land availability exhausts resources very quickly -- forces low quality resources\n",
    "\n",
    "# Could produce a map of states from this -- difference between high and low -- some positive and some negative"
   ]
  },
  {
   "cell_type": "code",
   "execution_count": null,
   "metadata": {},
   "outputs": [],
   "source": [
    "# plot heatmap\n",
    "fig, ax = plt.subplots(figsize=(10,10))         \n",
    "ax = sns.heatmap(solar_cf_summary_30, annot=True, fmt=\".4\", cmap=\"YlGnBu\")\n",
    "plt.title(\"Average State Solar CFs by Coal Incumbency Scenario in 2030\")"
   ]
  },
  {
   "cell_type": "code",
   "execution_count": null,
   "metadata": {},
   "outputs": [],
   "source": [
    "# plot heatmap\n",
    "fig, ax = plt.subplots(figsize=(10,10))         \n",
    "ax = sns.heatmap(solar_lcoe_summary_30, annot=True, fmt=\".4\", cmap=\"YlGnBu\")\n",
    "plt.title(\"Average State Solar LCOE ($/MWh) by Coal Incumbency Scenario in 2030\")"
   ]
  },
  {
   "cell_type": "code",
   "execution_count": null,
   "metadata": {},
   "outputs": [],
   "source": [
    "# - Very slightly cheaper to build in high CI scenario in the North: Gujarat, West Bengal, Uttarakhand, Rajasthan\n",
    "# - Very slightlt cheaper to build in the low CI scenario in the South: Andhra, Karnataka, Kerala, Tamil Nadu"
   ]
  },
  {
   "cell_type": "markdown",
   "metadata": {},
   "source": [
    "## Plot 2047 State Averages"
   ]
  },
  {
   "cell_type": "code",
   "execution_count": null,
   "metadata": {
    "scrolled": false
   },
   "outputs": [],
   "source": [
    "# plot heatmap\n",
    "fig, ax = plt.subplots(figsize=(10,10))         \n",
    "ax = sns.heatmap(wind_cf_summary_47, annot=True, fmt=\".4\", cmap=\"YlGnBu\")\n",
    "plt.title(\"Average State Wind CFs by Coal Incumbency Scenario in 2047\")"
   ]
  },
  {
   "cell_type": "code",
   "execution_count": null,
   "metadata": {},
   "outputs": [],
   "source": [
    "# plot heatmap\n",
    "fig, ax = plt.subplots(figsize=(10,10))         \n",
    "ax = sns.heatmap(wind_lcoe_summary_47, annot=True, fmt=\".4\", cmap=\"YlGnBu\")\n",
    "plt.title(\"Average State Wind LCOE ($/MWh) by Coal Incumbency Scenario in 2047\")"
   ]
  },
  {
   "cell_type": "code",
   "execution_count": null,
   "metadata": {},
   "outputs": [],
   "source": [
    "# wind 2047 insights\n",
    "# - Significantly cheaper to build in high CI scenario in the North: Gujarat, West Bengal, Uttarakhand, Rajasthan\n",
    "# - Significantly cheaper to build in the low CI scenario in the South: Andhra, Karnataka, Kerala, Tamil Nadu"
   ]
  },
  {
   "cell_type": "code",
   "execution_count": null,
   "metadata": {
    "scrolled": false
   },
   "outputs": [],
   "source": [
    "# plot heatmap\n",
    "fig, ax = plt.subplots(figsize=(10,10))         \n",
    "ax = sns.heatmap(solar_cf_summary_47, annot=True, fmt=\".4\", cmap=\"YlGnBu\")\n",
    "plt.title(\"Average State Solar CFs by Coal Incumbency Scenario in 2047\")"
   ]
  },
  {
   "cell_type": "code",
   "execution_count": null,
   "metadata": {
    "scrolled": false
   },
   "outputs": [],
   "source": [
    "# plot heatmap\n",
    "fig, ax = plt.subplots(figsize=(10,10))         \n",
    "ax = sns.heatmap(solar_lcoe_summary_47, annot=True, fmt=\".4\", cmap=\"YlGnBu\")\n",
    "plt.title(\"Average State Solar LCOE ($/MWh) by Coal Incumbency Scenario in 2047\")"
   ]
  },
  {
   "cell_type": "code",
   "execution_count": null,
   "metadata": {},
   "outputs": [],
   "source": [
    "# solar 2047 insights\n",
    "# - Significantly cheaper to build in high CI scenario in the North: Gujarat, West Bengal, Arunachal\n",
    "# - Slightly cheaper to build in the low CI scenario in the South: Andhra, Karnataka, Kerala, Tamil Nadu"
   ]
  }
 ],
 "metadata": {
  "kernelspec": {
   "display_name": "Python 3",
   "language": "python",
   "name": "python3"
  },
  "language_info": {
   "codemirror_mode": {
    "name": "ipython",
    "version": 3
   },
   "file_extension": ".py",
   "mimetype": "text/x-python",
   "name": "python",
   "nbconvert_exporter": "python",
   "pygments_lexer": "ipython3",
   "version": "3.7.9"
  }
 },
 "nbformat": 4,
 "nbformat_minor": 4
}
